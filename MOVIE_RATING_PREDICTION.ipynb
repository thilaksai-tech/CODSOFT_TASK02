{
  "cells": [
    {
      "cell_type": "code",
      "execution_count": 3,
      "metadata": {
        "id": "sPLcfckYEG3G"
      },
      "outputs": [],
      "source": [
        "import numpy as np\n",
        "import pandas as pd\n",
        "import matplotlib.pyplot as plt\n",
        "import seaborn as sns\n",
        "import plotly.express as px"
      ]
    },
    {
      "cell_type": "code",
      "execution_count": 5,
      "metadata": {
        "id": "uwdLRs0wEf8b"
      },
      "outputs": [],
      "source": [
        "df = pd.read_csv(\"IMDb Movies India.csv\", encoding='latin-1')"
      ]
    },
    {
      "cell_type": "code",
      "execution_count": 6,
      "metadata": {
        "colab": {
          "base_uri": "https://localhost:8080/",
          "height": 597
        },
        "id": "G7G_qa7yE8OP",
        "outputId": "16ac6b3d-912c-4c71-9b07-a08ec0b9c9a4"
      },
      "outputs": [
        {
          "data": {
            "application/vnd.google.colaboratory.intrinsic+json": {
              "summary": "{\n  \"name\": \"df\",\n  \"rows\": 15509,\n  \"fields\": [\n    {\n      \"column\": \"Name\",\n      \"properties\": {\n        \"dtype\": \"string\",\n        \"num_unique_values\": 13838,\n        \"samples\": [\n          \"Tumsa Nahin Dekha\",\n          \"Thanedaar\",\n          \"Farzande Hind\"\n        ],\n        \"semantic_type\": \"\",\n        \"description\": \"\"\n      }\n    },\n    {\n      \"column\": \"Year\",\n      \"properties\": {\n        \"dtype\": \"category\",\n        \"num_unique_values\": 102,\n        \"samples\": [\n          \"(1974)\",\n          \"(1963)\",\n          \"(1971)\"\n        ],\n        \"semantic_type\": \"\",\n        \"description\": \"\"\n      }\n    },\n    {\n      \"column\": \"Duration\",\n      \"properties\": {\n        \"dtype\": \"category\",\n        \"num_unique_values\": 182,\n        \"samples\": [\n          \"168 min\",\n          \"99 min\",\n          \"179 min\"\n        ],\n        \"semantic_type\": \"\",\n        \"description\": \"\"\n      }\n    },\n    {\n      \"column\": \"Genre\",\n      \"properties\": {\n        \"dtype\": \"category\",\n        \"num_unique_values\": 485,\n        \"samples\": [\n          \"Family, Mystery\",\n          \"Comedy, Fantasy, Musical\",\n          \"Action, Adventure, Crime\"\n        ],\n        \"semantic_type\": \"\",\n        \"description\": \"\"\n      }\n    },\n    {\n      \"column\": \"Rating\",\n      \"properties\": {\n        \"dtype\": \"number\",\n        \"std\": 1.3817771548659665,\n        \"min\": 1.1,\n        \"max\": 10.0,\n        \"num_unique_values\": 84,\n        \"samples\": [\n          1.4,\n          7.0,\n          2.9\n        ],\n        \"semantic_type\": \"\",\n        \"description\": \"\"\n      }\n    },\n    {\n      \"column\": \"Votes\",\n      \"properties\": {\n        \"dtype\": \"category\",\n        \"num_unique_values\": 2034,\n        \"samples\": [\n          \"837\",\n          \"101\",\n          \"2,566\"\n        ],\n        \"semantic_type\": \"\",\n        \"description\": \"\"\n      }\n    },\n    {\n      \"column\": \"Director\",\n      \"properties\": {\n        \"dtype\": \"category\",\n        \"num_unique_values\": 5938,\n        \"samples\": [\n          \"Param Hans Chitra\",\n          \"Vickram\",\n          \"Zaigham Ali Syed\"\n        ],\n        \"semantic_type\": \"\",\n        \"description\": \"\"\n      }\n    },\n    {\n      \"column\": \"Actor 1\",\n      \"properties\": {\n        \"dtype\": \"category\",\n        \"num_unique_values\": 4718,\n        \"samples\": [\n          \"Abhishek Bachchan\",\n          \"Giri Babu\",\n          \"Ajay Bafna\"\n        ],\n        \"semantic_type\": \"\",\n        \"description\": \"\"\n      }\n    },\n    {\n      \"column\": \"Actor 2\",\n      \"properties\": {\n        \"dtype\": \"category\",\n        \"num_unique_values\": 4891,\n        \"samples\": [\n          \"Bipasha Basu\",\n          \"Mukul Dev\",\n          \"Arjun Kapoor\"\n        ],\n        \"semantic_type\": \"\",\n        \"description\": \"\"\n      }\n    },\n    {\n      \"column\": \"Actor 3\",\n      \"properties\": {\n        \"dtype\": \"category\",\n        \"num_unique_values\": 4820,\n        \"samples\": [\n          \"Damandeep Singh\",\n          \"Kamini Kaushal\",\n          \"Babu\"\n        ],\n        \"semantic_type\": \"\",\n        \"description\": \"\"\n      }\n    }\n  ]\n}",
              "type": "dataframe",
              "variable_name": "df"
            },
            "text/html": [
              "\n",
              "  <div id=\"df-728d9c12-f3ea-4a01-87d9-f1394e53a549\" class=\"colab-df-container\">\n",
              "    <div>\n",
              "<style scoped>\n",
              "    .dataframe tbody tr th:only-of-type {\n",
              "        vertical-align: middle;\n",
              "    }\n",
              "\n",
              "    .dataframe tbody tr th {\n",
              "        vertical-align: top;\n",
              "    }\n",
              "\n",
              "    .dataframe thead th {\n",
              "        text-align: right;\n",
              "    }\n",
              "</style>\n",
              "<table border=\"1\" class=\"dataframe\">\n",
              "  <thead>\n",
              "    <tr style=\"text-align: right;\">\n",
              "      <th></th>\n",
              "      <th>Name</th>\n",
              "      <th>Year</th>\n",
              "      <th>Duration</th>\n",
              "      <th>Genre</th>\n",
              "      <th>Rating</th>\n",
              "      <th>Votes</th>\n",
              "      <th>Director</th>\n",
              "      <th>Actor 1</th>\n",
              "      <th>Actor 2</th>\n",
              "      <th>Actor 3</th>\n",
              "    </tr>\n",
              "  </thead>\n",
              "  <tbody>\n",
              "    <tr>\n",
              "      <th>0</th>\n",
              "      <td></td>\n",
              "      <td>NaN</td>\n",
              "      <td>NaN</td>\n",
              "      <td>Drama</td>\n",
              "      <td>NaN</td>\n",
              "      <td>NaN</td>\n",
              "      <td>J.S. Randhawa</td>\n",
              "      <td>Manmauji</td>\n",
              "      <td>Birbal</td>\n",
              "      <td>Rajendra Bhatia</td>\n",
              "    </tr>\n",
              "    <tr>\n",
              "      <th>1</th>\n",
              "      <td>#Gadhvi (He thought he was Gandhi)</td>\n",
              "      <td>(2019)</td>\n",
              "      <td>109 min</td>\n",
              "      <td>Drama</td>\n",
              "      <td>7.0</td>\n",
              "      <td>8</td>\n",
              "      <td>Gaurav Bakshi</td>\n",
              "      <td>Rasika Dugal</td>\n",
              "      <td>Vivek Ghamande</td>\n",
              "      <td>Arvind Jangid</td>\n",
              "    </tr>\n",
              "    <tr>\n",
              "      <th>2</th>\n",
              "      <td>#Homecoming</td>\n",
              "      <td>(2021)</td>\n",
              "      <td>90 min</td>\n",
              "      <td>Drama, Musical</td>\n",
              "      <td>NaN</td>\n",
              "      <td>NaN</td>\n",
              "      <td>Soumyajit Majumdar</td>\n",
              "      <td>Sayani Gupta</td>\n",
              "      <td>Plabita Borthakur</td>\n",
              "      <td>Roy Angana</td>\n",
              "    </tr>\n",
              "    <tr>\n",
              "      <th>3</th>\n",
              "      <td>#Yaaram</td>\n",
              "      <td>(2019)</td>\n",
              "      <td>110 min</td>\n",
              "      <td>Comedy, Romance</td>\n",
              "      <td>4.4</td>\n",
              "      <td>35</td>\n",
              "      <td>Ovais Khan</td>\n",
              "      <td>Prateik</td>\n",
              "      <td>Ishita Raj</td>\n",
              "      <td>Siddhant Kapoor</td>\n",
              "    </tr>\n",
              "    <tr>\n",
              "      <th>4</th>\n",
              "      <td>...And Once Again</td>\n",
              "      <td>(2010)</td>\n",
              "      <td>105 min</td>\n",
              "      <td>Drama</td>\n",
              "      <td>NaN</td>\n",
              "      <td>NaN</td>\n",
              "      <td>Amol Palekar</td>\n",
              "      <td>Rajat Kapoor</td>\n",
              "      <td>Rituparna Sengupta</td>\n",
              "      <td>Antara Mali</td>\n",
              "    </tr>\n",
              "    <tr>\n",
              "      <th>...</th>\n",
              "      <td>...</td>\n",
              "      <td>...</td>\n",
              "      <td>...</td>\n",
              "      <td>...</td>\n",
              "      <td>...</td>\n",
              "      <td>...</td>\n",
              "      <td>...</td>\n",
              "      <td>...</td>\n",
              "      <td>...</td>\n",
              "      <td>...</td>\n",
              "    </tr>\n",
              "    <tr>\n",
              "      <th>15504</th>\n",
              "      <td>Zulm Ko Jala Doonga</td>\n",
              "      <td>(1988)</td>\n",
              "      <td>NaN</td>\n",
              "      <td>Action</td>\n",
              "      <td>4.6</td>\n",
              "      <td>11</td>\n",
              "      <td>Mahendra Shah</td>\n",
              "      <td>Naseeruddin Shah</td>\n",
              "      <td>Sumeet Saigal</td>\n",
              "      <td>Suparna Anand</td>\n",
              "    </tr>\n",
              "    <tr>\n",
              "      <th>15505</th>\n",
              "      <td>Zulmi</td>\n",
              "      <td>(1999)</td>\n",
              "      <td>129 min</td>\n",
              "      <td>Action, Drama</td>\n",
              "      <td>4.5</td>\n",
              "      <td>655</td>\n",
              "      <td>Kuku Kohli</td>\n",
              "      <td>Akshay Kumar</td>\n",
              "      <td>Twinkle Khanna</td>\n",
              "      <td>Aruna Irani</td>\n",
              "    </tr>\n",
              "    <tr>\n",
              "      <th>15506</th>\n",
              "      <td>Zulmi Raj</td>\n",
              "      <td>(2005)</td>\n",
              "      <td>NaN</td>\n",
              "      <td>Action</td>\n",
              "      <td>NaN</td>\n",
              "      <td>NaN</td>\n",
              "      <td>Kiran Thej</td>\n",
              "      <td>Sangeeta Tiwari</td>\n",
              "      <td>NaN</td>\n",
              "      <td>NaN</td>\n",
              "    </tr>\n",
              "    <tr>\n",
              "      <th>15507</th>\n",
              "      <td>Zulmi Shikari</td>\n",
              "      <td>(1988)</td>\n",
              "      <td>NaN</td>\n",
              "      <td>Action</td>\n",
              "      <td>NaN</td>\n",
              "      <td>NaN</td>\n",
              "      <td>NaN</td>\n",
              "      <td>NaN</td>\n",
              "      <td>NaN</td>\n",
              "      <td>NaN</td>\n",
              "    </tr>\n",
              "    <tr>\n",
              "      <th>15508</th>\n",
              "      <td>Zulm-O-Sitam</td>\n",
              "      <td>(1998)</td>\n",
              "      <td>130 min</td>\n",
              "      <td>Action, Drama</td>\n",
              "      <td>6.2</td>\n",
              "      <td>20</td>\n",
              "      <td>K.C. Bokadia</td>\n",
              "      <td>Dharmendra</td>\n",
              "      <td>Jaya Prada</td>\n",
              "      <td>Arjun Sarja</td>\n",
              "    </tr>\n",
              "  </tbody>\n",
              "</table>\n",
              "<p>15509 rows × 10 columns</p>\n",
              "</div>\n",
              "    <div class=\"colab-df-buttons\">\n",
              "\n",
              "  <div class=\"colab-df-container\">\n",
              "    <button class=\"colab-df-convert\" onclick=\"convertToInteractive('df-728d9c12-f3ea-4a01-87d9-f1394e53a549')\"\n",
              "            title=\"Convert this dataframe to an interactive table.\"\n",
              "            style=\"display:none;\">\n",
              "\n",
              "  <svg xmlns=\"http://www.w3.org/2000/svg\" height=\"24px\" viewBox=\"0 -960 960 960\">\n",
              "    <path d=\"M120-120v-720h720v720H120Zm60-500h600v-160H180v160Zm220 220h160v-160H400v160Zm0 220h160v-160H400v160ZM180-400h160v-160H180v160Zm440 0h160v-160H620v160ZM180-180h160v-160H180v160Zm440 0h160v-160H620v160Z\"/>\n",
              "  </svg>\n",
              "    </button>\n",
              "\n",
              "  <style>\n",
              "    .colab-df-container {\n",
              "      display:flex;\n",
              "      gap: 12px;\n",
              "    }\n",
              "\n",
              "    .colab-df-convert {\n",
              "      background-color: #E8F0FE;\n",
              "      border: none;\n",
              "      border-radius: 50%;\n",
              "      cursor: pointer;\n",
              "      display: none;\n",
              "      fill: #1967D2;\n",
              "      height: 32px;\n",
              "      padding: 0 0 0 0;\n",
              "      width: 32px;\n",
              "    }\n",
              "\n",
              "    .colab-df-convert:hover {\n",
              "      background-color: #E2EBFA;\n",
              "      box-shadow: 0px 1px 2px rgba(60, 64, 67, 0.3), 0px 1px 3px 1px rgba(60, 64, 67, 0.15);\n",
              "      fill: #174EA6;\n",
              "    }\n",
              "\n",
              "    .colab-df-buttons div {\n",
              "      margin-bottom: 4px;\n",
              "    }\n",
              "\n",
              "    [theme=dark] .colab-df-convert {\n",
              "      background-color: #3B4455;\n",
              "      fill: #D2E3FC;\n",
              "    }\n",
              "\n",
              "    [theme=dark] .colab-df-convert:hover {\n",
              "      background-color: #434B5C;\n",
              "      box-shadow: 0px 1px 3px 1px rgba(0, 0, 0, 0.15);\n",
              "      filter: drop-shadow(0px 1px 2px rgba(0, 0, 0, 0.3));\n",
              "      fill: #FFFFFF;\n",
              "    }\n",
              "  </style>\n",
              "\n",
              "    <script>\n",
              "      const buttonEl =\n",
              "        document.querySelector('#df-728d9c12-f3ea-4a01-87d9-f1394e53a549 button.colab-df-convert');\n",
              "      buttonEl.style.display =\n",
              "        google.colab.kernel.accessAllowed ? 'block' : 'none';\n",
              "\n",
              "      async function convertToInteractive(key) {\n",
              "        const element = document.querySelector('#df-728d9c12-f3ea-4a01-87d9-f1394e53a549');\n",
              "        const dataTable =\n",
              "          await google.colab.kernel.invokeFunction('convertToInteractive',\n",
              "                                                    [key], {});\n",
              "        if (!dataTable) return;\n",
              "\n",
              "        const docLinkHtml = 'Like what you see? Visit the ' +\n",
              "          '<a target=\"_blank\" href=https://colab.research.google.com/notebooks/data_table.ipynb>data table notebook</a>'\n",
              "          + ' to learn more about interactive tables.';\n",
              "        element.innerHTML = '';\n",
              "        dataTable['output_type'] = 'display_data';\n",
              "        await google.colab.output.renderOutput(dataTable, element);\n",
              "        const docLink = document.createElement('div');\n",
              "        docLink.innerHTML = docLinkHtml;\n",
              "        element.appendChild(docLink);\n",
              "      }\n",
              "    </script>\n",
              "  </div>\n",
              "\n",
              "\n",
              "<div id=\"df-1fcff8f3-7196-4a39-9420-306df3a1f025\">\n",
              "  <button class=\"colab-df-quickchart\" onclick=\"quickchart('df-1fcff8f3-7196-4a39-9420-306df3a1f025')\"\n",
              "            title=\"Suggest charts\"\n",
              "            style=\"display:none;\">\n",
              "\n",
              "<svg xmlns=\"http://www.w3.org/2000/svg\" height=\"24px\"viewBox=\"0 0 24 24\"\n",
              "     width=\"24px\">\n",
              "    <g>\n",
              "        <path d=\"M19 3H5c-1.1 0-2 .9-2 2v14c0 1.1.9 2 2 2h14c1.1 0 2-.9 2-2V5c0-1.1-.9-2-2-2zM9 17H7v-7h2v7zm4 0h-2V7h2v10zm4 0h-2v-4h2v4z\"/>\n",
              "    </g>\n",
              "</svg>\n",
              "  </button>\n",
              "\n",
              "<style>\n",
              "  .colab-df-quickchart {\n",
              "      --bg-color: #E8F0FE;\n",
              "      --fill-color: #1967D2;\n",
              "      --hover-bg-color: #E2EBFA;\n",
              "      --hover-fill-color: #174EA6;\n",
              "      --disabled-fill-color: #AAA;\n",
              "      --disabled-bg-color: #DDD;\n",
              "  }\n",
              "\n",
              "  [theme=dark] .colab-df-quickchart {\n",
              "      --bg-color: #3B4455;\n",
              "      --fill-color: #D2E3FC;\n",
              "      --hover-bg-color: #434B5C;\n",
              "      --hover-fill-color: #FFFFFF;\n",
              "      --disabled-bg-color: #3B4455;\n",
              "      --disabled-fill-color: #666;\n",
              "  }\n",
              "\n",
              "  .colab-df-quickchart {\n",
              "    background-color: var(--bg-color);\n",
              "    border: none;\n",
              "    border-radius: 50%;\n",
              "    cursor: pointer;\n",
              "    display: none;\n",
              "    fill: var(--fill-color);\n",
              "    height: 32px;\n",
              "    padding: 0;\n",
              "    width: 32px;\n",
              "  }\n",
              "\n",
              "  .colab-df-quickchart:hover {\n",
              "    background-color: var(--hover-bg-color);\n",
              "    box-shadow: 0 1px 2px rgba(60, 64, 67, 0.3), 0 1px 3px 1px rgba(60, 64, 67, 0.15);\n",
              "    fill: var(--button-hover-fill-color);\n",
              "  }\n",
              "\n",
              "  .colab-df-quickchart-complete:disabled,\n",
              "  .colab-df-quickchart-complete:disabled:hover {\n",
              "    background-color: var(--disabled-bg-color);\n",
              "    fill: var(--disabled-fill-color);\n",
              "    box-shadow: none;\n",
              "  }\n",
              "\n",
              "  .colab-df-spinner {\n",
              "    border: 2px solid var(--fill-color);\n",
              "    border-color: transparent;\n",
              "    border-bottom-color: var(--fill-color);\n",
              "    animation:\n",
              "      spin 1s steps(1) infinite;\n",
              "  }\n",
              "\n",
              "  @keyframes spin {\n",
              "    0% {\n",
              "      border-color: transparent;\n",
              "      border-bottom-color: var(--fill-color);\n",
              "      border-left-color: var(--fill-color);\n",
              "    }\n",
              "    20% {\n",
              "      border-color: transparent;\n",
              "      border-left-color: var(--fill-color);\n",
              "      border-top-color: var(--fill-color);\n",
              "    }\n",
              "    30% {\n",
              "      border-color: transparent;\n",
              "      border-left-color: var(--fill-color);\n",
              "      border-top-color: var(--fill-color);\n",
              "      border-right-color: var(--fill-color);\n",
              "    }\n",
              "    40% {\n",
              "      border-color: transparent;\n",
              "      border-right-color: var(--fill-color);\n",
              "      border-top-color: var(--fill-color);\n",
              "    }\n",
              "    60% {\n",
              "      border-color: transparent;\n",
              "      border-right-color: var(--fill-color);\n",
              "    }\n",
              "    80% {\n",
              "      border-color: transparent;\n",
              "      border-right-color: var(--fill-color);\n",
              "      border-bottom-color: var(--fill-color);\n",
              "    }\n",
              "    90% {\n",
              "      border-color: transparent;\n",
              "      border-bottom-color: var(--fill-color);\n",
              "    }\n",
              "  }\n",
              "</style>\n",
              "\n",
              "  <script>\n",
              "    async function quickchart(key) {\n",
              "      const quickchartButtonEl =\n",
              "        document.querySelector('#' + key + ' button');\n",
              "      quickchartButtonEl.disabled = true;  // To prevent multiple clicks.\n",
              "      quickchartButtonEl.classList.add('colab-df-spinner');\n",
              "      try {\n",
              "        const charts = await google.colab.kernel.invokeFunction(\n",
              "            'suggestCharts', [key], {});\n",
              "      } catch (error) {\n",
              "        console.error('Error during call to suggestCharts:', error);\n",
              "      }\n",
              "      quickchartButtonEl.classList.remove('colab-df-spinner');\n",
              "      quickchartButtonEl.classList.add('colab-df-quickchart-complete');\n",
              "    }\n",
              "    (() => {\n",
              "      let quickchartButtonEl =\n",
              "        document.querySelector('#df-1fcff8f3-7196-4a39-9420-306df3a1f025 button');\n",
              "      quickchartButtonEl.style.display =\n",
              "        google.colab.kernel.accessAllowed ? 'block' : 'none';\n",
              "    })();\n",
              "  </script>\n",
              "</div>\n",
              "\n",
              "  <div id=\"id_26eeea4e-1a2d-4225-b412-19ccbdb954bf\">\n",
              "    <style>\n",
              "      .colab-df-generate {\n",
              "        background-color: #E8F0FE;\n",
              "        border: none;\n",
              "        border-radius: 50%;\n",
              "        cursor: pointer;\n",
              "        display: none;\n",
              "        fill: #1967D2;\n",
              "        height: 32px;\n",
              "        padding: 0 0 0 0;\n",
              "        width: 32px;\n",
              "      }\n",
              "\n",
              "      .colab-df-generate:hover {\n",
              "        background-color: #E2EBFA;\n",
              "        box-shadow: 0px 1px 2px rgba(60, 64, 67, 0.3), 0px 1px 3px 1px rgba(60, 64, 67, 0.15);\n",
              "        fill: #174EA6;\n",
              "      }\n",
              "\n",
              "      [theme=dark] .colab-df-generate {\n",
              "        background-color: #3B4455;\n",
              "        fill: #D2E3FC;\n",
              "      }\n",
              "\n",
              "      [theme=dark] .colab-df-generate:hover {\n",
              "        background-color: #434B5C;\n",
              "        box-shadow: 0px 1px 3px 1px rgba(0, 0, 0, 0.15);\n",
              "        filter: drop-shadow(0px 1px 2px rgba(0, 0, 0, 0.3));\n",
              "        fill: #FFFFFF;\n",
              "      }\n",
              "    </style>\n",
              "    <button class=\"colab-df-generate\" onclick=\"generateWithVariable('df')\"\n",
              "            title=\"Generate code using this dataframe.\"\n",
              "            style=\"display:none;\">\n",
              "\n",
              "  <svg xmlns=\"http://www.w3.org/2000/svg\" height=\"24px\"viewBox=\"0 0 24 24\"\n",
              "       width=\"24px\">\n",
              "    <path d=\"M7,19H8.4L18.45,9,17,7.55,7,17.6ZM5,21V16.75L18.45,3.32a2,2,0,0,1,2.83,0l1.4,1.43a1.91,1.91,0,0,1,.58,1.4,1.91,1.91,0,0,1-.58,1.4L9.25,21ZM18.45,9,17,7.55Zm-12,3A5.31,5.31,0,0,0,4.9,8.1,5.31,5.31,0,0,0,1,6.5,5.31,5.31,0,0,0,4.9,4.9,5.31,5.31,0,0,0,6.5,1,5.31,5.31,0,0,0,8.1,4.9,5.31,5.31,0,0,0,12,6.5,5.46,5.46,0,0,0,6.5,12Z\"/>\n",
              "  </svg>\n",
              "    </button>\n",
              "    <script>\n",
              "      (() => {\n",
              "      const buttonEl =\n",
              "        document.querySelector('#id_26eeea4e-1a2d-4225-b412-19ccbdb954bf button.colab-df-generate');\n",
              "      buttonEl.style.display =\n",
              "        google.colab.kernel.accessAllowed ? 'block' : 'none';\n",
              "\n",
              "      buttonEl.onclick = () => {\n",
              "        google.colab.notebook.generateWithVariable('df');\n",
              "      }\n",
              "      })();\n",
              "    </script>\n",
              "  </div>\n",
              "\n",
              "    </div>\n",
              "  </div>\n"
            ],
            "text/plain": [
              "                                     Name    Year Duration            Genre  \\\n",
              "0                                             NaN      NaN            Drama   \n",
              "1      #Gadhvi (He thought he was Gandhi)  (2019)  109 min            Drama   \n",
              "2                             #Homecoming  (2021)   90 min   Drama, Musical   \n",
              "3                                 #Yaaram  (2019)  110 min  Comedy, Romance   \n",
              "4                       ...And Once Again  (2010)  105 min            Drama   \n",
              "...                                   ...     ...      ...              ...   \n",
              "15504                 Zulm Ko Jala Doonga  (1988)      NaN           Action   \n",
              "15505                               Zulmi  (1999)  129 min    Action, Drama   \n",
              "15506                           Zulmi Raj  (2005)      NaN           Action   \n",
              "15507                       Zulmi Shikari  (1988)      NaN           Action   \n",
              "15508                        Zulm-O-Sitam  (1998)  130 min    Action, Drama   \n",
              "\n",
              "       Rating Votes            Director           Actor 1             Actor 2  \\\n",
              "0         NaN   NaN       J.S. Randhawa          Manmauji              Birbal   \n",
              "1         7.0     8       Gaurav Bakshi      Rasika Dugal      Vivek Ghamande   \n",
              "2         NaN   NaN  Soumyajit Majumdar      Sayani Gupta   Plabita Borthakur   \n",
              "3         4.4    35          Ovais Khan           Prateik          Ishita Raj   \n",
              "4         NaN   NaN        Amol Palekar      Rajat Kapoor  Rituparna Sengupta   \n",
              "...       ...   ...                 ...               ...                 ...   \n",
              "15504     4.6    11       Mahendra Shah  Naseeruddin Shah       Sumeet Saigal   \n",
              "15505     4.5   655          Kuku Kohli      Akshay Kumar      Twinkle Khanna   \n",
              "15506     NaN   NaN          Kiran Thej   Sangeeta Tiwari                 NaN   \n",
              "15507     NaN   NaN                 NaN               NaN                 NaN   \n",
              "15508     6.2    20        K.C. Bokadia        Dharmendra          Jaya Prada   \n",
              "\n",
              "               Actor 3  \n",
              "0      Rajendra Bhatia  \n",
              "1        Arvind Jangid  \n",
              "2           Roy Angana  \n",
              "3      Siddhant Kapoor  \n",
              "4          Antara Mali  \n",
              "...                ...  \n",
              "15504    Suparna Anand  \n",
              "15505      Aruna Irani  \n",
              "15506              NaN  \n",
              "15507              NaN  \n",
              "15508      Arjun Sarja  \n",
              "\n",
              "[15509 rows x 10 columns]"
            ]
          },
          "execution_count": 6,
          "metadata": {},
          "output_type": "execute_result"
        }
      ],
      "source": [
        "df"
      ]
    },
    {
      "cell_type": "code",
      "execution_count": 8,
      "metadata": {
        "colab": {
          "base_uri": "https://localhost:8080/"
        },
        "id": "08dSjE-ME9hP",
        "outputId": "cb214efc-43f2-4ef2-bd13-f004af2fa212"
      },
      "outputs": [
        {
          "data": {
            "text/plain": [
              "(15509, 10)"
            ]
          },
          "execution_count": 8,
          "metadata": {},
          "output_type": "execute_result"
        }
      ],
      "source": [
        "df.shape"
      ]
    },
    {
      "cell_type": "code",
      "execution_count": 9,
      "metadata": {
        "colab": {
          "base_uri": "https://localhost:8080/"
        },
        "id": "3ebUt85gFXTB",
        "outputId": "05641f2d-25c7-4a7a-b318-491fbb4f7622"
      },
      "outputs": [
        {
          "data": {
            "text/plain": [
              "Name         object\n",
              "Year         object\n",
              "Duration     object\n",
              "Genre        object\n",
              "Rating      float64\n",
              "Votes        object\n",
              "Director     object\n",
              "Actor 1      object\n",
              "Actor 2      object\n",
              "Actor 3      object\n",
              "dtype: object"
            ]
          },
          "execution_count": 9,
          "metadata": {},
          "output_type": "execute_result"
        }
      ],
      "source": [
        "df.dtypes"
      ]
    },
    {
      "cell_type": "code",
      "execution_count": 10,
      "metadata": {
        "colab": {
          "base_uri": "https://localhost:8080/",
          "height": 300
        },
        "id": "Rfn0nXz7FbUA",
        "outputId": "6c5f7295-357b-44c0-d25c-1199e8376378"
      },
      "outputs": [
        {
          "data": {
            "application/vnd.google.colaboratory.intrinsic+json": {
              "summary": "{\n  \"name\": \"df\",\n  \"rows\": 8,\n  \"fields\": [\n    {\n      \"column\": \"Rating\",\n      \"properties\": {\n        \"dtype\": \"number\",\n        \"std\": 2797.9713272009612,\n        \"min\": 1.1,\n        \"max\": 7919.0,\n        \"num_unique_values\": 8,\n        \"samples\": [\n          5.841621416845562,\n          6.0,\n          7919.0\n        ],\n        \"semantic_type\": \"\",\n        \"description\": \"\"\n      }\n    }\n  ]\n}",
              "type": "dataframe"
            },
            "text/html": [
              "\n",
              "  <div id=\"df-15259c5d-e250-4317-842f-e827f2ccf6ab\" class=\"colab-df-container\">\n",
              "    <div>\n",
              "<style scoped>\n",
              "    .dataframe tbody tr th:only-of-type {\n",
              "        vertical-align: middle;\n",
              "    }\n",
              "\n",
              "    .dataframe tbody tr th {\n",
              "        vertical-align: top;\n",
              "    }\n",
              "\n",
              "    .dataframe thead th {\n",
              "        text-align: right;\n",
              "    }\n",
              "</style>\n",
              "<table border=\"1\" class=\"dataframe\">\n",
              "  <thead>\n",
              "    <tr style=\"text-align: right;\">\n",
              "      <th></th>\n",
              "      <th>Rating</th>\n",
              "    </tr>\n",
              "  </thead>\n",
              "  <tbody>\n",
              "    <tr>\n",
              "      <th>count</th>\n",
              "      <td>7919.000000</td>\n",
              "    </tr>\n",
              "    <tr>\n",
              "      <th>mean</th>\n",
              "      <td>5.841621</td>\n",
              "    </tr>\n",
              "    <tr>\n",
              "      <th>std</th>\n",
              "      <td>1.381777</td>\n",
              "    </tr>\n",
              "    <tr>\n",
              "      <th>min</th>\n",
              "      <td>1.100000</td>\n",
              "    </tr>\n",
              "    <tr>\n",
              "      <th>25%</th>\n",
              "      <td>4.900000</td>\n",
              "    </tr>\n",
              "    <tr>\n",
              "      <th>50%</th>\n",
              "      <td>6.000000</td>\n",
              "    </tr>\n",
              "    <tr>\n",
              "      <th>75%</th>\n",
              "      <td>6.800000</td>\n",
              "    </tr>\n",
              "    <tr>\n",
              "      <th>max</th>\n",
              "      <td>10.000000</td>\n",
              "    </tr>\n",
              "  </tbody>\n",
              "</table>\n",
              "</div>\n",
              "    <div class=\"colab-df-buttons\">\n",
              "\n",
              "  <div class=\"colab-df-container\">\n",
              "    <button class=\"colab-df-convert\" onclick=\"convertToInteractive('df-15259c5d-e250-4317-842f-e827f2ccf6ab')\"\n",
              "            title=\"Convert this dataframe to an interactive table.\"\n",
              "            style=\"display:none;\">\n",
              "\n",
              "  <svg xmlns=\"http://www.w3.org/2000/svg\" height=\"24px\" viewBox=\"0 -960 960 960\">\n",
              "    <path d=\"M120-120v-720h720v720H120Zm60-500h600v-160H180v160Zm220 220h160v-160H400v160Zm0 220h160v-160H400v160ZM180-400h160v-160H180v160Zm440 0h160v-160H620v160ZM180-180h160v-160H180v160Zm440 0h160v-160H620v160Z\"/>\n",
              "  </svg>\n",
              "    </button>\n",
              "\n",
              "  <style>\n",
              "    .colab-df-container {\n",
              "      display:flex;\n",
              "      gap: 12px;\n",
              "    }\n",
              "\n",
              "    .colab-df-convert {\n",
              "      background-color: #E8F0FE;\n",
              "      border: none;\n",
              "      border-radius: 50%;\n",
              "      cursor: pointer;\n",
              "      display: none;\n",
              "      fill: #1967D2;\n",
              "      height: 32px;\n",
              "      padding: 0 0 0 0;\n",
              "      width: 32px;\n",
              "    }\n",
              "\n",
              "    .colab-df-convert:hover {\n",
              "      background-color: #E2EBFA;\n",
              "      box-shadow: 0px 1px 2px rgba(60, 64, 67, 0.3), 0px 1px 3px 1px rgba(60, 64, 67, 0.15);\n",
              "      fill: #174EA6;\n",
              "    }\n",
              "\n",
              "    .colab-df-buttons div {\n",
              "      margin-bottom: 4px;\n",
              "    }\n",
              "\n",
              "    [theme=dark] .colab-df-convert {\n",
              "      background-color: #3B4455;\n",
              "      fill: #D2E3FC;\n",
              "    }\n",
              "\n",
              "    [theme=dark] .colab-df-convert:hover {\n",
              "      background-color: #434B5C;\n",
              "      box-shadow: 0px 1px 3px 1px rgba(0, 0, 0, 0.15);\n",
              "      filter: drop-shadow(0px 1px 2px rgba(0, 0, 0, 0.3));\n",
              "      fill: #FFFFFF;\n",
              "    }\n",
              "  </style>\n",
              "\n",
              "    <script>\n",
              "      const buttonEl =\n",
              "        document.querySelector('#df-15259c5d-e250-4317-842f-e827f2ccf6ab button.colab-df-convert');\n",
              "      buttonEl.style.display =\n",
              "        google.colab.kernel.accessAllowed ? 'block' : 'none';\n",
              "\n",
              "      async function convertToInteractive(key) {\n",
              "        const element = document.querySelector('#df-15259c5d-e250-4317-842f-e827f2ccf6ab');\n",
              "        const dataTable =\n",
              "          await google.colab.kernel.invokeFunction('convertToInteractive',\n",
              "                                                    [key], {});\n",
              "        if (!dataTable) return;\n",
              "\n",
              "        const docLinkHtml = 'Like what you see? Visit the ' +\n",
              "          '<a target=\"_blank\" href=https://colab.research.google.com/notebooks/data_table.ipynb>data table notebook</a>'\n",
              "          + ' to learn more about interactive tables.';\n",
              "        element.innerHTML = '';\n",
              "        dataTable['output_type'] = 'display_data';\n",
              "        await google.colab.output.renderOutput(dataTable, element);\n",
              "        const docLink = document.createElement('div');\n",
              "        docLink.innerHTML = docLinkHtml;\n",
              "        element.appendChild(docLink);\n",
              "      }\n",
              "    </script>\n",
              "  </div>\n",
              "\n",
              "\n",
              "<div id=\"df-f998f09e-e700-46b5-8a61-6cec7c09d85c\">\n",
              "  <button class=\"colab-df-quickchart\" onclick=\"quickchart('df-f998f09e-e700-46b5-8a61-6cec7c09d85c')\"\n",
              "            title=\"Suggest charts\"\n",
              "            style=\"display:none;\">\n",
              "\n",
              "<svg xmlns=\"http://www.w3.org/2000/svg\" height=\"24px\"viewBox=\"0 0 24 24\"\n",
              "     width=\"24px\">\n",
              "    <g>\n",
              "        <path d=\"M19 3H5c-1.1 0-2 .9-2 2v14c0 1.1.9 2 2 2h14c1.1 0 2-.9 2-2V5c0-1.1-.9-2-2-2zM9 17H7v-7h2v7zm4 0h-2V7h2v10zm4 0h-2v-4h2v4z\"/>\n",
              "    </g>\n",
              "</svg>\n",
              "  </button>\n",
              "\n",
              "<style>\n",
              "  .colab-df-quickchart {\n",
              "      --bg-color: #E8F0FE;\n",
              "      --fill-color: #1967D2;\n",
              "      --hover-bg-color: #E2EBFA;\n",
              "      --hover-fill-color: #174EA6;\n",
              "      --disabled-fill-color: #AAA;\n",
              "      --disabled-bg-color: #DDD;\n",
              "  }\n",
              "\n",
              "  [theme=dark] .colab-df-quickchart {\n",
              "      --bg-color: #3B4455;\n",
              "      --fill-color: #D2E3FC;\n",
              "      --hover-bg-color: #434B5C;\n",
              "      --hover-fill-color: #FFFFFF;\n",
              "      --disabled-bg-color: #3B4455;\n",
              "      --disabled-fill-color: #666;\n",
              "  }\n",
              "\n",
              "  .colab-df-quickchart {\n",
              "    background-color: var(--bg-color);\n",
              "    border: none;\n",
              "    border-radius: 50%;\n",
              "    cursor: pointer;\n",
              "    display: none;\n",
              "    fill: var(--fill-color);\n",
              "    height: 32px;\n",
              "    padding: 0;\n",
              "    width: 32px;\n",
              "  }\n",
              "\n",
              "  .colab-df-quickchart:hover {\n",
              "    background-color: var(--hover-bg-color);\n",
              "    box-shadow: 0 1px 2px rgba(60, 64, 67, 0.3), 0 1px 3px 1px rgba(60, 64, 67, 0.15);\n",
              "    fill: var(--button-hover-fill-color);\n",
              "  }\n",
              "\n",
              "  .colab-df-quickchart-complete:disabled,\n",
              "  .colab-df-quickchart-complete:disabled:hover {\n",
              "    background-color: var(--disabled-bg-color);\n",
              "    fill: var(--disabled-fill-color);\n",
              "    box-shadow: none;\n",
              "  }\n",
              "\n",
              "  .colab-df-spinner {\n",
              "    border: 2px solid var(--fill-color);\n",
              "    border-color: transparent;\n",
              "    border-bottom-color: var(--fill-color);\n",
              "    animation:\n",
              "      spin 1s steps(1) infinite;\n",
              "  }\n",
              "\n",
              "  @keyframes spin {\n",
              "    0% {\n",
              "      border-color: transparent;\n",
              "      border-bottom-color: var(--fill-color);\n",
              "      border-left-color: var(--fill-color);\n",
              "    }\n",
              "    20% {\n",
              "      border-color: transparent;\n",
              "      border-left-color: var(--fill-color);\n",
              "      border-top-color: var(--fill-color);\n",
              "    }\n",
              "    30% {\n",
              "      border-color: transparent;\n",
              "      border-left-color: var(--fill-color);\n",
              "      border-top-color: var(--fill-color);\n",
              "      border-right-color: var(--fill-color);\n",
              "    }\n",
              "    40% {\n",
              "      border-color: transparent;\n",
              "      border-right-color: var(--fill-color);\n",
              "      border-top-color: var(--fill-color);\n",
              "    }\n",
              "    60% {\n",
              "      border-color: transparent;\n",
              "      border-right-color: var(--fill-color);\n",
              "    }\n",
              "    80% {\n",
              "      border-color: transparent;\n",
              "      border-right-color: var(--fill-color);\n",
              "      border-bottom-color: var(--fill-color);\n",
              "    }\n",
              "    90% {\n",
              "      border-color: transparent;\n",
              "      border-bottom-color: var(--fill-color);\n",
              "    }\n",
              "  }\n",
              "</style>\n",
              "\n",
              "  <script>\n",
              "    async function quickchart(key) {\n",
              "      const quickchartButtonEl =\n",
              "        document.querySelector('#' + key + ' button');\n",
              "      quickchartButtonEl.disabled = true;  // To prevent multiple clicks.\n",
              "      quickchartButtonEl.classList.add('colab-df-spinner');\n",
              "      try {\n",
              "        const charts = await google.colab.kernel.invokeFunction(\n",
              "            'suggestCharts', [key], {});\n",
              "      } catch (error) {\n",
              "        console.error('Error during call to suggestCharts:', error);\n",
              "      }\n",
              "      quickchartButtonEl.classList.remove('colab-df-spinner');\n",
              "      quickchartButtonEl.classList.add('colab-df-quickchart-complete');\n",
              "    }\n",
              "    (() => {\n",
              "      let quickchartButtonEl =\n",
              "        document.querySelector('#df-f998f09e-e700-46b5-8a61-6cec7c09d85c button');\n",
              "      quickchartButtonEl.style.display =\n",
              "        google.colab.kernel.accessAllowed ? 'block' : 'none';\n",
              "    })();\n",
              "  </script>\n",
              "</div>\n",
              "\n",
              "    </div>\n",
              "  </div>\n"
            ],
            "text/plain": [
              "            Rating\n",
              "count  7919.000000\n",
              "mean      5.841621\n",
              "std       1.381777\n",
              "min       1.100000\n",
              "25%       4.900000\n",
              "50%       6.000000\n",
              "75%       6.800000\n",
              "max      10.000000"
            ]
          },
          "execution_count": 10,
          "metadata": {},
          "output_type": "execute_result"
        }
      ],
      "source": [
        "df.describe()"
      ]
    },
    {
      "cell_type": "code",
      "execution_count": 11,
      "metadata": {
        "colab": {
          "base_uri": "https://localhost:8080/"
        },
        "id": "neBfadaMFgeS",
        "outputId": "6667a770-e5ed-427b-baf3-a4b2a6c3420d"
      },
      "outputs": [
        {
          "data": {
            "text/plain": [
              "Name           0\n",
              "Year         528\n",
              "Duration    8269\n",
              "Genre       1877\n",
              "Rating      7590\n",
              "Votes       7589\n",
              "Director     525\n",
              "Actor 1     1617\n",
              "Actor 2     2384\n",
              "Actor 3     3144\n",
              "dtype: int64"
            ]
          },
          "execution_count": 11,
          "metadata": {},
          "output_type": "execute_result"
        }
      ],
      "source": [
        "df.isna().sum()"
      ]
    },
    {
      "cell_type": "code",
      "execution_count": 12,
      "metadata": {
        "colab": {
          "base_uri": "https://localhost:8080/"
        },
        "id": "R_LDY4B-GU5W",
        "outputId": "ff2f9d56-aa37-4392-e1ce-a3035b9955c9"
      },
      "outputs": [
        {
          "name": "stdout",
          "output_type": "stream",
          "text": [
            "<class 'pandas.core.frame.DataFrame'>\n",
            "RangeIndex: 15509 entries, 0 to 15508\n",
            "Data columns (total 10 columns):\n",
            " #   Column    Non-Null Count  Dtype  \n",
            "---  ------    --------------  -----  \n",
            " 0   Name      15509 non-null  object \n",
            " 1   Year      14981 non-null  object \n",
            " 2   Duration  7240 non-null   object \n",
            " 3   Genre     13632 non-null  object \n",
            " 4   Rating    7919 non-null   float64\n",
            " 5   Votes     7920 non-null   object \n",
            " 6   Director  14984 non-null  object \n",
            " 7   Actor 1   13892 non-null  object \n",
            " 8   Actor 2   13125 non-null  object \n",
            " 9   Actor 3   12365 non-null  object \n",
            "dtypes: float64(1), object(9)\n",
            "memory usage: 1.2+ MB\n"
          ]
        }
      ],
      "source": [
        "df.info()"
      ]
    },
    {
      "cell_type": "code",
      "execution_count": 13,
      "metadata": {
        "colab": {
          "base_uri": "https://localhost:8080/"
        },
        "id": "gnUOUeUkGcVg",
        "outputId": "abc4e692-b08e-4d06-96f1-8677ca81fbca"
      },
      "outputs": [
        {
          "data": {
            "text/plain": [
              "6"
            ]
          },
          "execution_count": 13,
          "metadata": {},
          "output_type": "execute_result"
        }
      ],
      "source": [
        "df.duplicated().sum()"
      ]
    },
    {
      "cell_type": "code",
      "execution_count": 14,
      "metadata": {
        "id": "GM0LkUZdG3Lh"
      },
      "outputs": [],
      "source": [
        "df.dropna(inplace=True)"
      ]
    },
    {
      "cell_type": "code",
      "execution_count": 15,
      "metadata": {
        "colab": {
          "base_uri": "https://localhost:8080/"
        },
        "id": "BKUvYnkpHJLD",
        "outputId": "3f1539e9-d811-4878-8899-12db729ab26c"
      },
      "outputs": [
        {
          "data": {
            "text/plain": [
              "(5659, 10)"
            ]
          },
          "execution_count": 15,
          "metadata": {},
          "output_type": "execute_result"
        }
      ],
      "source": [
        "df.shape"
      ]
    },
    {
      "cell_type": "code",
      "execution_count": 16,
      "metadata": {
        "colab": {
          "base_uri": "https://localhost:8080/"
        },
        "id": "jpe0jVnGHME_",
        "outputId": "3966ae73-ec3a-4a77-f32b-3ce1dbbba16a"
      },
      "outputs": [
        {
          "data": {
            "text/plain": [
              "Name        0\n",
              "Year        0\n",
              "Duration    0\n",
              "Genre       0\n",
              "Rating      0\n",
              "Votes       0\n",
              "Director    0\n",
              "Actor 1     0\n",
              "Actor 2     0\n",
              "Actor 3     0\n",
              "dtype: int64"
            ]
          },
          "execution_count": 16,
          "metadata": {},
          "output_type": "execute_result"
        }
      ],
      "source": [
        "df.isna().sum()"
      ]
    },
    {
      "cell_type": "code",
      "execution_count": 17,
      "metadata": {
        "colab": {
          "base_uri": "https://localhost:8080/"
        },
        "id": "U_wf1UFwH5lD",
        "outputId": "b3bab8d1-4e8f-4b59-df11-57e7b5b350de"
      },
      "outputs": [
        {
          "data": {
            "text/plain": [
              "Index(['Name', 'Year', 'Duration', 'Genre', 'Rating', 'Votes', 'Director',\n",
              "       'Actor 1', 'Actor 2', 'Actor 3'],\n",
              "      dtype='object')"
            ]
          },
          "execution_count": 17,
          "metadata": {},
          "output_type": "execute_result"
        }
      ],
      "source": [
        "df.columns"
      ]
    },
    {
      "cell_type": "code",
      "execution_count": 18,
      "metadata": {
        "id": "QlDDtGdrIKwc"
      },
      "outputs": [],
      "source": [
        "df['Year'] = df['Year'].str.replace(r'[()]','',regex=True).astype(int)"
      ]
    },
    {
      "cell_type": "code",
      "execution_count": 19,
      "metadata": {
        "id": "e6ueEyJFIlKY"
      },
      "outputs": [],
      "source": [
        "df['Duration'] = pd.to_numeric(df['Duration'].str.replace(' min',''))"
      ]
    },
    {
      "cell_type": "code",
      "execution_count": 20,
      "metadata": {
        "id": "5upElaXHIsgt"
      },
      "outputs": [],
      "source": [
        "df['Genre'] = df['Genre'].str.split(',')\n",
        "df = df.explode('Genre')\n",
        "df['Genre'].fillna(df['Genre'].mode()[0],inplace=True)"
      ]
    },
    {
      "cell_type": "code",
      "execution_count": 21,
      "metadata": {
        "id": "RplgupG6JZtW"
      },
      "outputs": [],
      "source": [
        "df['Votes'] = pd.to_numeric(df['Votes'].str.replace(',',''))"
      ]
    },
    {
      "cell_type": "code",
      "execution_count": 22,
      "metadata": {
        "colab": {
          "base_uri": "https://localhost:8080/"
        },
        "id": "EzD9GWzhPvHC",
        "outputId": "6399598c-1b2e-4b5b-9c30-29c2911d52fc"
      },
      "outputs": [
        {
          "name": "stdout",
          "output_type": "stream",
          "text": [
            "<class 'pandas.core.frame.DataFrame'>\n",
            "Index: 11979 entries, 1 to 15508\n",
            "Data columns (total 10 columns):\n",
            " #   Column    Non-Null Count  Dtype  \n",
            "---  ------    --------------  -----  \n",
            " 0   Name      11979 non-null  object \n",
            " 1   Year      11979 non-null  int64  \n",
            " 2   Duration  11979 non-null  int64  \n",
            " 3   Genre     11979 non-null  object \n",
            " 4   Rating    11979 non-null  float64\n",
            " 5   Votes     11979 non-null  int64  \n",
            " 6   Director  11979 non-null  object \n",
            " 7   Actor 1   11979 non-null  object \n",
            " 8   Actor 2   11979 non-null  object \n",
            " 9   Actor 3   11979 non-null  object \n",
            "dtypes: float64(1), int64(3), object(6)\n",
            "memory usage: 1.0+ MB\n"
          ]
        }
      ],
      "source": [
        "df.info()"
      ]
    },
    {
      "cell_type": "code",
      "execution_count": 23,
      "metadata": {
        "colab": {
          "base_uri": "https://localhost:8080/",
          "height": 542
        },
        "id": "DvzBN4N9QaL6",
        "outputId": "391cbb66-e163-4afe-fa5e-ce79ddce06e8"
      },
      "outputs": [
        {
          "data": {
            "text/html": [
              "<html>\n",
              "<head><meta charset=\"utf-8\" /></head>\n",
              "<body>\n",
              "    <div>            <script src=\"https://cdnjs.cloudflare.com/ajax/libs/mathjax/2.7.5/MathJax.js?config=TeX-AMS-MML_SVG\"></script><script type=\"text/javascript\">if (window.MathJax && window.MathJax.Hub && window.MathJax.Hub.Config) {window.MathJax.Hub.Config({SVG: {font: \"STIX-Web\"}});}</script>                <script type=\"text/javascript\">window.PlotlyConfig = {MathJaxConfig: 'local'};</script>\n",
              "        <script charset=\"utf-8\" src=\"https://cdn.plot.ly/plotly-2.24.1.min.js\"></script>                <div id=\"e4f22869-ce0c-4102-a739-c272d2a2d0a4\" class=\"plotly-graph-div\" style=\"height:525px; width:100%;\"></div>            <script type=\"text/javascript\">                                    window.PLOTLYENV=window.PLOTLYENV || {};                                    if (document.getElementById(\"e4f22869-ce0c-4102-a739-c272d2a2d0a4\")) {                    Plotly.newPlot(                        \"e4f22869-ce0c-4102-a739-c272d2a2d0a4\",                        [{\"alignmentgroup\":\"True\",\"bingroup\":\"x\",\"histnorm\":\"probability density\",\"hovertemplate\":\"Year=%{x}\\u003cbr\\u003eprobability density=%{y}\\u003cextra\\u003e\\u003c\\u002fextra\\u003e\",\"legendgroup\":\"\",\"marker\":{\"color\":\"#636efa\",\"pattern\":{\"shape\":\"\"}},\"name\":\"\",\"nbinsx\":30,\"offsetgroup\":\"\",\"orientation\":\"v\",\"showlegend\":false,\"x\":[2019,2019,2019,1997,1997,1997,2005,2005,2005,2012,2012,2012,2014,2014,2014,2004,2016,1991,1991,1991,2012,2012,2012,2018,2018,2010,2010,2010,1958,1958,1958,2021,2021,2017,2017,2009,2009,2009,2005,1993,2002,2002,2014,2004,2008,2008,2008,2016,2016,2012,2012,2012,2018,2018,2018,1994,1994,1994,2007,2007,2007,2019,2017,2012,2012,2012,2003,2003,2003,2014,2014,2014,2018,2018,1998,1998,1998,2017,2018,1979,1979,2019,2002,2002,2002,1974,2014,2014,2012,2012,2003,2003,2019,2009,2009,2018,2015,2015,2015,2015,2015,2006,2006,2006,1981,1981,2020,2020,2019,1985,2013,2013,2013,2019,2011,2011,2011,2016,2012,2012,2012,2012,1974,1974,2011,2011,2011,2014,2007,2005,2005,1988,2016,2016,2006,2011,2011,2011,1987,1987,1987,2019,2019,2019,2019,2009,2009,2009,2021,2021,2021,2003,2003,2017,2009,2009,2009,2019,2019,2005,2005,2016,2017,2016,2016,2005,2005,2010,2010,2010,2016,2016,2016,2020,2020,2017,2017,2019,2019,2013,2013,2016,2005,2005,2019,2008,2008,2008,1999,1999,1999,2018,2009,2009,2009,1973,1973,1973,1994,1994,2017,2016,2004,1968,1968,1968,2018,1982,1982,1982,1977,2019,1982,2013,2013,2013,1950,1950,1968,1968,1993,1993,1993,1991,1969,1969,1969,1993,1993,2009,1977,1977,2016,1977,1977,1948,1948,1994,1994,1994,1994,1987,1990,1990,1993,1988,1988,1989,2001,2009,2009,2009,2000,2000,2000,1953,1953,1953,1978,1978,1993,1993,1977,1987,1963,1963,2003,1990,1990,1990,1985,1985,1992,1992,1976,1976,2000,2000,1991,1991,1984,1984,1988,1988,1990,1984,1984,1984,1993,2007,2007,2007,1968,1968,1986,1986,1986,1988,1988,1989,1989,1989,1989,1989,1989,1989,1989,1989,1979,1979,1966,1990,1990,1997,1975,1975,1975,1980,1980,1980,2010,2010,2010,2012,2001,2001,2007,2018,2018,2001,2001,2001,2008,2008,2008,1967,1967,1967,1982,1982,1982,1984,1970,1970,1970,2004,2004,2004,2003,1980,1980,1980,1975,1975,1985,1952,1990,2019,1993,1993,1993,2002,2002,2002,1972,1972,1970,1970,1970,1994,2009,2009,2009,1971,1971,1971,1976,1976,1974,1974,1977,1977,1977,2006,2006,1964,1964,1964,2002,2002,2002,1980,1980,1980,1981,1981,2003,2003,2003,1985,1997,2011,2011,1974,1954,1954,1954,1962,1962,1962,2007,2007,2007,1999,1999,1957,1957,1980,1980,1980,2010,1962,2001,2001,2001,2005,2005,2005,1977,1990,1990,1990,2013,2013,2013,2011,2011,1968,2014,2018,2018,2018,2009,1984,1984,1965,1992,1992,1992,1993,1966,1966,1997,1996,1996,1995,1995,1995,2006,2006,2006,1979,1994,1994,1994,2006,2006,2006,2013,2013,2013,1998,1998,1974,1974,1956,1964,1964,1964,1999,1966,1966,2011,2011,2011,1995,1995,1995,1984,1957,2012,1995,1995,2004,2004,2004,2015,2015,2015,1994,1994,2004,2004,2004,2004,2004,2013,2013,1980,1980,1980,1955,1955,1955,1995,1977,1977,1977,1968,1968,1973,1973,1991,1991,1991,1989,1989,1989,1970,1970,1984,2010,2010,2010,1973,1973,1998,1998,1998,1936,1936,1936,2009,2009,2009,2019,2019,2019,2014,2014,2014,2010,2010,2010,2010,2010,2010,1958,1958,1958,1976,1976,1976,1965,1965,1965,1954,1954,1954,2001,2001,2007,2010,2010,2010,1983,1983,1955,1990,1990,1990,2017,2017,2017,1983,2019,1978,1980,1980,1980,1985,1985,1985,2016,2016,2016,2004,2004,2004,1997,1997,1997,1986,1986,1966,1966,1951,1951,2001,2001,1991,1991,1950,1950,2014,2014,1983,1983,1972,1972,1972,1977,1977,1977,2012,2012,2012,1985,1985,1988,1988,1988,1997,1990,1990,1990,1990,1990,1990,2012,2012,2012,1997,1981,1981,1996,1996,1996,1997,2000,2002,2002,2002,1980,1980,1980,2009,2009,2009,2019,2019,1995,1979,1979,1981,1981,2006,2006,1979,1979,2016,2016,2015,2010,2010,2010,1996,1996,2009,2009,2009,1985,1985,2004,2004,2004,2018,2018,2018,2012,2012,2012,2012,2009,2009,2009,2017,1974,1974,1996,1996,1996,2021,2021,2017,2001,2001,2001,1991,1991,1991,2004,2004,2020,2020,2020,2013,2013,1965,1991,1991,1991,1979,1979,1979,2014,1995,1999,2002,2002,1989,1989,2001,2001,2001,2006,2006,2006,2017,2017,2017,1977,1977,1952,1952,2009,2009,2009,1985,1985,1985,2006,2006,2006,2019,1973,1979,1979,1979,2001,2001,2001,1951,1951,1951,1980,1980,1980,2019,2019,1966,1966,1966,1954,1954,1954,1977,1977,2017,1953,2015,2015,2015,2015,2015,2020,1984,1984,2009,2009,2009,2010,2010,2010,1997,1986,1986,2015,2011,2011,2011,1994,1994,1967,1967,1967,2016,1975,1975,1954,1954,1954,1958,1958,1936,1972,1972,1972,2020,1961,1978,1978,1978,1977,1977,1977,2019,2019,1990,1952,1952,1952,2013,2001,2001,2001,1974,1974,1990,2014,2014,1986,2001,2001,2001,2021,2021,1966,1966,1986,1986,2005,1967,1967,1967,2016,2016,2017,1973,1973,1973,1971,1971,1952,1952,1952,1977,1977,1959,1959,1959,1993,1993,1993,1975,1975,1999,1953,1953,1953,2016,2016,2003,2003,2003,1949,1949,1949,1971,1971,1994,1994,1994,1994,1994,1994,1990,1990,1985,1985,1985,1983,1983,2018,2018,2018,1975,1975,1975,1986,1986,1984,1984,1995,1995,1995,1992,1992,1992,1996,1996,1998,1998,1998,2011,2011,1982,2005,1995,1995,2020,2020,2015,2015,1960,1960,1960,1952,1952,1952,1973,1973,1973,1967,1967,1967,1987,1994,1994,1969,2010,2010,2010,2005,1969,1969,1969,2003,2003,2003,2009,2009,2009,1985,2006,2006,2006,1968,1968,1968,2013,2013,1997,2013,2013,1974,1986,1986,1993,1993,1993,1946,1946,1946,1982,1978,1978,2016,1971,1992,1992,1975,1975,1975,1989,1982,1972,2000,2000,2006,1948,1948,1948,1973,1973,1968,1968,1968,1962,1962,1962,2002,2002,2002,1969,1969,2008,2008,1991,2021,1994,2006,2006,1971,2003,1966,1966,1972,1960,1960,2006,2006,1977,1977,2007,2007,2007,2015,2015,2015,1993,2005,2005,2005,2010,2010,2010,2007,2007,1960,2006,2006,2006,1977,1977,2007,2007,1996,1996,1975,1975,1975,1980,1980,1980,1975,1975,1972,1972,1972,1974,1957,1964,1964,1964,1969,1969,1969,1994,1983,1983,1985,1985,1985,2001,2001,2001,1999,1999,1999,2019,2019,2012,2012,2012,1953,1953,2003,2003,2003,1996,1996,2010,2010,2010,1967,1967,1983,1983,1982,1982,2019,2019,2019,1978,1988,1988,2006,2006,2006,1950,1950,1965,1965,1965,2004,2004,2004,2012,2012,2018,2018,1984,1984,1984,1993,1993,1952,1952,2017,2010,2018,2001,2001,2001,1986,1962,1962,1962,2000,2020,2012,2012,2018,2020,2005,2005,2005,2007,1990,1990,1978,1978,2020,2010,2020,2020,2013,2013,2013,1968,1968,1993,1998,1998,1998,1979,1979,1979,2007,2013,2013,2013,1940,1967,1967,1988,1998,2016,2016,2010,1997,1997,1997,1978,1987,1987,1987,1986,1986,1986,2017,2017,1983,1951,1951,1951,1990,1984,1984,1984,1964,1964,1964,2002,2002,2002,2007,2007,2007,2020,2016,2019,2019,1969,1969,1982,1964,1964,1991,2000,2000,2000,2001,1955,1955,1955,1978,1978,1978,1990,1990,1940,2016,2016,2016,2017,2012,2012,2012,2017,2021,2021,2018,2018,2018,2009,2009,2009,2006,2006,2006,1999,1999,1999,2017,2017,2017,2000,2000,2000,2016,2016,2016,2018,2018,2020,2020,2020,1990,1990,1990,2001,2017,2019,2015,1990,1990,1990,1955,1955,1955,2016,2016,2016,2017,2017,1957,1957,1957,2018,2012,2012,2012,1986,2013,2013,1962,1962,1962,1953,1953,1953,2003,2003,2018,2018,2018,1951,1951,1951,1968,1968,1968,1984,1995,1995,1995,1993,1993,1993,1972,1972,1972,2014,2014,2014,1985,1985,1950,1986,1985,1985,2017,2017,2017,2015,2015,2008,2008,2008,2005,2005,2005,2008,2008,2008,1970,1970,1970,2017,1984,1984,2003,2009,2009,2009,1973,1973,1973,1951,1951,1966,1966,1966,2000,2000,2000,1978,1978,1983,1983,1983,1999,1999,1999,1989,1998,1998,1998,2018,2018,2002,2002,2002,1987,1993,1993,1969,1969,1969,1945,1945,1986,1974,2019,2019,2019,1980,1980,2015,2015,2015,2014,1982,1982,2010,2010,2010,1998,2016,2016,2015,2015,2019,1971,2017,2017,2017,2013,1989,1982,1982,1938,2003,2003,2019,1990,1951,1966,1966,1967,1967,1968,2019,1941,1967,1967,1967,1965,1965,1985,1964,1954,1954,1954,2020,2020,2020,1952,1952,1952,2021,2013,2013,2013,2015,2015,2015,1976,2015,2015,2015,1996,1996,2015,2017,2019,1985,1985,1971,1976,1976,1976,2012,2017,1968,1992,1992,2014,1968,1968,1968,2020,2006,2006,2009,1997,1973,1973,1962,2010,2010,2010,1990,1990,1990,1998,1998,1998,1969,1969,1969,1983,1983,1973,1973,1992,1957,1957,1963,1963,1963,1955,1955,1955,1980,1980,1980,1994,1994,1994,2013,2013,2014,2014,2014,2015,2015,1991,1991,2016,2016,2016,2017,2017,2017,2021,1950,1955,1955,2009,2009,2009,2005,2005,2004,2004,2004,2015,2015,2015,2012,2012,2012,1959,2015,2015,1976,1976,1976,1998,1998,1998,2019,2019,1949,1949,1949,1995,1995,1981,1981,1960,1960,1960,1998,2006,2006,2006,2001,2001,2001,1942,1942,1960,1960,1960,1956,1956,1956,1981,1981,2019,2019,2019,1979,1979,2019,2018,1989,1989,2000,1972,1972,1972,1950,1950,1949,1949,1982,1982,2014,2011,2011,2011,1993,1993,1993,1993,1993,2013,1962,1962,1962,1989,1989,2016,2016,2016,2017,2017,2017,2017,2005,2016,2016,2016,1972,1972,1983,1983,1992,1992,1992,1982,1982,1974,1974,1974,1999,1999,1999,1964,1964,2001,2001,2010,2010,1985,1985,1980,1980,1980,1981,1981,1981,1978,1978,2013,2013,2013,1992,1992,1983,1983,1997,1997,1994,1994,1969,1964,1964,1964,1952,1952,1995,1995,2005,2005,1985,1985,1992,2017,2014,2014,2014,1960,2015,2015,2015,2013,2013,2013,2017,2017,1982,1982,2015,2015,2015,2015,2015,2013,2013,2013,2018,1991,1991,1991,1957,1961,1961,2018,2018,2013,1956,1956,1956,2006,2006,2006,2001,2005,2005,2005,2005,2005,1986,1986,1970,1985,1985,1985,1994,1997,1997,1969,1969,1997,1972,1972,1972,2000,2000,1959,1959,1956,2001,1994,1994,1994,1996,1996,1996,1980,1980,1980,1979,1979,1979,1976,1976,2001,2001,2017,2017,2017,2020,2020,2020,1976,1976,2017,2019,2019,2019,2002,2002,2002,1942,1942,1942,2017,1985,1985,1985,2018,2018,2018,2010,2010,2010,1981,1981,1998,1988,2003,1982,1965,1965,1965,2007,2007,2011,2011,1935,2011,2011,2011,2016,2012,2012,2012,2018,1984,2001,1958,1958,2007,2007,2007,2017,2017,2017,2003,2003,2003,2010,2010,2010,1965,1965,1965,1999,2012,2012,2012,2020,2020,2020,2014,2014,2014,2008,2008,2008,1963,1999,2014,2011,2011,2011,2018,2016,1989,1989,1989,2011,2011,2011,1977,1969,1969,2000,2000,2000,1974,1974,1974,1937,2007,2007,2007,2012,2000,1982,1982,1982,1989,1989,1989,2009,2009,2018,1963,1963,1963,2011,2011,2011,1980,2013,1984,1984,2001,2017,1966,1954,2017,2017,2017,2019,2012,1966,1988,1988,1999,1999,1999,1981,1981,2005,2008,2008,2008,1959,1959,1959,2004,2004,2004,2015,2015,1971,1971,1971,2020,2019,2019,1973,1973,1973,2005,2005,2005,2018,2018,2019,2019,2012,2012,2012,2009,2009,2009,2017,2017,2017,2009,2013,2013,2013,1963,2005,2005,2005,1973,1973,1973,2014,2014,2014,2005,2011,2011,2011,2017,2017,2012,2012,1992,1992,1992,2016,2016,2014,2011,2009,2009,2009,1993,1993,1960,1960,1960,2019,2019,2019,1980,1980,1998,1998,1998,2019,2019,2019,2013,2008,2008,2008,1972,1972,1972,2015,2015,2015,2001,2001,2003,2003,2001,2001,2001,1954,1954,1954,1997,1997,1997,2002,2013,2013,2013,2021,1965,1961,1961,2018,1968,1968,1968,2010,2010,2010,2011,2011,2011,2015,2015,2015,2004,2004,2004,2018,2018,2018,2015,2015,2015,2001,2011,2017,2017,2017,2016,2016,2007,1971,1971,1971,2016,2016,2016,1966,1966,1966,2000,2000,2020,2020,2020,2018,2014,1976,1976,1976,2005,2005,2013,2013,2013,2012,2010,2010,2010,2015,2020,2020,2005,2005,2005,2005,2005,2019,2019,2019,2008,2008,2008,2005,2005,2005,1956,1956,1956,1967,1967,1967,2019,2019,2019,2013,2003,2003,2003,2015,2000,2000,2000,2017,2007,2007,2007,1986,1986,1991,1991,2020,2020,2020,1986,1971,1971,1971,2009,2009,2019,2019,2019,2007,2007,2007,2009,2009,2009,2015,2012,2001,1996,1996,2005,2005,2005,1989,1989,1989,2003,2012,2012,1994,1994,1994,1977,2012,2012,1985,2016,2014,2014,1977,1977,1977,1997,1997,1997,2019,2019,2004,2007,2007,2007,2007,2007,2007,1977,1977,1977,1981,2012,2012,2012,2012,1978,1978,1978,2014,2009,2009,2009,2015,2000,2000,2012,2012,1977,1977,1977,2011,2011,2003,2016,2012,2011,2011,2002,2002,2002,1977,1977,2003,2003,1976,1976,1958,1958,1958,2020,2020,1992,1992,1992,2003,1986,1986,1986,2008,2008,2008,2000,2000,2000,2019,2019,2019,2010,2010,2010,1959,1965,1965,1965,2005,2005,2006,1967,1967,1967,2005,1969,1999,1967,1989,1989,1989,2001,2001,1948,1993,1993,1993,2007,2007,2007,1935,1984,2002,1957,1957,1957,1980,1961,1961,1955,1955,1955,1975,1976,1976,1976,2004,2004,2004,1974,1974,2015,2010,2010,2010,2013,2013,1981,1981,1981,1983,2011,2011,2011,2017,1994,1994,1994,2014,2018,2007,2007,2007,2017,2017,2017,2015,2005,1981,1981,1981,1992,1965,1965,2013,2013,2013,1970,2005,1981,1981,1981,1977,1977,1977,2020,2020,1960,1960,2020,2020,2019,1952,1952,1961,1961,2019,2019,2007,2007,2012,2012,2012,2013,2016,2013,2013,2013,2019,2019,2019,1998,1998,1998,1996,1961,1961,1961,1996,1996,1996,1959,1971,1971,1976,1976,1967,1967,2001,2001,2001,2016,2016,2016,2019,2005,2005,2005,2018,2018,2018,2016,2014,2014,2014,2011,2011,2011,1998,1998,1998,1962,1962,1962,2015,2006,2006,2006,2006,2009,2009,2020,2020,2016,2019,1976,1976,2011,2011,2011,2012,2012,2012,2005,2005,2005,2020,2000,2019,2019,1993,1993,1993,2015,1954,1954,2013,2013,2013,2002,2002,2002,1974,1974,1974,1990,1990,1977,1977,1977,1956,1956,1956,2003,2003,2003,1972,1972,2001,2001,2001,1975,1975,1975,1982,1982,1980,1975,1975,2003,2020,2019,2019,1974,1997,2016,2016,2006,2006,2006,1975,1975,1975,2003,2003,2003,2003,2003,2003,2015,2014,2014,2010,2010,2020,2020,2020,1989,1989,1989,2010,2010,2010,2013,2016,2016,2016,2012,2012,2012,2015,2008,2008,2008,2006,2020,2020,1988,1988,1988,2013,2013,2013,2017,2017,2017,2019,2019,2019,2002,2002,2002,1974,1974,1974,1986,2021,2021,2008,2008,2008,2020,2009,2009,1983,1983,1983,1995,1995,1995,1991,1991,1991,2020,2020,2020,2006,1992,1992,1992,2014,2020,2000,2011,2011,2011,2016,2016,2014,2014,2014,1994,1994,1994,2010,2010,2010,2016,2016,2016,1992,2011,2011,2019,2019,2005,2005,2005,2021,2021,2021,1997,1997,1997,1966,1966,1966,1953,1952,1952,1973,1973,1973,1999,1999,1999,1964,1964,2012,2005,2005,2018,2018,1997,1997,1997,2019,2014,2014,2014,2010,2010,2010,2010,2010,2010,2012,2012,2012,2019,2019,2019,1987,1987,1979,1979,1979,1999,1980,1980,2017,2017,2017,2009,2009,2017,1975,1975,2015,2015,2015,1998,1950,1999,1999,1999,1986,1986,1977,1977,2000,2000,2000,2000,2000,2000,2000,1993,1993,2011,2011,2011,1978,2011,2011,2011,1993,1993,1985,1987,1987,1987,1997,1997,1995,1995,1995,1991,1991,1991,1998,2016,2016,2016,2012,2012,2012,2019,2019,2005,2018,1996,1996,1996,2020,2020,2020,1982,2005,1988,2019,2019,2007,2007,2007,1997,2003,2006,1949,1949,1949,1970,1970,1993,1993,1993,2014,2014,1978,2002,2006,2006,2006,2008,2008,2018,2018,1972,1972,1972,1996,1996,1970,1950,1950,1950,2008,2008,2001,1997,1997,1997,1982,1982,1982,1992,1992,1992,2013,2013,2013,1975,1988,1988,1988,2017,2016,2013,2013,2009,2009,2009,2019,2019,2019,2008,2008,2008,2016,2016,2006,2006,2016,2016,2017,2017,2018,2014,2014,2016,2016,1987,2014,2014,2014,1992,1992,1951,1951,2001,2001,1976,1976,1976,1975,1975,1975,1992,1992,1992,2013,2013,2013,1997,1997,1990,1990,1990,1987,1987,2000,2000,2005,2005,2005,2002,2002,2002,2007,2009,2009,2009,1957,1957,2014,1985,1985,2018,2011,2011,2011,2011,2011,2012,2012,2012,2009,2012,2012,2012,2012,2007,2007,2007,2002,1980,2008,2008,1982,1982,1982,1991,1991,1991,2011,2011,2014,1958,2015,2015,2015,2009,2009,2009,2004,2009,2009,2005,1966,1966,1966,1978,1978,2002,2002,2002,1936,1936,1955,1955,1955,2002,2002,2002,2019,2004,2004,2004,2019,2019,2019,2019,1956,1956,1998,2018,2000,2000,1997,1997,2018,2018,2000,2000,2006,2006,2006,2007,2007,2007,1973,1973,1973,1980,2007,2007,1993,1993,1993,1981,1981,1981,2008,2008,2016,1975,1975,1991,1991,2015,1977,1977,1977,1992,1992,1986,1986,1986,1997,1997,1975,1975,1975,1961,2011,2011,2011,1950,1950,2017,2017,2001,2001,2020,2010,2007,2007,2007,2007,2007,2007,1951,1951,1979,1979,1979,1959,2004,2004,2004,2006,2006,2006,2013,2013,2013,2008,2008,2008,2009,2009,2003,1975,1989,1989,1981,2002,2002,2002,1973,1973,1973,2003,2003,2003,2019,2019,2019,1982,1982,1982,1940,1940,2012,1989,1989,1991,1990,1990,1990,1992,1992,1978,1978,1978,1968,2020,2020,2020,2009,2009,2009,2001,2001,2001,1959,1959,2015,2015,2015,1974,1974,1966,1966,1966,2006,2006,2006,2007,2007,2007,1963,1963,1963,1993,1993,1993,1991,1991,1991,2002,2002,1963,1963,1963,1992,1992,2005,2005,2017,2018,2018,1992,1992,2003,2003,2003,2014,2014,2014,2008,2008,2005,2005,1993,1993,1999,1999,1999,2004,2004,2004,2004,1967,1967,2003,2003,2000,2016,1998,1998,1993,1993,1993,1962,1962,1996,1996,1997,1997,1997,2011,2011,2011,2016,2016,1987,2002,2002,2002,1982,1994,1994,1977,1977,1977,1953,1987,1987,1996,1996,1996,1947,1947,1999,1999,1999,1966,1966,1966,2015,2015,1950,1950,1950,1986,1986,1986,1994,1994,1994,2015,2015,2015,1995,1995,1980,2016,2016,2016,2015,1982,1982,1982,1990,1990,1990,2014,2014,2016,2016,2016,1984,1984,1993,1993,1967,1967,1976,1957,1957,1957,1980,1980,1980,1969,1969,1969,1953,1971,1971,2015,1982,1982,2010,2010,1968,1968,1972,1975,1975,1968,1968,1968,2009,2009,2016,2016,2016,1978,1978,1978,1974,1974,1998,1958,1958,1974,1974,1974,1980,1980,1989,1989,1969,1969,1971,1977,1959,1959,1959,1988,2014,2017,2017,2004,2004,1940,1969,1969,1998,1998,2015,2015,2019,2019,2019,2019,2006,2006,2006,1978,1978,1978,2011,2011,2011,2008,2008,2016,2016,2016,2006,2006,2006,1990,1990,1990,2017,1964,1964,1971,1964,2020,2020,1977,1977,1977,1983,1983,2006,2007,2007,2007,1974,1989,1964,1964,1964,1986,1986,2019,2005,2005,2005,2011,2011,2011,2018,2015,2014,1947,1947,1947,1999,2013,1931,2014,2014,2019,2019,2009,2009,2009,2013,1990,2015,2015,2015,2019,2019,2019,1994,1994,1992,1992,1992,2003,1994,1994,2015,1949,1949,1964,1964,1964,2010,2010,2010,2016,2016,2016,1967,1967,1967,2000,2000,2000,1977,1977,1977,1998,2003,2003,2003,2015,2015,2015,2011,2011,2011,1984,1984,1979,1979,1937,2015,2015,2010,2010,1998,1998,1998,2002,1983,1983,1983,2002,2020,2020,2007,1966,1966,1966,1976,1976,1976,2010,2010,1998,1998,1998,1990,1990,1957,1996,1992,1992,1995,1995,1995,1971,1973,1973,1973,2009,2009,2009,1998,1998,1998,2014,2012,2012,2001,2001,2019,2019,1994,1994,1994,1989,1989,1989,2001,2001,2019,2019,2019,1946,1946,2018,1972,2005,2005,2005,2000,2003,1981,1981,1986,1986,1978,1978,1983,1980,1980,1980,1980,2020,1972,1972,1986,2007,2007,2007,2002,1985,1985,1963,1963,1963,2003,1989,1990,1990,1981,1981,1981,1957,1991,2017,1972,1972,1972,2004,2004,2004,1981,1981,1981,1993,1992,1992,1983,1983,1968,1968,1968,2005,2005,2005,2007,2007,1992,1992,2019,2019,2019,1986,2012,2012,2012,1970,1990,1990,1990,1971,1971,1971,2015,2015,2015,1986,1960,1960,1960,1969,1969,1969,1968,1968,1968,1963,1957,1957,1957,2020,2020,1965,1965,1965,1976,1976,1976,2004,2004,2009,2009,2009,1969,1969,2000,2015,2018,2018,1996,1996,2012,2012,2012,2013,2013,2013,1949,2009,2008,2008,2009,2009,2009,1956,2012,2012,2018,2014,2007,2007,2007,2019,2019,2019,2019,1994,1994,1994,1971,1971,1971,2005,2005,1947,2008,2008,2008,1984,1984,2005,2005,2005,2002,2002,2020,2020,2012,2012,2012,2003,2003,2003,2007,2007,2007,2018,2001,2001,2001,2020,2020,2020,2015,2015,2015,2011,2011,1985,1985,2019,2019,2013,2013,2013,1976,1976,1976,1988,1988,1988,2019,2019,2019,2019,2019,2006,2006,2006,2017,2016,2016,2016,2006,2006,2006,1975,1975,1975,1965,1965,1983,1983,1996,1996,1996,2005,2005,1977,1977,1967,1967,1967,1989,1957,1957,2008,2008,2009,2009,2009,2019,2019,1933,1933,1943,2012,2012,2012,2021,1963,1963,1963,2016,2016,2016,2012,2012,2012,1954,1954,2016,2016,2004,2004,2004,1981,1981,1981,2006,2006,2002,2002,1983,1983,1983,2005,2012,2019,2014,2014,2014,2008,2008,2008,2017,2017,1996,1996,2013,2013,2021,2010,2013,2013,2015,2015,1991,1990,1990,1990,2016,2016,2000,2000,2000,2014,2017,2017,2017,2021,2021,2016,2007,2007,2007,2007,1953,1953,1953,2020,2020,2003,2003,2003,2011,2011,2011,2016,2016,2016,2007,1959,2015,2015,2015,2012,2009,2009,2009,2019,2019,2016,2016,2016,2016,2018,1980,1980,1980,2008,2008,2008,2007,2009,2009,2009,2018,2018,2016,2016,2014,2014,2013,2013,2013,2020,2020,2020,2017,1960,1960,1960,2005,2012,2017,1973,1973,1966,1966,1966,2015,2015,2015,2007,2001,2001,2001,1995,1995,1995,2006,1999,1999,1989,1989,1989,2000,2000,2004,2012,2012,2012,2009,1978,2004,2004,2004,1971,1971,1971,1995,1995,1995,1993,1993,1993,2011,2011,2011,2007,2007,2007,2017,2017,2017,2018,1982,1982,1982,2011,2011,2011,2007,2007,2007,2016,2016,2016,1986,1986,1986,2000,2000,2000,2014,2014,2016,2006,2006,2006,1980,1978,1978,1983,1988,1988,1988,2003,2003,2003,2013,2013,2012,2012,2012,2006,2006,2006,1984,1984,2018,1972,1972,1972,2005,1955,1972,1972,1972,2005,2018,2018,1993,1993,1993,1974,2011,2014,1968,1968,2007,2007,2007,2016,1979,1979,1979,2002,1989,2004,2004,2004,1992,1975,1975,1975,1993,1980,1980,1973,1973,1973,2002,2002,2002,1986,2018,2018,1989,1989,1989,1985,1985,2008,2008,2008,2013,2013,2013,1978,1978,1963,1963,1998,1998,1998,1985,1984,1988,1988,1970,1970,2004,2004,1990,1992,1992,1989,1967,1987,1987,1948,1948,1988,1988,1988,1961,1961,1961,1977,1977,1998,1976,1976,1996,1996,2008,2008,1990,1990,1990,2016,2016,2016,1982,1982,1982,1992,1992,2019,2019,2020,1997,1997,1997,2012,2019,2019,2020,2020,1998,1998,1998,1973,1973,1956,1956,1997,1997,1997,1985,1985,1981,1981,2007,1984,2020,2020,2020,2013,2013,2004,2000,2016,2007,2007,2007,2013,2013,2013,1968,1968,2019,2008,2008,2008,1963,1983,1999,1999,1999,2018,2018,2018,1968,1968,1968,2010,2010,2010,2010,2010,2017,2017,2017,2008,2008,2008,2006,2006,2006,2019,2019,2007,2007,2019,2008,2008,2008,1989,1989,1989,1959,1959,2013,2013,2013,1979,1970,1970,1970,1994,1994,1994,1982,1982,1948,1972,1972,1972,2013,2013,2013,2015,2015,1993,1993,1993,2017,2001,2001,1963,1963,2013,2013,2013,2016,2016,2016,2012,1979,1979,1971,1971,1971,1995,1995,2015,2015,2015,1997,1997,1997,2017,1965,1965,1965,2020,2020,2020,2020,2020,2014,2014,2009,2009,2009,2012,2020,2020,2019,2019,2019,1965,1965,1965,2008,2008,2019,2019,2019,1963,1963,1993,1993,1993,1993,1993,2002,2002,2002,1970,1967,1990,1988,1969,1969,1969,1998,1998,1998,1995,2014,2014,2014,1995,1961,1961,1961,2020,2020,2020,2020,2019,2019,1997,1997,1997,2016,2016,1989,1980,1980,1980,2003,2007,1988,1988,2010,1981,1981,1993,1993,1993,1969,2015,2015,2015,2010,2010,1962,2008,2008,2002,2002,2002,2003,2003,2003,2011,1974,1974,2002,1971,1971,1971,1982,1982,1982,1995,1995,1995,1986,1986,1986,1990,1990,1990,2020,2000,2000,1998,2014,2016,2015,2014,2014,2014,2011,2011,1984,1984,1984,1977,1977,1977,2020,2020,2020,1956,1956,1956,2017,2017,2021,2021,1962,1962,1962,2018,2018,2008,2008,1996,1996,1956,1978,2000,2000,2000,1985,2018,2018,2018,2015,2015,1997,1997,1997,2018,1967,1967,1967,1963,1963,1944,1944,2004,2004,2004,1979,1979,2012,2019,1984,2005,2017,2017,1974,2019,2019,2016,2016,2014,2014,2020,2020,2011,2011,2014,2014,2014,2018,1964,1964,1964,1985,1985,1995,1995,1995,1991,2000,2000,2000,1979,1979,1979,1950,2018,2015,2015,2020,2020,2020,1967,1967,1967,1971,1971,1976,1976,1976,1982,2004,2004,2008,2008,2008,2000,2000,1962,1962,1962,2014,2014,2018,1999,1999,1999,1968,1968,1968,1971,1971,1971,1993,2012,2012,2014,2014,2015,2015,2018,2018,2018,1967,1989,1989,2002,2002,2002,2007,2007,2007,1988,1988,1988,2004,2004,2004,1998,1991,2011,2011,2011,2020,2004,2003,2003,2003,2014,2014,2014,2015,2015,2004,2004,2004,2003,2003,1968,1998,2003,2014,2014,2014,1970,1970,1970,1992,1992,1999,1999,1999,1982,2018,2008,2008,1999,1999,1999,2021,2010,2010,2010,2010,2016,2016,2016,2010,2010,2010,2010,1991,1991,1991,1976,1976,1976,2000,2000,2000,1964,1983,1983,1983,2015,2015,2015,1998,1998,1998,1988,1988,1988,1997,1997,1997,2008,2008,2008,2012,2014,2014,2015,2015,2015,2000,2000,2000,2018,2007,2007,2018,2018,2010,2010,2010,1987,1987,2018,2014,2014,2014,2008,2008,1965,1965,1965,1970,1970,1970,1996,1996,1996,1987,1987,1987,1996,1996,1983,1983,1983,1998,2013,2013,2013,2017,2017,2017,2017,1973,1973,1973,2002,1977,1987,1987,1987,2010,2010,2010,1988,1988,1988,2004,2004,2004,2015,2015,1999,1999,1999,1985,1985,1970,1970,2014,2014,2003,2003,2005,2005,2020,1973,1973,1973,1992,1992,2007,2007,2007,2018,2018,2018,2017,2013,1985,1985,1985,2011,2011,2011,2006,1999,1999,1999,1981,1981,2017,2018,2018,2018,2018,2018,2016,2016,2019,1991,2000,2000,2009,2010,2010,2012,2012,2012,2016,2016,2016,2019,2019,2019,1958,1958,1999,1987,1987,1995,1995,1995,1971,1971,1971,2004,2004,2004,2008,2008,1991,1991,1991,1999,1999,1994,1994,1994,1989,1989,1989,2019,1999,1999,1999,1985,1985,1985,1961,1961,1961,1995,1995,1995,1946,2014,1994,1994,1994,1993,1993,1993,1993,1993,1993,2001,2001,2001,2004,2004,2004,2002,2002,2002,1977,1977,1977,1951,1980,1980,1980,1985,1985,1980,1980,2002,2002,1999,1999,1995,1995,1995,1983,1990,1990,1990,1988,2000,2000,2000,2004,2004,2004,2010,2010,2010,2005,1971,2015,2015,1999,1999,1999,2011,2011,2011,2002,2002,1945,1945,2019,2019,2019,2003,1980,1980,1980,2006,2006,2006,2006,2007,2014,2014,2014,2002,2002,2002,1983,1974,1974,1974,2014,2014,2014,2003,2003,2003,2015,2015,2018,2018,2018,1998,1998,1998,2006,2019,2004,2004,2004,2010,2010,2010,2019,2010,2010,2010,2015,2015,2020,2020,2015,2018,2018,2018,2005,2013,2010,2010,2010,2020,2015,2015,2006,2006,2006,2013,2013,2013,2012,2018,2018,2014,2014,2014,2010,2010,2017,1994,1994,1989,1989,1986,1986,1954,1954,1954,2007,1974,1987,1987,1987,1977,1977,1994,1994,1994,1974,1974,1994,1994,2012,2017,2017,2003,2003,2003,2001,2001,2001,2015,2015,2015,2015,2015,2015,2019,2019,2019,1996,2020,2020,1958,1932,1932,1989,1989,2017,2017,1977,1977,2013,2013,2013,1984,1984,1984,1935,1966,1966,1966,1994,1994,1986,1986,1997,1997,1997,2004,2004,1982,1982,1982,1959,1959,1959,1974,1974,1980,1980,2005,2005,2005,1994,1994,1994,1955,1955,1955,1987,2012,1991,1991,1991,1991,1991,2018,1969,1969,2003,2003,2003,1992,1992,1992,2001,2001,2004,2004,1974,1974,1999,1999,1999,1973,2005,2005,2006,2006,2017,2017,2017,1996,1996,2019,1964,2008,2012,2012,2012,2013,1974,1974,2013,2013,1997,1997,1997,2016,2004,2017,2017,2015,2015,1994,2018,2018,2018,2003,2003,2015,2018,2018,2010,2010,2010,1992,1992,1992,2010,2010,2010,2017,2017,1998,1998,1998,2015,2013,2013,1962,1962,2003,2003,2003,2010,1987,1987,1997,1997,1997,1981,1981,2014,2014,2014,2012,1969,1969,1969,2001,2001,2001,2017,2017,2017,1968,1968,1991,1991,1990,1990,1990,2017,1989,1989,2004,2004,2004,1993,1993,1952,1952,1967,1967,1967,1969,2003,2003,2003,1960,1960,1960,1996,1996,1996,1987,1975,1985,1990,1992,1992,1992,1992,1992,1992,1999,1999,1983,1983,1983,2006,2006,2006,1998,1998,1998,2010,2010,2010,2018,2008,2008,2008,1971,1976,1976,1976,2006,2006,2006,1983,1983,1983,1979,1979,1979,2002,2002,2002,2015,2015,1999,1999,1999,1972,1972,1972,1989,1989,2017,2017,2017,1965,1965,1961,1961,1961,1963,1963,2012,2012,2016,2007,2007,2007,1967,1967,2019,2019,2019,2018,2018,2013,2013,2019,1977,1977,1978,2017,2017,2017,1984,1984,1984,2001,2001,2001,1955,1955,1955,2007,2007,2007,1969,1969,1999,2019,2016,2016,2014,2014,2015,2015,2007,2007,2007,2015,2015,2015,1994,1994,1951,2020,2020,2020,1975,1975,1990,2009,2009,2009,1995,2009,1973,1973,1989,1989,1977,1977,1977,2003,2003,2003,2013,1980,2018,2018,1995,1995,1977,2012,2012,2012,1987,1987,2021,2021,1950,1950,1995,1995,1994,1994,2006,2006,2003,2003,2003,1986,1986,1972,1972,2016,2012,2012,2012,1936,2012,2012,2012,2018,2008,2008,2008,1979,1979,1979,1965,1965,1985,1985,1985,2009,2009,2009,2017,1984,1984,1984,2020,2020,1970,1970,1970,1942,1968,1987,2006,2006,2006,1989,1959,1990,1990,2013,2013,2013,2015,2015,2015,1980,2012,2012,2012,2017,1992,1992,2002,2002,1991,1979,1990,1990,1981,1969,1969,1984,1996,1996,1983,1986,1986,1986,1991,1982,1982,1990,1990,1976,1976,1970,1970,1970,1936,1997,1997,1997,1967,1967,1967,2018,2018,2019,1955,1955,1955,2003,2003,2003,1953,1953,1953,2012,1973,1973,2019,2019,1941,1962,1962,2007,2007,2007,1998,1998,2010,2010,2010,2019,1985,1991,1991,1961,1961,1961,1964,1964,2017,1938,1938,2014,1991,1991,1969,2006,2017,2000,2000,2000,1960,1960,1960,2003,2003,2003,2012,2012,2012,2005,2005,2005,2011,2011,2011,1992,1992,1992,2008,2008,2008,1999,2012,2012,2012,2001,2001,1950,1950,1950,2003,2003,2005,2005,1967,1967,1967,1966,1966,1966,1971,1965,1965,1965,2013,2013,2013,1980,1980,1980,2007,2007,2007,1957,1957,1982,1982,1970,1970,1970,2012,2012,2012,2013,2013,2017,2017,2000,2000,2000,2019,2000,2000,2000,1973,1973,1989,1989,1989,2007,2007,2007,2007,2007,2007,1994,1994,1968,1997,1997,1997,1980,1980,1997,1997,2019,2019,2019,1997,1997,1997,2017,2017,2016,1973,1973,1973,1975,1975,1975,2004,2004,2017,2017,2017,2019,2021,1996,1996,1996,2000,2000,2000,1989,1989,2000,2000,2000,1998,1961,1961,1961,2019,2019,2019,2017,1979,1992,1992,1992,2016,2016,1990,1990,1990,2005,2005,2005,1979,1979,1996,1989,1989,2019,2007,2007,2007,1983,1983,1983,1980,1980,1980,2000,2000,1944,1944,2019,1981,1980,1980,1980,2017,2017,2017,2002,2021,2021,2021,1987,1987,2013,2013,2021,2021,2021,2015,1959,2017,1965,1965,1965,2005,2005,2005,2018,2018,1979,1979,1979,1999,1999,1999,1975,1975,2018,2018,2020,2020,2020,2000,1981,1981,2010,2010,2010,2004,1975,1987,1987,1982,1982,2014,2014,2014,2020,1989,1989,2002,2002,2002,1990,1987,2015,2003,2018,1970,1970,1970,2021,2016,2016,2016,2006,2006,1994,1994,1994,2001,2001,2001,1998,1998,1998,1999,1999,1976,1976,2019,2019,2019,1963,1963,1988,2000,2006,2006,2006,1961,1988,1988,1988,2011,2011,1999,1999,1999,2006,2006,2019,2019,2019,1981,2017,2017,2017,1996,1996,1996,1998,1998,2019,2017,1990,2003,2003,2012,2012,2016,2016,2008,2008,1989,1981,1981,1973,1973,1968,1968,1968,2014,2014,2014,1963,2000,2000,2000,1984,1984,2013,2013,1999,2007,2007,2013,2010,2010,2010,2012,2012,2012,1971,1971,1971,1959,2003,2003,2003,1992,2009,2009,2009,2005,2005,2005,1960,1960,1960,1989,1989,1960,1960,1960,1986,1986,1958,1958,1958,1980,1977,1977,1977,1993,1993,1993,2019,2019,1951,1951,1980,1980,1980,2002,1959,1959,2018,1976,1976,1976,1996,1996,1948,1997,1981,2005,2005,2005,2001,2012,2012,2013,2013,2009,2009,2009,2009,2009,2009,1984,1989,1997,1963,1963,1963,1999,1999,2019,1949,1949,1959,1971,1959,1959,1959,1994,1994,2000,1960,1960,1960,1994,1994,1989,1989,1989,2019,1988,1988,1968,1968,2017,2013,2013,2013,2016,2016,2016,2005,2005,2005,1993,1993,1993,1994,1995,1995,1995,2014,1983,1983,1983,1998,1998,2018,1985,1985,1984,1984,2014,2014,1977,1977,1986,1986,1986,2009,2008,2008,2008,1985,2000,2000,1979,1979,2010,2010,2010,1999,1999,2014,2014,1978,1978,1978,2018,2018,2018,1980,1980,1980,2002,2002,2002,2008,2008,2008,2019,1992,1992,2005,1988,1988,1988,1984,1984,1993,1993,1974,1974,1991,1973,1973,1973,2018,2018,1964,1964,1964,2001,2001,2001,1957,1957,1983,1983,2018,1971,1971,1970,1970,1970,1981,1981,1981,2013,2013,2006,2015,2015,2015,2004,1987,1987,1991,1991,1991,2015,2015,2015,1997,1997,1997,1997,1997,1999,1999,1983,1959,1959,1983,1983,1993,1993,1993,2018,2018,1973,1998,1998,1998,2020,2020,2002,2002,2002,2016,2019,2019,2019,2012,2012,2020,2020,2020,1976,1976,1976,1984,2018,2004,2004,2004,1993,1993,1993,1976,1976,1976,2007,2007,2007,1993,1993,1993,2004,2019,2019,1986,1986,2017,2005,2005,1970,1970,2019,2019,1996,1996,1996,2015,2015,2015,2006,2006,2006,1942,1942,1979,1979,2019,2019,1965,1965,1984,1980,2007,2011,2011,1990,1990,1990,1988,1988,1978,1978,2010,2010,2010,2000,2000,2000,1989,1989,1958,1941,2018,1992,1992,1992,2003,2003,2003,1975,1975,1975,1977,1977,2016,2016,2008,2008,2010,2010,2010,2010,2010,1992,1992,1992,2000,2000,2000,2012,2012,1996,1996,1996,1968,1968,1970,1970,1970,1989,1989,2017,2017,2017,2012,2012,1999,1999,1999,2014,2014,1981,1981,1988,1988,1988,1991,1991,1991,1981,1974,1974,1996,1977,1977,1999,1989,1991,1999,2006,2006,2006,1958,1974,1974,1974,2015,2007,2007,1980,1980,1980,1992,1992,1992,2020,2020,2020,1983,2010,2010,2010,1982,1982,1994,1994,1994,1987,1964,1964,1964,1992,2005,1975,1975,2003,2003,2003,1997,2014,2014,2014,1980,1980,1980,2020,2003,2003,2003,2016,2016,2014,2014,2014,2008,2008,2008,2014,2014,2014,1992,1992,1992,1977,1977,1963,1963,1962,1962,1962,1993,1993,1993,1986,1986,2019,2019,2004,2004,2004,2015,2015,2017,2009,2009,2009,1974,1974,1974,1937,1990,1990,1990,1995,1995,1995,2004,2004,2008,2008,2008,1943,1956,1956,1956,2012,2012,2012,1986,1986,2005,2005,2005,2004,1978,2009,2009,2009,2019,2019,2019,1983,1983,1977,2010,2010,2010,2002,2002,2010,2010,2010,1960,1960,1960,1993,1993,1964,1964,1964,1991,1999,1999,1999,2005,2005,2005,2003,2003,2021,1976,1976,2005,2005,2002,2002,2002,2003,2003,2003,1986,1986,1978,1974,1974,1974,2020,1972,2001,2020,2020,2020,2014,2014,1997,1997,1997,1981,1981,1981,2002,2002,1997,1997,1997,1994,1994,1994,2010,2010,2010,2008,2008,2008,2018,2017,1993,1996,1996,1996,1997,2012,2012,2012,2004,2004,2020,2020,2020,1990,1990,1990,2000,2000,2000,1981,1981,1981,2006,2006,2006,2013,2013,2013,1993,1993,1993,2011,2011,2003,2003,2018,2007,2001,2001,2001,1998,1998,1998,2015,2015,2003,2003,2003,2018,2002,2002,2002,2018,2005,2005,2006,1981,1981,1981,1998,1998,1998,1987,1985,2014,2014,2017,2017,2017,1955,1955,1993,1993,2000,2000,2000,1974,1974,2007,1991,1991,1991,2009,2009,2009,2000,2000,2000,2008,2008,2008,2010,2018,2014,2014,2014,2000,2000,2007,2007,2007,2011,2011,2011,2002,2002,2005,2005,2016,2012,2001,2001,2001,2005,2005,2004,2004,2004,1994,1994,2011,2007,2007,2007,2019,2019,2019,2016,2016,2016,2017,2017,2017,1992,1992,1992,1981,1981,1981,1999,1999,1999,1966,2014,1981,2006,2011,2011,2011,1953,1975,1975,2010,2010,2010,2001,2001,2001,2006,2006,2006,2013,2017,2017,2017,1997,1997,2010,2010,2010,2021,2021,2021,1979,1979,2005,2005,1953,2018,2018,2001,2001,2001,1958,1958,2014,2014,2004,2004,2013,1984,1984,1984,1971,1971,1991,1982,2014,2004,2004,2004,1999,1999,1966,1978,1971,1960,2002,2002,2002,2012,1992,1992,1992,2010,2010,2010,1991,1991,1991,2016,2011,2011,2011,1989,1989,1989,2018,2019,2019,2013,2013,2013,2018,1967,1967,1967,1997,1997,1997,2010,1993,2020,2020,2020,2012,2012,2012,2012,1964,1964,1964,1939,1939,2008,2008,2014,2014,1990,1990,1990,2016,2016,2016,2002,2002,2002,2004,2004,2004,2009,2009,2009,2004,2017,2017,2013,2013,2013,1988,2017,2017,2017,2010,2007,2007,2007,2014,2014,2017,2012,2012,2007,2007,2019,2019,2018,2012,2012,2012,1939,1939,2012,2012,2019,2007,2007,2014,2014,2014,2016,2016,2016,2016,2013,2019,2001,2001,2001,2020,2020,2014,1996,1996,1996,1973,1973,2003,2003,2003,2015,2015,2012,2012,1987,1987,1987,1997,2019,2007,2007,2005,2005,2005,2009,2009,2009,2020,2020,2020,2009,2009,2012,2014,2014,2014,2017,2017,2017,2011,2011,2011,2020,2020,2013,2013,1993,1993,1993,2019,2019,1991,1991,1991,1986,1986,2020,2020,2009,2009,2009,2016,2017,2017,2017,2003,2003,1997,2011,2011,2011,2015,2011,2011,2009,2016,2016,2009,2009,2006,2006,2006,2004,2004,2004,1966,1966,1966,2006,2016,2001,2001,2001,2009,2009,2009,1989,1989,1959,2018,2018,2020,2020,2016,2016,2018,2021,2021,2021,1981,1981,1981,2008,2008,2008,2018,2011,2011,2018,2018,2018,2012,2012,2018,2018,2016,2016,2008,2010,2010,2010,2019,2019,2019,2009,2009,2009,2009,2015,2017,2017,2017,2014,2005,2005,2005,2020,2020,2020,2019,2019,2018,2018,2018,2018,2011,2011,2017,2012,2015,2015,2012,2012,2019,2014,2014,2014,2014,2014,2014,2014,2016,2016,2016,1962,1962,1962,1992,1992,1957,1957,1976,1976,1970,1960,1960,1986,1985,1999,2002,2002,1996,1996,1996,1964,2018,1980,1980,2008,2008,2008,1984,1995,1995,1995,2018,1984,1984,2017,2013,2013,2013,2021,2021,2014,2017,2017,2017,2016,2016,2016,2021,1994,1994,1994,1959,1959,2019,2019,2009,2009,1974,1974,1974,2004,2004,2004,2006,1958,1958,1958,2016,2016,2009,2009,2009,2015,2015,2013,2013,2013,2004,1996,1979,1985,1985,1985,1989,1989,1983,1983,1983,1981,1981,1981,1965,1965,1965,2013,2013,2013,2013,2013,2013,1985,1985,1985,1949,1949,1949,1970,1970,1970,1987,1998,1998,1998,2012,2012,2008,2008,2008,1990,1990,1990,2016,2007,2015,1969,1969,2013,2013,1957,1957,1995,1995,2005,2005,2005,2015,2015,2015,1981,1981,2014,2014,1983,1983,1989,1986,1962,1962,2004,2004,2004,2015,1994,1994,2013,2013,2013,2021,2003,2003,2003,1998,1998,1971,1971,1971,2014,2014,2014,1999,1978,1978,2017,2019,2019,1988,2005,2005,2005,2002,2002,2005,2005,2005,1987,2017,1991,1967,2021,1998,1998,1998,2001,2001,2001,2019,2019,2019,2006,2020,2020,2020,2010,2010,2010,1994,1966,1966,1969,1969,1971,1971,2004,1972,1972,1999,1973,1973,1973,1983,1983,1983,1983,1983,2005,2005,2005,2013,2013,1981,1981,2007,2007,2007,2019,2019,2019,2015,2015,2015,2014,2014,1976,1976,1976,1962,1962,1980,1980,2007,2007,2007,1974,1974,1974,2018,2018,2017,2017,1960,1960,1979,1979,1979,1974,2003,2003,2003,1984,1984,1985,1985,1985,1998,2018,2018,2014,2014,2014,2019,2019,2019,2014,2007,2007,2007,1955,1955,1955,2019,2019,2019,2003,2003,2019,2017,2002,1987,1987,2019,2019,2014,2014,2014,1971,1971,2015,2017,2014,2014,2002,2002,2002,1950,1984,1984,1984,2005,2005,2005,2020,2020,2020,2009,2009,2009,1983,1996,1996,1996,1986,1999,1999,1999,1991,1991,1991,1970,1970,1970,2001,1985,1985,1985,2004,2004,2004,2011,2011,2011,2017,2016,2013,2013,1985,1985,2013,2013,2003,1975,1975,2011,2011,2011,2018,1998,2003,1983,1983,2002,2012,2012,2012,2001,1993,1993,1993,1958,1958,1972,1954,1954,1954,2005,1975,1934,1983,1983,1976,2009,2009,2009,2018,2020,2010,2010,1942,1981,1981,1981,1979,1979,1992,2015,2015,1991,1991,2018,1982,1971,1971,1971,1976,1976,2008,2008,1998,1962,1962,1962,1967,2018,1948,1948,1948,1971,1971,2000,2000,2000,1997,1997,1956,1956,1956,1961,1961,1964,1964,2010,1971,2006,2006,1995,1995,1973,1992,1971,1971,1986,1968,1968,1970,1970,1989,1990,1990,1978,1978,1978,2020,1985,1966,1966,1966,1988,1984,1985,1985,2000,1971,1988,2008,2008,2008,1972,1972,2011,2011,2011,2013,2013,2013,1998,2012,2013,2013,1970,1970,1968,1968,1972,1972,1972,2006,2006,2006,2009,2009,2009,1963,1963,1963,2018,1992,1992,1965,1965,2002,2002,2002,1981,1981,1981,1984,1984,1969,1969,2004,2004,2004,1979,1979,2003,1985,1985,2006,2006,2006,2018,2001,2017,2017,2017,1989,1989,1989,2011,2011,2013,2013,2012,1967,1967,1967,2019,2019,1972,1972,1972,2010,2010,2020,2011,2011,2011,1975,1975,1975,2011,1999,1999,2010,2010,2010,1986,1986,2004,2017,2017,2017,1954,1954,1954,2017,1957,2016,2016,2016,1949,1949,1998,1998,1998,1936,1957,2012,2012,2012,1935,1989,2015,2015,2015,2016,2005,2005,2018,2018,2018,2016,2008,2008,2008,2000,2000,2000,2019,2019,2004,2008,2008,2008,2002,2018,2001,2001,1989,1989,2006,2006,2016,2011,2011,2011,2016,2016,2016,1985,1997,1997,1998,1965,1965,1997,1997,1994,1994,1994,2000,2000,2000,2015,2015,1984,2014,2009,2016,2016,2016,1994,1994,1994,1987,1987,2019,2001,2001,2001,2013,2013,2017,2017,2017,1972,1972,1972,2008,2008,2011,2011,2011,2015,2015,2015,2013,2013,2013,2001,2001,2001,2015,1970,1970,1970,2021,2004,2004,2009,2021,1999,1999,1957,1957,1957,1975,1975,2007,2007,2007,2014,2014,2014,2004,2005,2005,1955,1955,1955,1997,1997,1997,1994,1994,1994,1996,1992,1992,1992,2007,2007,2007,1987,1987,1987,1961,1961,1961,2017,1979,1979,1979,1996,1996,1996,1974,1974,1952,2010,2008,2008,2008,1957,1957,1957,1987,2015,2015,2015,1964,1964,1964,2017,1977,1997,1997,1997,1997,1997,2015,2015,2020,2020,2020,2015,2015,2015,2016,2016,2016,2015,2015,2015,2017,2017,2017,2017,2019,2019,2018,2003,1986,1986,1986,1983,1983,1963,1963,1963,2001,2001,1992,2011,2011,2011,2004,2004,2008,2008,2008,1988,1977,1977,1977,2018,1988,2016,2016,2016,2014,2014,2014,2015,2016,2008,2014,2014,2003,2003,2008,2013,2013,2013,2021,2021,2003,2003,2003,2005,2012,2011,2011,2011,2011,2011,1955,1955,1955,1972,2003,2003,2014,2017,2017,2017,1999,1999,1999,1979,1979,1979,1993,1993,1993,1978,1978,1987,1987,1987,1978,1978,2004,2004,2004,2011,2011,2011,2013,2013,2013,1957,2004,2004,2004,2019,2019,2019,2004,2004,1992,1992,2017,1993,1993,1995,1995,1995,2017,2015,2018,2005,2005,2020,2020,2013,2013,2013,1984,1984,1984,2006,2006,2006,2016,2007,2008,2008,2011,2011,2011,2017,2010,1970,2010,2005,2005,2005,2012,2018,2018,2015,2015,2015,2011,2002,2002,2002,2004,2004,2004,1992,1976,1972,1972,1972,1991,1995,1995,1979,1979,1986,1986,1986,2005,2005,2016,2016,1987,1987,2017,2017,1991,1991,1977,1994,1994,1994,2013,2013,1989,1971,1968,1982,1982,1948,2000,2000,1954,1954,1954,1976,1976,1976,1986,1986,1967,1967,2021,1973,1973,2005,2005,2005,1979,1979,1943,1981,1981,1981,1962,1962,2006,2006,2006,2010,2010,2010,2009,2009,2009,1996,1996,1996,1982,1982,1982,1973,2018,2018,2018,2007,2007,2007,2018,1982,1982,2010,2010,2010,2014,2007,2007,2007,1969,1969,1969,2018,2018,2018,2007,2007,2007,1955,1981,1981,1991,1991,2017,1963,1940,1978,1978,1981,1981,1981,1997,1997,1997,1986,1986,1992,2013,2013,1986,1986,1954,1954,1954,1969,1969,2015,1957,1957,1957,2011,2011,1962,1951,1999,1955,1955,1979,1979,1953,1953,1957,1957,1957,2013,2013,2013,2005,1959,1959,1959,2018,2018,1956,1957,1957,1957,1978,1978,1978,1974,1974,1990,1971,1971,2001,2001,2001,2003,1990,2005,1995,1995,1995,1961,1961,1961,2021,2005,2005,2005,1946,1947,1947,1947,1968,1968,1968,1957,2003,1966,1966,2016,2016,2016,1980,1980,2007,2007,2007,1990,2014,2005,2005,2005,1966,1966,1956,1956,1956,1986,1986,2009,2009,2009,2017,2017,2015,2000,2000,1989,1989,1989,2017,2017,1958,1958,2015,2015,1996,1996,1996,1996,1996,1973,1973,2018,2018,2018,1974,2019,1938,2019,2011,1983,1983,1983,2007,1965,1980,1980,1989,1989,1989,1975,1975,1992,1992,1992,2005,2005,2005,2020,2020,2020,2011,2011,2011,2010,2010,2010,2007,2007,2007,2018,2021,2021,2017,2017,2017,1979,1979,1979,1967,1967,1967,2011,2011,2011,2019,2019,2011,2011,2019,2019,2018,2018,2018,1991,1991,1991,1990,1999,2020,2020,2020,2014,2014,2012,2008,2002,2018,2018,2019,2017,2019,2019,2006,1995,2008,2008,2017,2017,1988,2002,2002,2007,2007,2007,2017,2017,2017,2012,2012,2012,2006,2006,2006,2020,2020,2018,2018,2015,2010,2010,2010,2013,2013,2013,2001,2001,2001,2014,2014,2014,1971,1971,2019,2019,2019,2004,2018,2016,2016,2008,2008,1999,1999,1989,1989,1965,1965,1965,2013,2013,2013,2003,2003,1961,1961,1961,1968,1968,2020,2020,2020,2014,2014,2014,1977,1985,1985,1985,2015,2003,2003,2003,2012,2008,2008,2008,2015,2015,2019,2019,2019,2009,2009,2001,2012,2012,2012,2003,2003,1981,1981,1995,1995,2003,2003,2003,1988,1988,1988,1990,1988,2013,1984,2010,2010,1992,1992,1992,1985,2018,2018,1973,1985,2018,2018,2018,2005,1968,1968,1968,1941,2019,2019,2014,2014,2018,2018,2005,2021,2021,2020,2019,2019,2019,1977,1977,2005,2005,2005,1959,1959,2019,2019,2019,2018,1956,2004,2004,2004,1969,1969,1969,1984,2018,2019,2019,2019,1986,1986,1967,1967,1967,1977,1977,2018,2018,2018,1992,1992,1974,1974,1974,2018,2010,2010,2010,2008,2008,1958,1958,1992,1992,2020,2020,2019,2019,2019,2010,1996,2000,1953,1953,1996,1996,2010,2010,2010,2015,1987,1987,1987,1995,1994,1994,1994,1993,1993,1993,2014,2014,1971,1971,1963,1963,1963,2003,2003,1989,1989,2015,1972,1992,1992,1992,1997,1997,1997,1957,1957,1957,1970,2020,2018,2018,2018,2018,2018,1972,1972,1972,1989,1989,1989,1989,2005,2005,2005,1968,1968,2018,2018,2018,1985,2007,2007,2007,1984,1958,1958,1977,1977,1977,1971,1971,2003,2003,2003,2005,2005,1961,1961,2018,2018,2018,1985,1985,1993,2011,1971,1971,1971,1949,1949,2017,1985,1966,1966,1966,1978,1978,2019,2019,2014,2011,2011,1953,1980,2004,2013,2003,1974,1974,1991,1991,1991,1967,1967,1967,1970,1961,1980,1968,1968,1968,2010,2010,2010,1957,1957,1957,2009,2009,2008,2008,1995,1995,2012,2012,1986,1986,2010,2010,1993,1993,1993,2005,1993,1993,1993,1955,1955,1955,2008,2019,2017,2017,2017,1999,1999,1999,1987,1987,1987,1988,1988,1984,1984,1978,1978,1985,1973,1973,1973,2018,2018,2018,1978,1978,2015,2015,2015,2010,2010,2010,2013,2013,2011,2011,2011,2017,2017,2017,2017,2000,2000,2000,2006,2006,1974,2004,2018,1958,1958,2008,1993,1993,1980,1980,1980,2016,2016,2016,1945,1993,1993,1991,1991,1991,1966,1966,1966,1978,1978,1993,1964,1964,2008,2008,2008,2010,2010,2010,2013,2019,2019,2017,2017,2019,1984,1984,1966,2013,2013,1985,1985,1985,2016,2016,2015,2015,2003,1972,2016,2016,2016,2016,2017,2017,2002,2002,2021,2021,1972,1972,1972,1958,1958,1958,1985,1934,1934,2014,2014,2014,2014,2018,2018,2004,2004,2004,1993,1993,1993,2018,2012,2012,2012,2019,2019,2015,2015,1992,1992,1992,2004,2004,2004,1992,1990,1990,1993,2013,2013,2013,1995,1995,2004,2004,1964,1964,1964,1981,1965,1965,1965,2017,2017,2017,2004,2004,2004,1958,1958,2017,1973,2013,2013,2013,1991,1991,1991,2017,2003,2003,2019,2019,2019,2004,2019,2019,2006,1990,1990,2020,2020,2020,1987,1987,1987,1991,1991,1991,1991,2010,2010,1981,1994,1971,1971,1995,1995,1995,1998,1998,1992,1992,1992,1981,1937,1937,1937,1975,1975,1975,1974,1974,1974,1962,1962,1989,1989,1970,1970,1970,1991,1991,2015,2015,2015,1982,1982,1982,1974,1974,1983,1983,1994,1994,1996,1996,1996,1997,2004,2004,2004,2010,2010,2010,1997,1997,1997,1943,1997,2005,2005,2005,1978,1978,1978,1973,1973,1973,1962,1962,1962,1994,1981,1981,1981,2016,2018,2016,2016,2016,2003,2003,2003,1983,1983,1983,1983,1983,1983,1986,1986,1986,1970,1970,1984,1984,1984,1978,1978,1978,1989,2014,2014,1965,1965,1972,2002,2002,2002,2010,2010,2011,2011,2011,2015,2015,2015,1973,1993,1993,1987,1987,2019,2006,2006,2006,2003,2003,1998,1998,1998,1999,1999,1999,2005,2005,2005,1998,1998,1998,2001,2001,2001,2014,2001,2001,2001,1957,1957,1957,2002,2002,2003,1981,1981,1991,1991,1969,1992,1985,1985,1990,1990,1990,1990,1988,1988,1969,1969,1969,1969,1969,1969,1991,1986,1986,1987,1987,1987,1990,1990,1990,1987,1987,1987,1971,1971,1986,1986,1966,1966,2006,2006,2006,1985,1985,1985,1984,1975,1975,1975,1984,1984,2017,2017,2012,1988,1988,1988,2001,2001,1986,1986,1983,1983,1983,1988,1988,1988,2003,2003,2003,1998,1998,1998,2013,2013,2013,2009,2009,2009,1980,1980,1980,2013,2013,2013,2011,2011,2011,2017,2017,2017,1979,1979,2017,2017,2017,1958,1958,2019,1975,1975,1989,1989,1989,2007,2007,2007,1976,1972,1972,2013,2013,1995,1995,1972,1972,1992,2020,2020,2020,1967,1967,2021,2021,2009,2009,1987,1987,2010,2010,2010,1967,1967,1981,1981,1981,2002,2002,2002,2012,2012,2012,2016,2016,2016,2009,2009,2009,2018,2018,2018,2008,2008,2008,2013,2013,2008,2008,2008,2013,2013,2013,2018,2018,2018,1983,2018,1954,2021,2021,2021,2009,2009,2009,2017,2017,2017,1990,2008,2008,2008,2003,2003,1995,1995,2011,2011,2011,2014,2015,2015,2017,1969,1953,1978,2001,2018,2018,2018,2016,2016,1955,1955,1955,2019,2019,2015,2015,2004,2004,1956,1956,1956,1982,1982,1959,1995,1995,1995,2018,1968,1968,1968,1994,1994,1994,2003,2003,1952,1996,1996,1996,1997,1997,2000,2000,2000,2014,2014,1969,1999,1999,2013,2013,2013,2013,2013,1996,1996,1996,1964,1964,1964,2018,2018,2018,2010,2010,2010,1974,1974,1992,1951,1951,1936,1992,1992,1992,2000,2000,2000,1962,1962,1972,1972,1972,2004,2004,2010,2010,2010,2010,2010,2010,2012,1994,2019,1981,1981,1977,1996,1996,1984,1984,1984,2017,1967,1967,1967,1980,1980,1980,1977,2007,2007,2007,1995,1995,1995,2019,1989,1989,1989,1943,1943,1943,2017,2020,1984,1985,1985,1985,1985,2008,2008,2008,2010,2010,2010,2017,2017,2013,2013,2013,1988,1988,1988,2010,2010,2010,1991,1991,1991,2005,2005,2005,1985,2013,2013,2013,2019,2019,1944,2015,1996,1996,1996,2015,2017,1993,1993,1983,2006,2006,2006,1982,1982,1995,1995,1995,2019,2013,2013,2013,2017,2017,2017,2013,2013,1975,1975,1975,1959,1959,2019,2010,2010,2010,2015,2015,2015,2015,2015,2015,1986,1986,2007,2007,2007,2013,2013,2013,2011,2011,2011,2018,2018,2018,1944,1944,2004,1995,1995,1995,2011,2011,2011,2016,2016,2009,2009,2009,1980,1980,1980,2007,2007,2007,2007,2007,2007,2017,2018,2021,2000,2000,2000,2020,2006,2001,2001,2005,2007,2007,2019,1962,1962,1962,2019,1974,1974,1971,1971,1971,2002,1996,1996,1988,2018,2005,2001,2014,2014,2014,2017,2017,2010,2010,2010,1988,1979,2013,2013,2013,1965,1965,2002,2002,2007,2007,2007,2019,2014,2014,1972,2012,2012,2012,2014,2021,2002,2003,2009,2009,2009,2009,2009,2008,2008,2008,2019,2014,2014,2014,1995,1995,1995,2016,2016,2008,2008,2009,2009,1999,1999,2011,2011,2011,1981,1981,2006,2006,2006,2016,2016,2016,2005,2005,2005,2010,2010,2010,1988,2019,2019,2019,1991,2021,2021,1981,1981,1981,2015,1993,1993,1993,1970,1970,1970,2018,2018,1974,1974,1974,1942,1974,1974,1974,1990,1990,1990,2016,1992,1992,2012,2012,2012,2015,2015,2015,2008,2008,2008,1993,2004,2004,2004,1989,1989,1989,1997,2017,2017,2004,2004,2004,2015,2020,2020,2020,1962,1962,1962,2017,2017,2009,2009,2009,1991,1991,1991,2012,2012,1982,2016,2016,2016,1966,1966,1967,1967,1967,1964,1964,1964,1994,1994,2019,1985,1985,1985,1991,1991,1991,1978,1978,1978,1996,1996,1994,2016,2016,2016,1979,1979,2019,2019,2017,2017,2008,2016,2016,1984,2013,2013,2015,1969,1969,1969,1998,1998,2016,1982,1968,1968,1991,1991,1991,2002,2002,2002,1992,2015,2006,2006,2006,2007,2007,2007,1989,2003,2003,2003,1966,1966,1966,1975,1975,1975,1998,2020,2015,2015,1980,1980,1994,1994,2017,1995,1995,1995,1976,2003,1979,1979,1979,1970,1970,1970,1969,1969,1969,1989,1989,2017,2017,2006,1991,1991,1991,2020,2020,2012,2012,2012,1958,1968,1968,2010,2010,1983,1983,1970,1970,1951,1988,1958,1958,1996,1996,1996,2013,2013,2011,2011,2011,2018,2018,2018,2013,2013,2013,1981,2011,2011,2011,1962,1962,1993,1993,2021,2021,2021,1993,1993,1993,2002,2002,1969,1969,1969,1986,1982,1982,1982,1998,1998,1975,1975,2007,2007,1988,1988,2005,2005,2005,2017,2007,2007,2007,1989,1989,2017,1997,1980,1950,1972,1972,1972,1970,1998,1999,1999,1959,1959,1959,2003,2003,2003,2017,1979,1983,1983,1983,1961,1961,1961,1982,1982,1982,2014,2014,1958,1958,1958,1964,1964,1986,1986,1986,1997,1997,1997,1991,1991,2016,2016,2009,2009,2009,2016,2016,2016,2005,2021,2021,2021,2006,2006,1964,1964,1964,1952,1952,1952,1994,1994,1992,1992,1999,1999,1999,1950,1993,1993,1964,1964,1943,1943,1972,1972,1972,1985,2018,2018,2018,2009,2009,2009,2009,2009,1976,1976,1981,1981,1996,1940,1940,1982,1982,1937,2016,2016,2016,1993,1993,1989,1989,2002,2002,1975,1992,1992,1968,1996,1996,1996,1969,2018,1961,1961,1961,1966,1966,1966,1968,1968,2016,2016,2016,2016,2016,1993,1993,1993,2021,2021,2021,1996,1985,1999,1999,1979,1979,1950,1950,2017,1960,2006,2006,2005,2005,2005,2005,2017,2017,2017,2008,2008,2008,1979,1979,1986,1984,1984,1980,2019,2019,2008,2008,2011,2011,2011,2003,2003,1982,1982,1982,1998,1998,1998,2013,2013,2013,2013,1982,1982,1969,1978,1978,2000,2000,2018,2018,2018,1991,1991,2004,2004,1995,1973,1973,1991,1991,1991,1991,1991,1991,2001,1999,1996,1986,1982,1982,1982,1970,1970,1970,1966,1966,1979,1979,1979,2007,2007,2012,2020,2020,2020,1951,1951,2020,2019,2006,2006,2021,2021,2021,2019,2015,2015,2012,2017,2017,2021,2021,2019,2019,2019,2018,2018,2017,2017,1955,1972,1972,1972,2010,2010,2010,1994,1994,2005,2005,2005,1996,2020,2020,2019,2017,2006,2006,2006,1972,2019,2014,2014,2017,2017,2005,2006,2006,2006,2018,2021,2021,1980,1980,1980,2015,2015,2015,2010,2010,2010,2005,2005,1949,1949,1949,2005,2005,2005,2011,2011,2011,2015,2011,2011,2011,1948,1948,1965,1965,1965,2002,2002,2002,1988,1988,1953,2012,2012,1946,1946,1946,2006,2010,2010,1949,1974,1974,1974,2011,2011,2011,2006,1990,2011,2011,2011,2007,2007,2007,2020,2020,1965,1965,2002,2002,1982,1982,1982,1993,1993,1993,1947,2020,2020,1978,1978,1978,1998,1998,1961,1961,1961,1954,1954,2015,1974,1974,1990,1990,1990,2012,2012,2012,1976,1966,1966,1966,1976,1976,1976,1991,1991,1991,1984,1997,1984,1984,1984,1957,1957,1957,1970,1970,1976,2015,2015,2015,1984,2002,2002,2002,1981,1981,2019,1971,1971,1971,1969,1969,1986,1986,1986,2004,2004,1996,1996,1969,1969,1986,1986,1986,1982,2016,2016,2008,2008,2008,1950,1986,2011,1964,1947,2020,2020,1956,1956,1956,2017,1999,1990,1990,1990,2000,2000,1968,1968,2020,2020,2020,2000,2000,2000,1963,1963,1963,1991,1991,1953,2005,1979,1979,2020,2020,2012,1977,1977,2001,2001,2012,1989,1989,1989,2006,2006,2006,1985,1985,1985,1988,1988,1988,2016,2016,2016,2004,2004,2012,2012,2018,1961,1961,1992,1992,1992,1975,1975,1975,1999,1999,1999,2006,1988,2007,2007,2007,2013,2013,2013,1972,2010,2010,2016,2016,2013,2013,2013,2016,2016,2016,2009,2009,2013,2007,2007,2007,1981,1981,2013,2013,1955,1955,1955,1962,1962,1962,1971,1971,1971,2017,1993,1993,1985,1985,1960,1960,1960,1982,1982,1982,1968,1968,2013,2013,1983,1983,2017,2017,2020,2020,2020,2013,2013,2013,2017,2017,2017,2020,2004,2004,2004,2014,2019,2011,2011,1990,2013,2009,2009,2009,1999,1999,1989,1989,2004,2015,2021,2021,2005,1981,1981,1981,1999,1999,1999,2018,2018,2002,2002,2018,2018,2018,2017,2017,2017,2019,2019,2019,1987,1987,1960,1960,2015,2015,2008,2008,2008,2013,2013,2011,2011,2011,2019,2019,2014,2014,2014,1986,1986,1986,2005,2005,2005,2018,2018,1993,1993,1993,2007,2008,2005,2005,1980,1980,2007,2007,2007,2006,2016,2013,2013,2013,2012,2021,2021,2021,1973,1973,2000,2000,2000,1999,1999,2013,2013,2013,2002,2002,2002,2005,2005,2005,1948,1948,1985,1985,1985,1958,1958,2014,1998,1998,1998,1958,1958,1958,1979,1956,1956,1956,2009,2009,1964,2012,2012,2013,2013,2013,2014,2014,2019,2019,2019,1958,1958,1988,1988,2018,2018,2012,2012,2012,2018,2018,2020,2018,2018,2018,1988,1999,1999,2008,2008,2008,2013,2010,2010,2010,2011,2011,2008,2008,1983,1983,1983,1989,1989,2006,1982,2014,2013,2013,2013,2007,2007,2007,1999,1999,1968,1968,1968,1975,1975,2004,2004,1960,1960,2003,2003,2011,2011,2011,1989,1989,1989,2014,2014,2014,1956,1956,2007,2007,2012,1991,1991,2009,2009,2007,2007,2007,1961,2018,2018,2020,2020,1995,2009,2009,2009,1938,2010,2010,2010,2014,2012,2012,2012,2019,2019,2019,2003,2003,2003,2001,2001,2001,1954,1971,1971,1971,1966,1966,1966,2005,2005,2005,2005,2000,2000,2000,1979,1979,1979,1994,1994,1994,1968,1968,1986,1970,1970,2018,2018,1960,1960,2014,2014,2004,2004,2004,2000,2000,2016,2016,2016,2008,2008,2008,2018,2018,1983,1982,1982,1982,2006,2006,1979,1979,1979,2008,2008,2008,1949,1968,1968,1968,2013,2013,2013,2017,2017,1984,1984,2009,2004,2004,2004,2005,2016,1976,2003,2003,2003,2014,2019,2019,2013,2013,2013,2014,2014,2014,1994,1994,1987,1987,1987,2008,2008,2008,2002,2002,2002,1985,1985,1985,1966,1966,1966,1973,1973,2020,1979,1979,1979,1995,1995,1995,2014,2014,2014,1985,1985,1985,1992,1992,1987,2004,1977,2007,1982,1982,1990,1978,1978,1978,1986,1980,1980,1980,1983,1983,2017,2017,2017,2021,2021,2018,2007,2007,2007,1999,1999,1999,2020,2020,1995,1995,2004,2004,2004,1999,2013,2013,2013,2003,1990,1993,1993,1992,1992,1992,1986,1986,1986,1993,1993,2020,2020,1956,1956,2003,2003,2003,2005,2005,2005,1981,1981,2019,1995,1995,1995,1980,1958,2012,2012,2012,2003,2003,2003,1996,1996,1969,1969,2009,2009,2009,2020,2020,2020,2015,2015,2015,1988,1988,2014,2014,1998,1952,2015,2015,2015,1986,1972,1972,1972,1955,1955,2005,2005,2005,2020,2020,2020,2021,1943,1943,1943,2011,2011,2011,2015,2015,2015,1976,1976,2000,1967,1967,1990,1990,1990,1995,1995,1995,2019,2013,1979,1979,1984,1997,1997,1997,1995,1984,1984,1984,2000,2000,1995,1995,2019,1970,1965,1965,1965,1966,2002,2002,2002,2008,2008,2008,2008,2008,2006,2006,2006,2004,2004,2017,1985,1985,1985,1980,1980,1954,1954,1973,2006,2006,2006,1977,1977,1977,2016,2016,2016,2009,2009,1968,1973,1973,1973,1965,1965,2010,2010,2010,1965,1965,1965,1938,2016,2010,2010,1965,1965,1965,1994,1994,1982,1982,2006,2006,2006,1966,1966,1966,1966,1966,1966,2003,1994,1994,1985,2011,2011,2011,2005,2005,2005,2019,2017,2017,2000,2000,2009,2009,2009,2001,2015,2016,2016,2016,2010,2010,2016,1989,1963,1963,1963,2010,2001,2001,2001,2011,2011,2011,1971,1971,1996,1996,1996,2012,2012,2012,1978,2009,2009,1984,2018,2018,2014,2020,2020,2020,1982,1982,1985,1985,1985,2012,2012,2012,1993,1993,2016,2016,2016,2018,2015,2015,2015,1988,1988,1988,2012,2012,2012,2019,2019,1999,1999,1999,2002,2002,1990,1990,1990,1983,1983,2011,2009,2009,2020,2010,2010,2010,2016,2001,2001,2001,1979,1979,2019,2019,2005,2015,2015,1989,2014,2014,2014,2013,2013,2013,2016,2016,2016,2021,2021,2021,2005,2005,2005,2016,2016,2019,2019,2017,2017,2017,2013,1980,1980,1977,1977,1977,1976,1941,2007,2007,2007,2018,1988,1988,1988,2014,2011,2011,2011,2013,1995,1995,2017,2019,2019,2019,2009,1953,1953,2005,2005,2005,2010,2010,2010,2010,2010,2010,2017,2008,2015,2009,2009,2009,1994,1994,2017,2017,2017,2021,2021,2021,2014,2014,2014,2013,1979,1979,1979,2007,2019,2019,2019,2020,2020,2014,2014,2014,2003,2003,2003,2020,2019,2019,2017,2017,2020,2014,2014,2017,2011,2011,2010,2017,2018,2020,2006,2006,2006,2019,2016,2014,2014,2014,2002,2002,2002,2008,2008,2008,2019,2019,1931,1931,2013,2013,2014,2014,2014,2015,2015,2015,2013,2013,1994,1994,1995,2011,2011,2001,2001,1980,2007,2007,2007,2016,2018,2018,2015,2019,2019,2019,2021,2021,2021,2009,2000,2000,2000,1935,1935,2020,2017,2017,2017,2020,2000,2014,1952,1952,1952,2015,2015,2015,1992,1992,2014,2020,2019,2019,2019,2015,2015,2015,2015,1968,1968,2019,2019,2017,2015,2015,2015,1996,1996,1996,2009,2009,2009,2017,2019,2019,2019,2015,1980,1980,1970,1970,1970,2011,2007,2007,2007,2017,2017,2013,2010,2010,2010,2014,2014,2014,2015,2015,2010,2010,2010,2001,2001,2002,2002,2002,2009,2021,2021,2021,2021,2021,2018,2018,2013,2013,2015,2015,2014,2014,1967,1967,1967,2019,2019,2019,1981,1981,1981,1987,1987,2016,2016,1992,2008,2008,2008,1990,1990,1990,2017,2017,1980,1953,1953,1983,2018,2015,2009,2009,2009,1978,1978,1978,2018,2018,2016,2017,2017,2017,2014,2017,2015,2015,2015,2005,2021,2021,2019,1977,1992,1992,1992,1998,1998,1998,2018,2018,2014,2014,2014,2014,2014,2016,2016,2016,2000,2000,2000,2018,2018,2010,2010,1984,1984,1988,1988,2017,2017,2006,2006,2006,2018,1989,1989,1975,1975,1937,2010,2010,2010,1978,2016,2005,2005,2020,2020,2020,2019,2019,2019,2014,2014,2014,2019,1989,1989,2016,2016,2016,2007,2015,2015,2015,1998,1998,2016,2016,2011,2011,2011,2021,2021,1989,1989,1989,1985,1995,1995,1991,2014,2014,1988,1978,2011,1978,1978,1978,1985,1985,1985,1994,2020,1996,1996,1996,2017,2017,2021,2021,2021,2003,2015,2015,1971,1971,2008,2016,2016,2001,2001,1970,1970,2011,1990,1990,1990,2009,2009,2010,2010,2002,2002,2002,2004,2004,2004,2018,2018,2018,1982,1982,1978,2017,2017,2002,2002,2002,1957,1957,2004,2004,1969,1969,1969,1996,1996,2011,2011,2011,2017,2016,2016,2012,2013,1992,2017,2008,2008,2011,2017,1997,1997,1997,2010,2018,1976,1976,2016,2016,2016,2013,2013,2013,2008,2008,1959,1959,1959,1974,1974,2019,1975,2019,2019,2019,1970,1970,2006,2006,2006,1992,1992,1992,1982,2014,2014,2006,2006,2015,2015,2015,2007,2007,1980,2014,2014,2014,2014,2014,2014,1996,1996,2017,2019,2019,2019,2006,2006,2006,2020,2020,2019,1971,1967,1967,1967,2019,1955,1955,1955,2018,2018,2018,2019,2019,1970,1960,1960,1960,1989,1982,1982,1982,1963,1963,1963,1998,1998,2015,1984,1984,1984,2011,2011,1987,1987,2006,2006,2006,2004,2004,2015,2015,2020,2020,2020,2005,2005,2005,2009,2005,2005,2005,1968,1968,1968,1999,1999,1999,2004,2004,1955,1974,1974,2018,2018,2018,1988,1988,1988,1982,1982,1962,1962,1962,2006,2006,2006,1946,2000,2021,1992,1992,1992,1975,1989,1989,1989,2001,2011,2011,2010,2010,2010,1970,1970,1970,2001,2001,2008,2008,2008,1994,1994,2009,2017,2017,2017,1988,1988,1988,2016,2016,2016,2018,2018,2018,1995,1995,2019,1993,1975,2004,2004,2004,2011,2011,2011,1989,1989,1989,2008,2008,2008,2017,2017,2017,1989,1989,2012,2012,1972,1972,1972,2017,2017,2017,2009,2009,1982,1982,2006,1990,1986,2005,2009,1988,1988,1988,1994,1994,1994,1982,2011,2011,2011,1986,1986,1986,2009,2009,2020,1998,1998,1998,2017,2021,1997,1997,1997,2020,2020,1992,2005,2005,2008,2008,2008,1991,1991,1991,2011,2011,2011,2013,2013,2018,2018,1996,1992,1992,1992,2006,2006,2006,1998,1998,2018,2018,2010,2010,2010,2014,2014,2014,2002,2002,2002,1988,1972,1972,1972,2008,2008,2008,1985,1985,2016,1967,1967,1967,2015,2015,2016,2016,2016,1998,1998,1998,2013,2009,2009,2009,2017,2009,2009,2009,1984,1984,1984,2020,2020,1965,1965,1993,1993,1993,1988,1988,1988,1981,1981,1981,2005,2005,2005,2019,2019,2019,2013,2013,1981,1981,1954,1954,2013,2013,1975,1975,2016,2016,1987,1987,1987,2005,2016,2016,2016,2010,2010,2010,2006,2017,2015,2015,2007,2007,2015,2015,2015,2015,2015,2015,2020,2020,2020,2018,2018,2018,2020,2012,2012,2012,2018,2018,2008,2008,2009,2019,2006,2013,2013,2013,2009,2009,2009,2008,2008,1989,1989,1989,2018,1998,1998,1998,2017,2004,2018,2018,2011,2011,2019,2019,2012,2018,2018,2003,2003,2003,2020,2006,2006,1983,1983,1983,1964,1964,1964,2006,2006,2006,1974,2004,1989,2013,2013,2021,2003,2003,2020,2015,2015,2015,2003,2008,2008,2008,2014,2014,2014,1992,1992,2001,2001,2001,1984,2014,2014,1994,1994,1972,1972,1972,2020,2020,2020,2015,1981,1981,1981,2014,2014,1977,1985,2015,2020,1958,1958,1958,1969,1969,1969,2005,2005,2012,2012,2012,1992,1992,1992,2014,2001,2001,2013,2013,2018,2018,2018,1995,1995,1995,1996,2015,1975,1975,1975,1988,1988,2006,2011,2016,2016,2016,2020,1984,1984,2003,2003,2002,2002,1963,1963,2014,2014,2014,1994,1994,1994,2011,2011,1972,1972,2014,2014,2003,2017,2017,2017,2002,2002,2002,1999,1999,1999,2001,2013,2013,2013,2012,1980,2018,2002,2002,2002,2004,2004,2004,1996,1996,2001,2001,2001,1992,1963,1963,1963,2019,2019,2019,2011,2011,2011,2019,1982,1982,1982,1982,1982,1982,2001,2001,1966,1966,1966,2005,1977,1977,1997,1997,1997,1997,1997,1997,1991,1991,2016,2016,2014,2014,2001,2001,2018,2016,1985,1985,1985,2021,2021,2021,2004,2004,2004,1979,1979,1979,2008,2008,2008,1994,1994,1985,1985,1990,1990,1998,1988,1988,1994,1994,1994,1993,1993,1993,1993,1980,1980,1988,1988,1995,1995,1995,1977,1977,1977,1981,1981,1985,1985,1985,1994,1994,1994,2003,2003,2003,1972,1972,1972,1984,1984,1975,1975,2005,2005,1943,1973,1973,1973,2013,2013,2013,1993,1993,1993,2013,1983,1983,1983,1972,2014,2005,2005,2005,1974,1974,2018,2018,2018,1994,1994,2014,2014,2014,1964,1964,1997,1997,2013,2013,2013,1958,1958,1958,1960,2006,2006,2006,1975,1975,1986,1986,1964,1964,1964,1940,1976,1976,2000,2013,2013,1965,1988,1988,1988,2013,2002,2002,2011,2011,2012,2019,2000,2011,2011,2011,2018,1998,1998,1998,1975,1975,1975,2015,2001,2001,2001,1989,1989,1989,1999,1999,1998,1998],\"xaxis\":\"x\",\"yaxis\":\"y\",\"type\":\"histogram\"}],                        {\"template\":{\"data\":{\"histogram2dcontour\":[{\"type\":\"histogram2dcontour\",\"colorbar\":{\"outlinewidth\":0,\"ticks\":\"\"},\"colorscale\":[[0.0,\"#0d0887\"],[0.1111111111111111,\"#46039f\"],[0.2222222222222222,\"#7201a8\"],[0.3333333333333333,\"#9c179e\"],[0.4444444444444444,\"#bd3786\"],[0.5555555555555556,\"#d8576b\"],[0.6666666666666666,\"#ed7953\"],[0.7777777777777778,\"#fb9f3a\"],[0.8888888888888888,\"#fdca26\"],[1.0,\"#f0f921\"]]}],\"choropleth\":[{\"type\":\"choropleth\",\"colorbar\":{\"outlinewidth\":0,\"ticks\":\"\"}}],\"histogram2d\":[{\"type\":\"histogram2d\",\"colorbar\":{\"outlinewidth\":0,\"ticks\":\"\"},\"colorscale\":[[0.0,\"#0d0887\"],[0.1111111111111111,\"#46039f\"],[0.2222222222222222,\"#7201a8\"],[0.3333333333333333,\"#9c179e\"],[0.4444444444444444,\"#bd3786\"],[0.5555555555555556,\"#d8576b\"],[0.6666666666666666,\"#ed7953\"],[0.7777777777777778,\"#fb9f3a\"],[0.8888888888888888,\"#fdca26\"],[1.0,\"#f0f921\"]]}],\"heatmap\":[{\"type\":\"heatmap\",\"colorbar\":{\"outlinewidth\":0,\"ticks\":\"\"},\"colorscale\":[[0.0,\"#0d0887\"],[0.1111111111111111,\"#46039f\"],[0.2222222222222222,\"#7201a8\"],[0.3333333333333333,\"#9c179e\"],[0.4444444444444444,\"#bd3786\"],[0.5555555555555556,\"#d8576b\"],[0.6666666666666666,\"#ed7953\"],[0.7777777777777778,\"#fb9f3a\"],[0.8888888888888888,\"#fdca26\"],[1.0,\"#f0f921\"]]}],\"heatmapgl\":[{\"type\":\"heatmapgl\",\"colorbar\":{\"outlinewidth\":0,\"ticks\":\"\"},\"colorscale\":[[0.0,\"#0d0887\"],[0.1111111111111111,\"#46039f\"],[0.2222222222222222,\"#7201a8\"],[0.3333333333333333,\"#9c179e\"],[0.4444444444444444,\"#bd3786\"],[0.5555555555555556,\"#d8576b\"],[0.6666666666666666,\"#ed7953\"],[0.7777777777777778,\"#fb9f3a\"],[0.8888888888888888,\"#fdca26\"],[1.0,\"#f0f921\"]]}],\"contourcarpet\":[{\"type\":\"contourcarpet\",\"colorbar\":{\"outlinewidth\":0,\"ticks\":\"\"}}],\"contour\":[{\"type\":\"contour\",\"colorbar\":{\"outlinewidth\":0,\"ticks\":\"\"},\"colorscale\":[[0.0,\"#0d0887\"],[0.1111111111111111,\"#46039f\"],[0.2222222222222222,\"#7201a8\"],[0.3333333333333333,\"#9c179e\"],[0.4444444444444444,\"#bd3786\"],[0.5555555555555556,\"#d8576b\"],[0.6666666666666666,\"#ed7953\"],[0.7777777777777778,\"#fb9f3a\"],[0.8888888888888888,\"#fdca26\"],[1.0,\"#f0f921\"]]}],\"surface\":[{\"type\":\"surface\",\"colorbar\":{\"outlinewidth\":0,\"ticks\":\"\"},\"colorscale\":[[0.0,\"#0d0887\"],[0.1111111111111111,\"#46039f\"],[0.2222222222222222,\"#7201a8\"],[0.3333333333333333,\"#9c179e\"],[0.4444444444444444,\"#bd3786\"],[0.5555555555555556,\"#d8576b\"],[0.6666666666666666,\"#ed7953\"],[0.7777777777777778,\"#fb9f3a\"],[0.8888888888888888,\"#fdca26\"],[1.0,\"#f0f921\"]]}],\"mesh3d\":[{\"type\":\"mesh3d\",\"colorbar\":{\"outlinewidth\":0,\"ticks\":\"\"}}],\"scatter\":[{\"fillpattern\":{\"fillmode\":\"overlay\",\"size\":10,\"solidity\":0.2},\"type\":\"scatter\"}],\"parcoords\":[{\"type\":\"parcoords\",\"line\":{\"colorbar\":{\"outlinewidth\":0,\"ticks\":\"\"}}}],\"scatterpolargl\":[{\"type\":\"scatterpolargl\",\"marker\":{\"colorbar\":{\"outlinewidth\":0,\"ticks\":\"\"}}}],\"bar\":[{\"error_x\":{\"color\":\"#2a3f5f\"},\"error_y\":{\"color\":\"#2a3f5f\"},\"marker\":{\"line\":{\"color\":\"#E5ECF6\",\"width\":0.5},\"pattern\":{\"fillmode\":\"overlay\",\"size\":10,\"solidity\":0.2}},\"type\":\"bar\"}],\"scattergeo\":[{\"type\":\"scattergeo\",\"marker\":{\"colorbar\":{\"outlinewidth\":0,\"ticks\":\"\"}}}],\"scatterpolar\":[{\"type\":\"scatterpolar\",\"marker\":{\"colorbar\":{\"outlinewidth\":0,\"ticks\":\"\"}}}],\"histogram\":[{\"marker\":{\"pattern\":{\"fillmode\":\"overlay\",\"size\":10,\"solidity\":0.2}},\"type\":\"histogram\"}],\"scattergl\":[{\"type\":\"scattergl\",\"marker\":{\"colorbar\":{\"outlinewidth\":0,\"ticks\":\"\"}}}],\"scatter3d\":[{\"type\":\"scatter3d\",\"line\":{\"colorbar\":{\"outlinewidth\":0,\"ticks\":\"\"}},\"marker\":{\"colorbar\":{\"outlinewidth\":0,\"ticks\":\"\"}}}],\"scattermapbox\":[{\"type\":\"scattermapbox\",\"marker\":{\"colorbar\":{\"outlinewidth\":0,\"ticks\":\"\"}}}],\"scatterternary\":[{\"type\":\"scatterternary\",\"marker\":{\"colorbar\":{\"outlinewidth\":0,\"ticks\":\"\"}}}],\"scattercarpet\":[{\"type\":\"scattercarpet\",\"marker\":{\"colorbar\":{\"outlinewidth\":0,\"ticks\":\"\"}}}],\"carpet\":[{\"aaxis\":{\"endlinecolor\":\"#2a3f5f\",\"gridcolor\":\"white\",\"linecolor\":\"white\",\"minorgridcolor\":\"white\",\"startlinecolor\":\"#2a3f5f\"},\"baxis\":{\"endlinecolor\":\"#2a3f5f\",\"gridcolor\":\"white\",\"linecolor\":\"white\",\"minorgridcolor\":\"white\",\"startlinecolor\":\"#2a3f5f\"},\"type\":\"carpet\"}],\"table\":[{\"cells\":{\"fill\":{\"color\":\"#EBF0F8\"},\"line\":{\"color\":\"white\"}},\"header\":{\"fill\":{\"color\":\"#C8D4E3\"},\"line\":{\"color\":\"white\"}},\"type\":\"table\"}],\"barpolar\":[{\"marker\":{\"line\":{\"color\":\"#E5ECF6\",\"width\":0.5},\"pattern\":{\"fillmode\":\"overlay\",\"size\":10,\"solidity\":0.2}},\"type\":\"barpolar\"}],\"pie\":[{\"automargin\":true,\"type\":\"pie\"}]},\"layout\":{\"autotypenumbers\":\"strict\",\"colorway\":[\"#636efa\",\"#EF553B\",\"#00cc96\",\"#ab63fa\",\"#FFA15A\",\"#19d3f3\",\"#FF6692\",\"#B6E880\",\"#FF97FF\",\"#FECB52\"],\"font\":{\"color\":\"#2a3f5f\"},\"hovermode\":\"closest\",\"hoverlabel\":{\"align\":\"left\"},\"paper_bgcolor\":\"white\",\"plot_bgcolor\":\"#E5ECF6\",\"polar\":{\"bgcolor\":\"#E5ECF6\",\"angularaxis\":{\"gridcolor\":\"white\",\"linecolor\":\"white\",\"ticks\":\"\"},\"radialaxis\":{\"gridcolor\":\"white\",\"linecolor\":\"white\",\"ticks\":\"\"}},\"ternary\":{\"bgcolor\":\"#E5ECF6\",\"aaxis\":{\"gridcolor\":\"white\",\"linecolor\":\"white\",\"ticks\":\"\"},\"baxis\":{\"gridcolor\":\"white\",\"linecolor\":\"white\",\"ticks\":\"\"},\"caxis\":{\"gridcolor\":\"white\",\"linecolor\":\"white\",\"ticks\":\"\"}},\"coloraxis\":{\"colorbar\":{\"outlinewidth\":0,\"ticks\":\"\"}},\"colorscale\":{\"sequential\":[[0.0,\"#0d0887\"],[0.1111111111111111,\"#46039f\"],[0.2222222222222222,\"#7201a8\"],[0.3333333333333333,\"#9c179e\"],[0.4444444444444444,\"#bd3786\"],[0.5555555555555556,\"#d8576b\"],[0.6666666666666666,\"#ed7953\"],[0.7777777777777778,\"#fb9f3a\"],[0.8888888888888888,\"#fdca26\"],[1.0,\"#f0f921\"]],\"sequentialminus\":[[0.0,\"#0d0887\"],[0.1111111111111111,\"#46039f\"],[0.2222222222222222,\"#7201a8\"],[0.3333333333333333,\"#9c179e\"],[0.4444444444444444,\"#bd3786\"],[0.5555555555555556,\"#d8576b\"],[0.6666666666666666,\"#ed7953\"],[0.7777777777777778,\"#fb9f3a\"],[0.8888888888888888,\"#fdca26\"],[1.0,\"#f0f921\"]],\"diverging\":[[0,\"#8e0152\"],[0.1,\"#c51b7d\"],[0.2,\"#de77ae\"],[0.3,\"#f1b6da\"],[0.4,\"#fde0ef\"],[0.5,\"#f7f7f7\"],[0.6,\"#e6f5d0\"],[0.7,\"#b8e186\"],[0.8,\"#7fbc41\"],[0.9,\"#4d9221\"],[1,\"#276419\"]]},\"xaxis\":{\"gridcolor\":\"white\",\"linecolor\":\"white\",\"ticks\":\"\",\"title\":{\"standoff\":15},\"zerolinecolor\":\"white\",\"automargin\":true,\"zerolinewidth\":2},\"yaxis\":{\"gridcolor\":\"white\",\"linecolor\":\"white\",\"ticks\":\"\",\"title\":{\"standoff\":15},\"zerolinecolor\":\"white\",\"automargin\":true,\"zerolinewidth\":2},\"scene\":{\"xaxis\":{\"backgroundcolor\":\"#E5ECF6\",\"gridcolor\":\"white\",\"linecolor\":\"white\",\"showbackground\":true,\"ticks\":\"\",\"zerolinecolor\":\"white\",\"gridwidth\":2},\"yaxis\":{\"backgroundcolor\":\"#E5ECF6\",\"gridcolor\":\"white\",\"linecolor\":\"white\",\"showbackground\":true,\"ticks\":\"\",\"zerolinecolor\":\"white\",\"gridwidth\":2},\"zaxis\":{\"backgroundcolor\":\"#E5ECF6\",\"gridcolor\":\"white\",\"linecolor\":\"white\",\"showbackground\":true,\"ticks\":\"\",\"zerolinecolor\":\"white\",\"gridwidth\":2}},\"shapedefaults\":{\"line\":{\"color\":\"#2a3f5f\"}},\"annotationdefaults\":{\"arrowcolor\":\"#2a3f5f\",\"arrowhead\":0,\"arrowwidth\":1},\"geo\":{\"bgcolor\":\"white\",\"landcolor\":\"#E5ECF6\",\"subunitcolor\":\"white\",\"showland\":true,\"showlakes\":true,\"lakecolor\":\"white\"},\"title\":{\"x\":0.05},\"mapbox\":{\"style\":\"light\"}}},\"xaxis\":{\"anchor\":\"y\",\"domain\":[0.0,1.0],\"title\":{\"text\":\"Year\"}},\"yaxis\":{\"anchor\":\"x\",\"domain\":[0.0,1.0],\"title\":{\"text\":\"probability density\"}},\"legend\":{\"tracegroupgap\":0},\"margin\":{\"t\":60},\"barmode\":\"relative\"},                        {\"responsive\": true}                    ).then(function(){\n",
              "                            \n",
              "var gd = document.getElementById('e4f22869-ce0c-4102-a739-c272d2a2d0a4');\n",
              "var x = new MutationObserver(function (mutations, observer) {{\n",
              "        var display = window.getComputedStyle(gd).display;\n",
              "        if (!display || display === 'none') {{\n",
              "            console.log([gd, 'removed!']);\n",
              "            Plotly.purge(gd);\n",
              "            observer.disconnect();\n",
              "        }}\n",
              "}});\n",
              "\n",
              "// Listen for the removal of the full notebook cells\n",
              "var notebookContainer = gd.closest('#notebook-container');\n",
              "if (notebookContainer) {{\n",
              "    x.observe(notebookContainer, {childList: true});\n",
              "}}\n",
              "\n",
              "// Listen for the clearing of the current output cell\n",
              "var outputEl = gd.closest('.output');\n",
              "if (outputEl) {{\n",
              "    x.observe(outputEl, {childList: true});\n",
              "}}\n",
              "\n",
              "                        })                };                            </script>        </div>\n",
              "</body>\n",
              "</html>"
            ]
          },
          "metadata": {},
          "output_type": "display_data"
        }
      ],
      "source": [
        "import plotly.express as px\n",
        "\n",
        "year = px.histogram(df, x='Year', histnorm='probability density', nbins=30)\n",
        "year.show()"
      ]
    },
    {
      "cell_type": "code",
      "execution_count": 24,
      "metadata": {
        "colab": {
          "base_uri": "https://localhost:8080/",
          "height": 542
        },
        "id": "vlEhrQKXQlzV",
        "outputId": "8887fde2-366a-474d-d30a-02f80ee8a07a"
      },
      "outputs": [
        {
          "data": {
            "text/html": [
              "<html>\n",
              "<head><meta charset=\"utf-8\" /></head>\n",
              "<body>\n",
              "    <div>            <script src=\"https://cdnjs.cloudflare.com/ajax/libs/mathjax/2.7.5/MathJax.js?config=TeX-AMS-MML_SVG\"></script><script type=\"text/javascript\">if (window.MathJax && window.MathJax.Hub && window.MathJax.Hub.Config) {window.MathJax.Hub.Config({SVG: {font: \"STIX-Web\"}});}</script>                <script type=\"text/javascript\">window.PlotlyConfig = {MathJaxConfig: 'local'};</script>\n",
              "        <script charset=\"utf-8\" src=\"https://cdn.plot.ly/plotly-2.24.1.min.js\"></script>                <div id=\"1554e2e4-e991-4751-8baf-db0b4598107f\" class=\"plotly-graph-div\" style=\"height:525px; width:100%;\"></div>            <script type=\"text/javascript\">                                    window.PLOTLYENV=window.PLOTLYENV || {};                                    if (document.getElementById(\"1554e2e4-e991-4751-8baf-db0b4598107f\")) {                    Plotly.newPlot(                        \"1554e2e4-e991-4751-8baf-db0b4598107f\",                        [{\"hovertemplate\":\"Genre= Fantasy\\u003cbr\\u003eYear=%{x}\\u003cbr\\u003eRating=%{y}\\u003cextra\\u003e\\u003c\\u002fextra\\u003e\",\"legendgroup\":\" Fantasy\",\"line\":{\"color\":\"#636efa\",\"dash\":\"solid\"},\"marker\":{\"symbol\":\"circle\"},\"mode\":\"lines\",\"name\":\" Fantasy\",\"showlegend\":true,\"x\":[1931,1934,1943,1952,1954,1955,1958,1959,1962,1963,1964,1965,1966,1967,1968,1971,1972,1973,1974,1975,1979,1981,1983,1985,1989,1990,1992,1993,1994,1995,1996,1997,1999,2000,2001,2002,2003,2004,2005,2006,2007,2008,2009,2010,2011,2012,2013,2014,2015,2016,2017,2018,2019,2020,2021],\"xaxis\":\"x\",\"y\":[6.2,2.7,7.2,5.9,6.7,6.1,6.5,5.3,7.5,6.1,6.1,7.3,6.766666666666667,6.4,6.8,6.6,5.6,6.35,6.4,6.8999999999999995,6.6,6.9,6.7,5.666666666666667,4.65,5.86,6.25,5.55,6.5,6.65,4.8999999999999995,6.0,4.7,5.3,5.533333333333334,4.933333333333334,5.8,4.36,5.05,4.2,7.9,2.8,4.720000000000001,4.725,5.449999999999999,6.85,6.65,6.8,5.1000000000000005,5.62,5.475,8.3,4.15,6.1,9.1],\"yaxis\":\"y\",\"type\":\"scattergl\"},{\"hovertemplate\":\"Genre=Drama\\u003cbr\\u003eYear=%{x}\\u003cbr\\u003eRating=%{y}\\u003cextra\\u003e\\u003c\\u002fextra\\u003e\",\"legendgroup\":\"Drama\",\"line\":{\"color\":\"#EF553B\",\"dash\":\"solid\"},\"marker\":{\"symbol\":\"circle\"},\"mode\":\"lines\",\"name\":\"Drama\",\"showlegend\":true,\"x\":[1931,1933,1934,1935,1936,1937,1938,1939,1940,1941,1942,1943,1944,1945,1946,1947,1948,1949,1950,1951,1952,1953,1954,1955,1956,1957,1958,1959,1960,1961,1962,1963,1964,1965,1966,1967,1968,1969,1970,1971,1972,1973,1974,1975,1976,1977,1978,1979,1980,1981,1982,1983,1984,1985,1986,1987,1988,1989,1990,1991,1992,1993,1994,1995,1996,1997,1998,1999,2000,2001,2002,2003,2004,2005,2006,2007,2008,2009,2010,2011,2012,2013,2014,2015,2016,2017,2018,2019,2020,2021],\"xaxis\":\"x\",\"y\":[5.75,6.2,8.5,6.633333333333333,6.3500000000000005,6.525,6.05,6.4,6.859999999999999,6.475,6.82,7.316666666666666,7.033333333333334,6.466666666666666,7.0200000000000005,6.866666666666667,6.8,6.875,6.785714285714286,6.5125,7.48888888888889,7.109999999999999,6.371428571428572,6.825,6.6,7.2125,6.6000000000000005,6.57,7.033333333333334,7.009090909090909,6.754545454545454,6.541666666666667,6.89375,6.794117647058823,6.5249999999999995,6.764705882352941,6.635294117647058,6.590476190476191,6.8999999999999995,6.75,6.7625,6.4750000000000005,6.77741935483871,6.513636363636365,6.494736842105263,6.8950000000000005,6.825,6.457894736842105,6.226086956521739,6.621052631578947,6.703846153846154,6.565217391304348,6.3999999999999995,6.361538461538462,5.982758620689655,5.933333333333334,6.319047619047619,6.16,5.550000000000001,6.18125,5.441666666666666,5.35625,5.542857142857143,6.2444444444444445,5.811111111111111,5.873684210526315,6.152941176470588,5.5125,5.872222222222223,5.4879999999999995,5.2956521739130435,5.506666666666666,5.242857142857143,5.596363636363637,5.390625,5.836111111111111,5.447826086956522,5.45,5.393548387096774,5.760000000000001,6.135483870967741,6.032692307692307,5.947826086956522,6.072727272727272,6.188679245283019,6.2506329113924055,6.575903614457831,6.551351351351352,6.890697674418605,7.045833333333333],\"yaxis\":\"y\",\"type\":\"scattergl\"},{\"hovertemplate\":\"Genre= Romance\\u003cbr\\u003eYear=%{x}\\u003cbr\\u003eRating=%{y}\\u003cextra\\u003e\\u003c\\u002fextra\\u003e\",\"legendgroup\":\" Romance\",\"line\":{\"color\":\"#00cc96\",\"dash\":\"solid\"},\"marker\":{\"symbol\":\"circle\"},\"mode\":\"lines\",\"name\":\" Romance\",\"showlegend\":true,\"x\":[1932,1933,1936,1937,1938,1939,1943,1944,1946,1947,1948,1949,1950,1951,1952,1953,1954,1955,1956,1957,1958,1959,1960,1961,1962,1963,1964,1965,1966,1967,1968,1969,1970,1971,1972,1973,1974,1975,1976,1977,1978,1979,1980,1981,1982,1983,1984,1985,1986,1987,1988,1989,1990,1991,1992,1993,1994,1995,1996,1997,1998,1999,2000,2001,2002,2003,2004,2005,2006,2007,2008,2009,2010,2011,2012,2013,2014,2015,2016,2017,2018,2019,2020,2021],\"xaxis\":\"x\",\"y\":[6.0,6.2,6.35,5.9,5.2,6.4,7.5,7.166666666666667,7.1,7.550000000000001,7.140000000000001,6.9799999999999995,7.0,6.959999999999999,7.3500000000000005,7.1000000000000005,6.628571428571428,7.114285714285715,6.659999999999999,7.127272727272728,6.911111111111111,6.720000000000001,6.875,6.5375,6.845454545454545,6.545454545454546,6.82,6.966666666666667,6.572222222222222,6.728571428571429,6.535714285714286,6.471428571428571,6.86,6.721428571428571,6.363636363636363,6.75,6.65625,6.96,6.466666666666667,6.866666666666666,6.779999999999999,6.792857142857143,6.754545454545454,6.552941176470589,6.636363636363637,6.584615384615384,6.1625,6.216666666666666,6.2875,6.25,5.483333333333333,6.375,5.89,5.721052631578948,5.606896551724137,5.052,5.15625,4.817647058823529,5.58,5.05,5.61578947368421,5.031818181818182,5.180952380952381,5.453846153846154,4.929032258064517,5.489285714285714,4.678260869565217,4.79,5.014705882352941,5.182142857142857,5.303999999999999,5.2,5.416,5.544444444444444,5.251612903225807,5.6,5.382926829268293,5.411428571428572,4.824000000000001,5.709090909090909,5.8310344827586205,6.16774193548387,5.790909090909091,6.336363636363637],\"yaxis\":\"y\",\"type\":\"scattergl\"},{\"hovertemplate\":\"Genre=Musical\\u003cbr\\u003eYear=%{x}\\u003cbr\\u003eRating=%{y}\\u003cextra\\u003e\\u003c\\u002fextra\\u003e\",\"legendgroup\":\"Musical\",\"line\":{\"color\":\"#ab63fa\",\"dash\":\"solid\"},\"marker\":{\"symbol\":\"circle\"},\"mode\":\"lines\",\"name\":\"Musical\",\"showlegend\":true,\"x\":[1932,1944,1948,1949,1950,1951,1954,1955,1957,1958,1959,1960,1962,1964,1965,1966,1967,1969,1970,1971,1975,1977,1978,1979,1980,1981,1985,1986,1988,1990,1992,1993,1994,1995,1996,1997,1998,1999,2000,2001,2002,2003,2004,2005,2006,2012,2015,2018,2019,2021],\"xaxis\":\"x\",\"y\":[6.0,7.2,7.050000000000001,6.85,7.0,7.6,6.75,6.2,7.0,6.466666666666666,6.766666666666667,6.300000000000001,6.933333333333334,6.85,7.025,6.5,6.8,6.2,7.0,7.0,8.1,7.0,5.9,7.1000000000000005,6.45,7.0,8.2,7.3,7.7,6.3,6.25,4.3,6.6,5.1,5.4,4.2,4.1,5.5,5.05,6.0,4.925,2.9,4.7875,4.7,6.1,4.2,4.0,2.8,7.4,1.8],\"yaxis\":\"y\",\"type\":\"scattergl\"},{\"hovertemplate\":\"Genre=Adventure\\u003cbr\\u003eYear=%{x}\\u003cbr\\u003eRating=%{y}\\u003cextra\\u003e\\u003c\\u002fextra\\u003e\",\"legendgroup\":\"Adventure\",\"line\":{\"color\":\"#FFA15A\",\"dash\":\"solid\"},\"marker\":{\"symbol\":\"circle\"},\"mode\":\"lines\",\"name\":\"Adventure\",\"showlegend\":true,\"x\":[1934,1935,1936,1937,1938,1942,1952,1954,1956,1957,1958,1959,1962,1963,1964,1965,1966,1967,1971,1972,1977,1978,1979,1981,1986,1987,1988,1991,1992,1997,1998,2000,2001,2002,2003,2005,2006,2007,2009,2010,2011,2012,2013,2014,2015,2016,2017,2018,2019,2020,2021],\"xaxis\":\"x\",\"y\":[2.7,4.1,3.1,3.4,6.4,6.6,5.9,6.300000000000001,6.233333333333333,7.0,5.8,6.4,7.5,6.233333333333333,5.55,6.8,5.1,5.75,6.8999999999999995,6.640000000000001,6.4,4.7,7.05,6.6,6.6,5.7,6.1,7.3,6.8,6.0,5.7,5.0,6.7,6.2,4.433333333333334,4.6,6.625,7.25,6.8,5.4,4.199999999999999,6.3,6.5375,6.42,6.074999999999999,7.1,5.533333333333334,7.5,6.85,5.7,6.5],\"yaxis\":\"y\",\"type\":\"scattergl\"},{\"hovertemplate\":\"Genre= Adventure\\u003cbr\\u003eYear=%{x}\\u003cbr\\u003eRating=%{y}\\u003cextra\\u003e\\u003c\\u002fextra\\u003e\",\"legendgroup\":\" Adventure\",\"line\":{\"color\":\"#19d3f3\",\"dash\":\"solid\"},\"marker\":{\"symbol\":\"circle\"},\"mode\":\"lines\",\"name\":\" Adventure\",\"showlegend\":true,\"x\":[1935,1939,1940,1952,1953,1954,1955,1956,1957,1958,1959,1960,1961,1962,1963,1964,1965,1966,1967,1968,1969,1972,1975,1976,1977,1978,1979,1980,1981,1982,1983,1984,1985,1986,1987,1988,1989,1991,1992,1993,1994,1996,1997,1998,2000,2002,2003,2004,2005,2006,2007,2008,2009,2010,2011,2012,2013,2014,2015,2016,2017,2018,2019,2020],\"xaxis\":\"x\",\"y\":[4.5,6.6,6.1,6.95,7.3,6.2,6.0,5.4,6.8,4.5,5.8,6.449999999999999,7.4,6.3,5.95,5.9,6.5,6.3,5.85,5.800000000000001,6.5,6.666666666666667,6.5,6.7,6.25,6.533333333333334,6.2,6.65,6.366666666666667,5.8,7.8,6.95,5.4,6.675,4.5,6.15,2.9,5.449999999999999,5.3,7.050000000000001,7.8,6.0,5.9,5.35,5.15,5.1,5.466666666666666,3.4,5.7,5.2,4.475,3.7399999999999998,4.159999999999999,4.866666666666666,3.75,5.96,6.3375,4.574999999999999,6.3,5.483333333333333,5.85,4.1,5.58,7.4],\"yaxis\":\"y\",\"type\":\"scattergl\"},{\"hovertemplate\":\"Genre=Action\\u003cbr\\u003eYear=%{x}\\u003cbr\\u003eRating=%{y}\\u003cextra\\u003e\\u003c\\u002fextra\\u003e\",\"legendgroup\":\"Action\",\"line\":{\"color\":\"#FF6692\",\"dash\":\"solid\"},\"marker\":{\"symbol\":\"circle\"},\"mode\":\"lines\",\"name\":\"Action\",\"showlegend\":true,\"x\":[1935,1939,1940,1951,1952,1953,1954,1955,1956,1957,1958,1959,1960,1961,1962,1963,1964,1965,1966,1967,1968,1969,1970,1971,1972,1973,1974,1975,1976,1977,1978,1979,1980,1981,1982,1983,1984,1985,1986,1987,1988,1989,1990,1991,1992,1993,1994,1995,1996,1997,1998,1999,2000,2001,2002,2003,2004,2005,2006,2007,2008,2009,2010,2011,2012,2013,2014,2015,2016,2017,2018,2019,2020,2021],\"xaxis\":\"x\",\"y\":[4.5,6.6,6.1,6.550000000000001,6.95,5.949999999999999,6.15,6.3,6.2,6.8,6.033333333333334,6.225,6.640000000000001,5.866666666666667,5.666666666666667,6.14,5.7,6.257142857142857,6.257142857142857,6.016666666666667,6.2,6.211111111111111,6.207692307692308,6.214285714285714,5.785714285714286,6.22,6.369230769230769,6.371428571428572,6.0625,5.823076923076924,6.2625,6.078947368421052,6.5086956521739125,6.114814814814815,6.132000000000001,5.963157894736842,5.751724137931035,5.7,5.862962962962963,5.623809523809523,5.463636363636364,5.521739130434782,5.386842105263158,5.105128205128205,5.478378378378378,5.3,5.071428571428571,5.174418604651163,5.175675675675675,5.175675675675675,5.062162162162163,5.35945945945946,4.9184210526315795,5.387096774193548,5.181578947368421,4.89375,5.154761904761905,5.447826086956522,4.8,5.23,4.885185185185185,4.934210526315789,5.294117647058823,5.290909090909091,5.341666666666666,5.287804878048781,5.152777777777778,5.697297297297298,5.6421052631578945,5.935135135135135,5.814705882352941,5.755102040816326,5.808695652173912,5.9125],\"yaxis\":\"y\",\"type\":\"scattergl\"},{\"hovertemplate\":\"Genre= Musical\\u003cbr\\u003eYear=%{x}\\u003cbr\\u003eRating=%{y}\\u003cextra\\u003e\\u003c\\u002fextra\\u003e\",\"legendgroup\":\" Musical\",\"line\":{\"color\":\"#B6E880\",\"dash\":\"solid\"},\"marker\":{\"symbol\":\"circle\"},\"mode\":\"lines\",\"name\":\" Musical\",\"showlegend\":true,\"x\":[1936,1942,1943,1946,1947,1948,1949,1950,1951,1952,1953,1954,1955,1956,1957,1958,1959,1960,1961,1962,1963,1964,1965,1966,1967,1968,1969,1970,1971,1972,1973,1974,1975,1977,1978,1979,1980,1981,1982,1983,1984,1985,1987,1988,1989,1990,1991,1992,1993,1994,1995,1996,1997,1998,1999,2000,2001,2002,2003,2004,2005,2006,2007,2008,2009,2010,2011,2012,2013,2014,2015,2016,2017,2019,2020,2021],\"xaxis\":\"x\",\"y\":[6.5,6.8,7.5,7.3,7.7,6.4,7.7,7.4,7.3999999999999995,7.4,7.233333333333333,6.6,7.25,7.26,7.75,7.42,7.075,7.400000000000001,7.116666666666667,7.171428571428572,6.459999999999999,7.616666666666667,6.7,7.0,6.68,6.8999999999999995,7.05,6.566666666666666,6.955555555555556,7.24,7.116666666666667,6.671428571428572,6.566666666666666,6.85,7.7,7.2,6.633333333333333,6.859999999999999,6.933333333333334,5.966666666666666,6.8,6.625,6.475,7.85,6.4,7.166666666666667,6.257142857142858,5.225,6.300000000000001,6.75,5.466666666666666,6.15,5.88,6.15,6.05,5.466666666666667,5.6,5.454545454545454,4.975,5.0600000000000005,5.3375,5.1499999999999995,4.516666666666667,2.966666666666667,5.271428571428571,5.8,5.75,5.74,5.866666666666667,5.3500000000000005,3.95,6.0,4.55,3.4,5.966666666666666,5.25],\"yaxis\":\"y\",\"type\":\"scattergl\"},{\"hovertemplate\":\"Genre= Family\\u003cbr\\u003eYear=%{x}\\u003cbr\\u003eRating=%{y}\\u003cextra\\u003e\\u003c\\u002fextra\\u003e\",\"legendgroup\":\" Family\",\"line\":{\"color\":\"#FF97FF\",\"dash\":\"solid\"},\"marker\":{\"symbol\":\"circle\"},\"mode\":\"lines\",\"name\":\" Family\",\"showlegend\":true,\"x\":[1937,1942,1943,1948,1949,1950,1951,1953,1954,1955,1957,1958,1959,1961,1962,1963,1964,1965,1966,1967,1968,1969,1970,1971,1972,1973,1974,1975,1976,1977,1978,1979,1980,1981,1982,1983,1984,1985,1986,1987,1988,1989,1990,1991,1992,1993,1994,1995,1996,1997,1998,1999,2000,2001,2002,2003,2004,2005,2006,2007,2008,2009,2010,2011,2012,2013,2014,2015,2016,2017,2018,2019,2020,2021],\"xaxis\":\"x\",\"y\":[5.9,6.2,7.2,5.7,6.833333333333333,6.85,7.0,7.05,6.575,7.25,7.279999999999999,6.5,6.5,6.6000000000000005,6.575,6.6,6.875,6.6000000000000005,6.7,6.4,6.56,6.228571428571429,6.45,6.428571428571429,6.575,6.271428571428571,6.7625,6.414285714285714,6.42,6.928571428571429,6.855555555555556,6.029999999999999,6.32,6.82,6.58,6.557142857142857,6.033333333333334,6.15,6.720000000000001,5.8,5.333333333333333,6.111111111111111,4.35,4.1,4.8,5.8,5.949999999999999,5.1,5.5,6.666666666666667,4.7,6.2,6.633333333333333,5.066666666666666,6.34,5.2,5.633333333333333,5.985714285714286,5.65,6.377777777777777,5.071428571428571,6.0,6.144444444444444,6.214285714285714,6.181818181818182,6.6499999999999995,5.416666666666667,5.871428571428572,6.766666666666667,6.355555555555556,6.277777777777778,7.666666666666667,7.75,6.733333333333333],\"yaxis\":\"y\",\"type\":\"scattergl\"},{\"hovertemplate\":\"Genre=Biography\\u003cbr\\u003eYear=%{x}\\u003cbr\\u003eRating=%{y}\\u003cextra\\u003e\\u003c\\u002fextra\\u003e\",\"legendgroup\":\"Biography\",\"line\":{\"color\":\"#FECB52\",\"dash\":\"solid\"},\"marker\":{\"symbol\":\"circle\"},\"mode\":\"lines\",\"name\":\"Biography\",\"showlegend\":true,\"x\":[1937,1940,1947,1952,1953,1954,1965,1966,1971,1976,1977,1978,1980,1982,1983,1990,1993,1994,1998,2001,2002,2005,2006,2007,2008,2010,2011,2012,2013,2014,2015,2016,2017,2018,2019,2020,2021],\"xaxis\":\"x\",\"y\":[6.7,8.1,6.8,7.6,6.9,7.0,7.9,7.949999999999999,7.5,6.7,7.0,7.7,7.1,7.25,7.3,6.8500000000000005,7.9,7.6,6.6,6.5,6.166666666666667,7.1,5.25,7.3,6.566666666666666,6.966666666666666,6.433333333333334,8.2,6.925,7.25,6.26,7.077777777777778,6.050000000000001,7.5,6.644444444444445,4.199999999999999,5.525],\"yaxis\":\"y\",\"type\":\"scattergl\"},{\"hovertemplate\":\"Genre=Fantasy\\u003cbr\\u003eYear=%{x}\\u003cbr\\u003eRating=%{y}\\u003cextra\\u003e\\u003c\\u002fextra\\u003e\",\"legendgroup\":\"Fantasy\",\"line\":{\"color\":\"#636efa\",\"dash\":\"solid\"},\"marker\":{\"symbol\":\"circle\"},\"mode\":\"lines\",\"name\":\"Fantasy\",\"showlegend\":true,\"x\":[1940,1950,1951,1953,1954,1958,1961,1968,1974,1975,1976,1978,1979,1980,1982,1985,1986,1987,1990,1991,1992,1995,2003,2004,2009,2012,2015,2018],\"xaxis\":\"x\",\"y\":[7.9,6.4,7.2,6.3,7.9,8.0,7.5,5.6,7.4,7.4,7.0,6.6,6.9,5.7,7.5,5.7,6.5,7.0,4.7,5.550000000000001,4.5,7.0,3.1,2.4,5.5,3.9,6.7,6.699999999999999],\"yaxis\":\"y\",\"type\":\"scattergl\"},{\"hovertemplate\":\"Genre=Mystery\\u003cbr\\u003eYear=%{x}\\u003cbr\\u003eRating=%{y}\\u003cextra\\u003e\\u003c\\u002fextra\\u003e\",\"legendgroup\":\"Mystery\",\"line\":{\"color\":\"#EF553B\",\"dash\":\"solid\"},\"marker\":{\"symbol\":\"circle\"},\"mode\":\"lines\",\"name\":\"Mystery\",\"showlegend\":true,\"x\":[1941,1943,1957,1958,1959,1962,1965,1966,1967,1968,1969,1970,1971,1973,1975,1977,1980,1981,1986,1987,1989,1991,1993,1994,1997,1999,2000,2003,2004,2005,2006,2009,2010,2012,2013,2014,2015,2016,2018,2019,2020],\"xaxis\":\"x\",\"y\":[7.0,3.3,7.5,6.4,6.8,6.8,6.1,5.7,7.6,6.85,6.7,6.2,7.0,7.1,6.5,6.9,6.5,6.3,7.25,5.1,6.35,4.0,4.7,4.4,5.8,7.8,5.0,3.9333333333333336,4.4,4.8,5.2,5.85,6.4,8.1,4.4,4.75,6.0,5.533333333333334,5.766666666666666,6.2,6.2],\"yaxis\":\"y\",\"type\":\"scattergl\"},{\"hovertemplate\":\"Genre= Drama\\u003cbr\\u003eYear=%{x}\\u003cbr\\u003eRating=%{y}\\u003cextra\\u003e\\u003c\\u002fextra\\u003e\",\"legendgroup\":\" Drama\",\"line\":{\"color\":\"#00cc96\",\"dash\":\"solid\"},\"marker\":{\"symbol\":\"circle\"},\"mode\":\"lines\",\"name\":\" Drama\",\"showlegend\":true,\"x\":[1942,1943,1946,1947,1948,1949,1950,1951,1952,1953,1954,1955,1956,1957,1958,1959,1960,1961,1962,1963,1964,1965,1966,1967,1968,1969,1970,1971,1972,1973,1974,1975,1976,1977,1978,1979,1980,1981,1982,1983,1984,1985,1986,1987,1988,1989,1990,1991,1992,1993,1994,1995,1996,1997,1998,1999,2000,2001,2002,2003,2004,2005,2006,2007,2008,2009,2010,2011,2012,2013,2014,2015,2016,2017,2018,2019,2020,2021],\"xaxis\":\"x\",\"y\":[6.6,6.9,6.5,6.8,7.5,7.45,7.1,6.8999999999999995,7.166666666666667,7.333333333333333,6.6,6.822222222222222,6.5875,6.916666666666667,6.0,7.1,6.728571428571429,6.608333333333333,6.1875,6.459999999999999,6.411111111111111,6.642857142857143,6.75,6.506666666666666,6.3538461538461535,6.0,6.7700000000000005,6.5249999999999995,5.855555555555556,6.590909090909091,6.616666666666667,6.87,6.1692307692307695,6.086956521739131,6.23125,6.29,6.6037037037037045,6.372222222222223,6.3,6.4750000000000005,5.963636363636363,6.227586206896552,6.02962962962963,5.778947368421052,5.824137931034483,5.68108108108108,5.511428571428572,5.266666666666667,5.8428571428571425,5.502325581395349,5.2775,5.111428571428571,5.3428571428571425,5.570588235294117,5.596875,5.554545454545455,5.279411764705882,5.645714285714286,5.491666666666666,5.245238095238095,5.36,5.8812500000000005,5.576190476190476,5.695918367346939,5.490163934426229,5.656363636363637,5.587142857142857,5.589393939393939,6.164705882352941,5.9035087719298245,5.932608695652173,5.816129032258065,6.241176470588235,5.947727272727272,6.191111111111112,6.340277777777778,5.883333333333333,6.4],\"yaxis\":\"y\",\"type\":\"scattergl\"},{\"hovertemplate\":\"Genre= History\\u003cbr\\u003eYear=%{x}\\u003cbr\\u003eRating=%{y}\\u003cextra\\u003e\\u003c\\u002fextra\\u003e\",\"legendgroup\":\" History\",\"line\":{\"color\":\"#ab63fa\",\"dash\":\"solid\"},\"marker\":{\"symbol\":\"circle\"},\"mode\":\"lines\",\"name\":\" History\",\"showlegend\":true,\"x\":[1942,1945,1946,1949,1950,1952,1953,1956,1957,1958,1959,1965,1966,1967,1971,1975,1976,1977,1979,1982,1993,1994,1995,1997,2000,2001,2002,2003,2005,2007,2008,2009,2010,2011,2012,2013,2014,2015,2016,2017,2018,2019,2020,2021],\"xaxis\":\"x\",\"y\":[6.6,7.5,6.9,6.2,6.4,7.95,6.550000000000001,6.6,7.05,6.1,6.7,7.9,8.2,6.0,7.0,6.3,6.7,7.6,7.44,7.25,7.9,7.2,7.2,7.9,7.9,6.2,6.166666666666667,5.95,6.58,7.359999999999999,7.5,5.8,6.199999999999999,5.25,7.300000000000001,6.833333333333333,7.3999999999999995,6.125,7.8,6.3999999999999995,7.028571428571429,7.26,3.8,9.3],\"yaxis\":\"y\",\"type\":\"scattergl\"},{\"hovertemplate\":\"Genre=Comedy\\u003cbr\\u003eYear=%{x}\\u003cbr\\u003eRating=%{y}\\u003cextra\\u003e\\u003c\\u002fextra\\u003e\",\"legendgroup\":\"Comedy\",\"line\":{\"color\":\"#FFA15A\",\"dash\":\"solid\"},\"marker\":{\"symbol\":\"circle\"},\"mode\":\"lines\",\"name\":\"Comedy\",\"showlegend\":true,\"x\":[1943,1946,1947,1949,1950,1951,1952,1953,1954,1955,1956,1957,1958,1959,1960,1961,1962,1963,1964,1965,1966,1967,1968,1969,1970,1971,1972,1973,1974,1975,1976,1977,1978,1979,1980,1981,1982,1983,1984,1985,1986,1987,1988,1989,1990,1991,1992,1993,1994,1995,1996,1997,1998,1999,2000,2001,2002,2003,2004,2005,2006,2007,2008,2009,2010,2011,2012,2013,2014,2015,2016,2017,2018,2019,2020,2021],\"xaxis\":\"x\",\"y\":[6.9,6.5,7.4,6.4,7.1,6.65,7.4,6.7,6.966666666666666,7.1875,6.928571428571429,7.0,7.5,7.45,6.7,6.866666666666666,6.357142857142857,6.75,6.733333333333333,6.35,7.044444444444444,6.75,6.529999999999999,6.171428571428572,6.975,6.62,6.185714285714285,6.7,6.733333333333333,6.714285714285714,7.175000000000001,6.925,6.542857142857143,6.883333333333333,7.033333333333334,6.8428571428571425,6.62,6.754545454545454,6.459999999999999,6.57,6.677777777777778,6.133333333333333,6.0600000000000005,5.62,6.3,4.1,5.927272727272728,5.477777777777778,6.35,5.25,5.6375,5.918181818181818,5.808333333333334,5.183333333333334,4.9399999999999995,5.55,5.053846153846154,5.559090909090909,4.98,5.503125,5.696296296296297,5.683870967741935,5.105555555555556,5.648387096774194,5.686046511627907,5.3954545454545455,5.476190476190476,5.432258064516129,5.462790697674419,5.355102040816326,5.428571428571429,5.865909090909091,5.648936170212766,6.270833333333333,5.945161290322581,6.1375],\"yaxis\":\"y\",\"type\":\"scattergl\"},{\"hovertemplate\":\"Genre= War\\u003cbr\\u003eYear=%{x}\\u003cbr\\u003eRating=%{y}\\u003cextra\\u003e\\u003c\\u002fextra\\u003e\",\"legendgroup\":\" War\",\"line\":{\"color\":\"#19d3f3\",\"dash\":\"solid\"},\"marker\":{\"symbol\":\"circle\"},\"mode\":\"lines\",\"name\":\" War\",\"showlegend\":true,\"x\":[1945,1947,1960,1964,1967,1973,1993,1998,2003,2004,2005,2007,2011,2012,2013,2014,2015,2017,2018,2020],\"xaxis\":\"x\",\"y\":[5.4,6.8,6.8,7.8,7.5,6.2,5.9,7.2,5.2,4.6,7.4,8.1,3.6,6.15,6.1,7.050000000000001,5.3,5.699999999999999,8.2,5.666666666666667],\"yaxis\":\"y\",\"type\":\"scattergl\"},{\"hovertemplate\":\"Genre=Romance\\u003cbr\\u003eYear=%{x}\\u003cbr\\u003eRating=%{y}\\u003cextra\\u003e\\u003c\\u002fextra\\u003e\",\"legendgroup\":\"Romance\",\"line\":{\"color\":\"#FF6692\",\"dash\":\"solid\"},\"marker\":{\"symbol\":\"circle\"},\"mode\":\"lines\",\"name\":\"Romance\",\"showlegend\":true,\"x\":[1947,1949,1953,1954,1955,1956,1957,1958,1959,1962,1963,1964,1965,1966,1968,1969,1970,1971,1973,1974,1976,1977,1978,1980,1981,1982,1983,1984,1985,1986,1987,1990,1991,1992,1993,1994,1995,1996,1997,1998,1999,2000,2001,2002,2003,2004,2005,2006,2007,2008,2009,2010,2011,2012,2013,2014,2015,2016,2017,2018,2019,2020],\"xaxis\":\"x\",\"y\":[4.2,7.1,7.35,5.4,8.6,5.449999999999999,7.3,5.8,6.8,6.7,6.95,6.15,6.8,6.75,6.9,6.44,6.9,6.8,6.4,6.866666666666667,5.75,5.5,6.1,6.05,6.933333333333334,6.35,5.75,5.8,6.2,6.5,6.3,5.7,5.05,5.220000000000001,5.0,4.95,3.8,7.5,5.3,5.5,5.683333333333334,4.3,6.5,6.9,5.466666666666666,4.725,4.075,5.766666666666667,4.9,3.5500000000000003,6.0,2.55,5.266666666666667,4.7,5.275,3.6,5.6375,3.95,4.955555555555556,5.325,6.35,5.800000000000001],\"yaxis\":\"y\",\"type\":\"scattergl\"},{\"hovertemplate\":\"Genre=Family\\u003cbr\\u003eYear=%{x}\\u003cbr\\u003eRating=%{y}\\u003cextra\\u003e\\u003c\\u002fextra\\u003e\",\"legendgroup\":\"Family\",\"line\":{\"color\":\"#B6E880\",\"dash\":\"solid\"},\"marker\":{\"symbol\":\"circle\"},\"mode\":\"lines\",\"name\":\"Family\",\"showlegend\":true,\"x\":[1948,1960,1962,1965,1966,1967,1968,1971,1974,1975,1977,1979,1980,1981,1982,1983,1984,1985,1989,1990,1992,1995,2000,2001,2007,2015,2016,2019,2020,2021],\"xaxis\":\"x\",\"y\":[7.5,6.6,6.6,6.5,6.4,6.5,6.0,7.066666666666666,7.4,6.05,5.9,7.6,5.7,7.4,5.666666666666667,5.966666666666666,5.866666666666667,6.35,5.1,4.6000000000000005,7.9,2.6,6.2,5.233333333333333,8.0,5.5,6.800000000000001,7.55,7.3,9.3],\"yaxis\":\"y\",\"type\":\"scattergl\"},{\"hovertemplate\":\"Genre= Crime\\u003cbr\\u003eYear=%{x}\\u003cbr\\u003eRating=%{y}\\u003cextra\\u003e\\u003c\\u002fextra\\u003e\",\"legendgroup\":\" Crime\",\"line\":{\"color\":\"#FF97FF\",\"dash\":\"solid\"},\"marker\":{\"symbol\":\"circle\"},\"mode\":\"lines\",\"name\":\" Crime\",\"showlegend\":true,\"x\":[1949,1953,1954,1955,1956,1957,1959,1960,1961,1962,1963,1965,1967,1968,1969,1970,1971,1972,1973,1974,1975,1976,1977,1978,1979,1980,1981,1982,1983,1984,1985,1986,1987,1988,1989,1990,1991,1992,1993,1994,1995,1996,1997,1998,1999,2000,2001,2002,2003,2004,2005,2006,2007,2008,2009,2010,2011,2012,2013,2014,2015,2016,2017,2018,2019,2020,2021],\"xaxis\":\"x\",\"y\":[7.2,7.5,6.2,6.6,6.466666666666666,7.75,7.1,7.3999999999999995,6.15,5.7,7.0,6.3,5.933333333333334,5.966666666666666,6.38,5.7,6.25,6.0,5.84,6.033333333333334,6.08,6.220000000000001,6.16,5.9399999999999995,6.575,6.675,6.4125,6.1571428571428575,6.56,5.58,6.122222222222223,6.3,5.925000000000001,5.975,5.4639999999999995,5.406666666666666,4.6,5.5,5.6,4.972727272727273,5.4125,5.333333333333333,5.8428571428571425,5.990909090909091,5.741666666666667,5.0600000000000005,5.136363636363637,5.355555555555556,5.511111111111111,5.570588235294117,5.992307692307692,5.178947368421053,5.09375,5.119047619047619,5.0249999999999995,5.616666666666667,5.378571428571428,5.257142857142857,5.190476190476191,5.857142857142857,6.2823529411764705,6.18,6.35,5.65,5.958333333333333,7.090000000000001,5.275],\"yaxis\":\"y\",\"type\":\"scattergl\"},{\"hovertemplate\":\"Genre= Horror\\u003cbr\\u003eYear=%{x}\\u003cbr\\u003eRating=%{y}\\u003cextra\\u003e\\u003c\\u002fextra\\u003e\",\"legendgroup\":\" Horror\",\"line\":{\"color\":\"#FECB52\",\"dash\":\"solid\"},\"marker\":{\"symbol\":\"circle\"},\"mode\":\"lines\",\"name\":\" Horror\",\"showlegend\":true,\"x\":[1949,1963,1965,1971,1972,1979,1980,1981,1984,1986,1987,1988,1990,1992,1993,1994,1999,2001,2002,2003,2004,2005,2006,2007,2008,2009,2010,2011,2012,2013,2014,2015,2016,2017,2018,2019,2020,2021],\"xaxis\":\"x\",\"y\":[7.1,5.7,6.5,6.8,6.0,6.1,6.699999999999999,6.1,6.4,5.4,4.1,6.6,4.9,5.05,7.6,4.4,4.4,5.8,6.5,2.6999999999999997,6.1,4.333333333333333,4.2,5.475,3.3,5.175,3.9000000000000004,5.6,5.8,3.65,3.1333333333333333,4.0,5.5,4.949999999999999,6.38,6.5,5.279999999999999,4.4],\"yaxis\":\"y\",\"type\":\"scattergl\"},{\"hovertemplate\":\"Genre= Mystery\\u003cbr\\u003eYear=%{x}\\u003cbr\\u003eRating=%{y}\\u003cextra\\u003e\\u003c\\u002fextra\\u003e\",\"legendgroup\":\" Mystery\",\"line\":{\"color\":\"#636efa\",\"dash\":\"solid\"},\"marker\":{\"symbol\":\"circle\"},\"mode\":\"lines\",\"name\":\" Mystery\",\"showlegend\":true,\"x\":[1949,1950,1952,1957,1958,1959,1960,1962,1963,1964,1965,1966,1967,1968,1969,1970,1971,1973,1974,1975,1977,1978,1979,1980,1981,1982,1984,1985,1986,1987,1988,1989,1992,1993,1996,1997,1998,2000,2001,2002,2003,2004,2005,2006,2007,2008,2009,2010,2011,2012,2013,2014,2015,2016,2017,2018,2019,2020,2021],\"xaxis\":\"x\",\"y\":[7.1,7.1,7.3,5.5,7.2,6.7,6.95,7.1,5.7,7.3,6.659999999999999,6.8,6.7,7.0,6.866666666666667,6.6000000000000005,6.9,6.300000000000001,6.666666666666667,6.175,6.1,6.4,6.05,6.0,6.225,7.3,4.8,5.2,7.050000000000001,5.1000000000000005,6.0,5.9,7.2,5.35,5.0,5.733333333333333,3.75,5.05,5.833333333333333,5.449999999999999,4.922222222222222,4.925,5.491666666666667,5.300000000000001,6.233333333333333,5.61,5.527272727272727,5.316666666666666,5.328571428571428,5.757142857142857,4.7,5.5,5.844444444444445,5.7444444444444445,5.661538461538461,5.5,7.139999999999999,6.122222222222223,5.5],\"yaxis\":\"y\",\"type\":\"scattergl\"},{\"hovertemplate\":\"Genre=Crime\\u003cbr\\u003eYear=%{x}\\u003cbr\\u003eRating=%{y}\\u003cextra\\u003e\\u003c\\u002fextra\\u003e\",\"legendgroup\":\"Crime\",\"line\":{\"color\":\"#EF553B\",\"dash\":\"solid\"},\"marker\":{\"symbol\":\"circle\"},\"mode\":\"lines\",\"name\":\"Crime\",\"showlegend\":true,\"x\":[1949,1950,1951,1952,1953,1955,1957,1958,1959,1960,1961,1963,1965,1966,1967,1968,1969,1970,1971,1972,1973,1974,1975,1976,1977,1978,1980,1981,1983,1984,1985,1986,1987,1988,1989,1990,1991,1992,1993,1994,1995,1996,1998,1999,2000,2001,2002,2003,2004,2005,2006,2007,2008,2009,2010,2011,2012,2013,2014,2015,2016,2017,2018,2019,2020,2021],\"xaxis\":\"x\",\"y\":[7.7,7.1,7.3,7.2,7.6,6.5,6.35,6.833333333333333,6.8,6.95,6.9,6.0,6.4,6.5,7.125,6.95,7.4,6.1,6.5,5.9,6.8,7.2,6.3,6.8,6.25,6.4,6.383333333333333,6.166666666666667,7.3,6.1,5.35,7.5,5.5,6.466666666666666,5.766666666666667,4.75,5.75,7.05,6.14,4.0,5.0,5.2,5.2,6.6,4.95,4.75,5.9399999999999995,6.2555555555555555,6.0,5.325,5.1,5.172727272727273,6.490909090909091,6.58,5.61,6.1571428571428575,6.1375,6.1499999999999995,6.207692307692308,6.733333333333333,6.178571428571429,5.88,6.3,6.845454545454545,6.338461538461539,6.014285714285714],\"yaxis\":\"y\",\"type\":\"scattergl\"},{\"hovertemplate\":\"Genre= Thriller\\u003cbr\\u003eYear=%{x}\\u003cbr\\u003eRating=%{y}\\u003cextra\\u003e\\u003c\\u002fextra\\u003e\",\"legendgroup\":\" Thriller\",\"line\":{\"color\":\"#00cc96\",\"dash\":\"solid\"},\"marker\":{\"symbol\":\"circle\"},\"mode\":\"lines\",\"name\":\" Thriller\",\"showlegend\":true,\"x\":[1952,1954,1957,1958,1959,1960,1962,1964,1965,1966,1967,1968,1969,1970,1971,1972,1973,1974,1975,1976,1977,1978,1979,1980,1981,1982,1983,1984,1985,1986,1987,1988,1989,1990,1991,1992,1993,1994,1995,1996,1997,1998,1999,2000,2001,2002,2003,2004,2005,2006,2007,2008,2009,2010,2011,2012,2013,2014,2015,2016,2017,2018,2019,2020,2021],\"xaxis\":\"x\",\"y\":[7.2,6.6,6.8,6.233333333333333,6.7,6.5,6.8,6.566666666666666,6.825,6.0,6.840000000000001,6.725,6.566666666666666,6.675,6.65,6.5,6.155555555555555,6.68,6.071428571428571,6.35,5.733333333333333,7.1,6.433333333333334,6.1571428571428575,6.366666666666666,5.900000000000001,4.5,5.75,6.12,6.655555555555555,6.0,5.35,6.0,5.55,6.0,5.885714285714286,5.022222222222222,5.91,5.76,4.59,4.566666666666666,4.6,5.6000000000000005,5.34,6.0875,5.088888888888889,5.107142857142857,5.088888888888889,4.915,5.319999999999999,4.3,5.608333333333333,5.954545454545454,5.23125,5.715,5.121052631578947,5.52051282051282,5.391304347826087,5.938461538461539,6.291428571428571,6.0360000000000005,5.282608695652174,5.796428571428572,5.541176470588235,5.188888888888889],\"yaxis\":\"y\",\"type\":\"scattergl\"},{\"hovertemplate\":\"Genre=History\\u003cbr\\u003eYear=%{x}\\u003cbr\\u003eRating=%{y}\\u003cextra\\u003e\\u003c\\u002fextra\\u003e\",\"legendgroup\":\"History\",\"line\":{\"color\":\"#ab63fa\",\"dash\":\"solid\"},\"marker\":{\"symbol\":\"circle\"},\"mode\":\"lines\",\"name\":\"History\",\"showlegend\":true,\"x\":[1952,1953,1968,1977,2006,2012,2019],\"xaxis\":\"x\",\"y\":[6.0,7.2,7.1,7.0,6.6,7.25,9.4],\"yaxis\":\"y\",\"type\":\"scattergl\"},{\"hovertemplate\":\"Genre= Comedy\\u003cbr\\u003eYear=%{x}\\u003cbr\\u003eRating=%{y}\\u003cextra\\u003e\\u003c\\u002fextra\\u003e\",\"legendgroup\":\" Comedy\",\"line\":{\"color\":\"#FFA15A\",\"dash\":\"solid\"},\"marker\":{\"symbol\":\"circle\"},\"mode\":\"lines\",\"name\":\" Comedy\",\"showlegend\":true,\"x\":[1955,1956,1960,1962,1963,1964,1965,1966,1967,1968,1969,1970,1971,1972,1973,1974,1975,1976,1977,1978,1979,1980,1981,1982,1983,1984,1985,1986,1987,1988,1989,1990,1991,1992,1993,1994,1995,1996,1997,1998,1999,2000,2001,2002,2003,2004,2005,2006,2007,2008,2009,2010,2011,2012,2013,2014,2015,2016,2017,2018,2019,2020,2021],\"xaxis\":\"x\",\"y\":[6.800000000000001,5.7,6.8,6.85,7.4,6.4,5.85,6.5,5.0,4.65,6.55,6.58,6.62,6.5,5.0,6.433333333333334,6.233333333333333,6.466666666666666,6.25,6.800000000000001,5.55,6.575,6.4,6.6000000000000005,5.72,6.4,5.4,5.166666666666667,5.866666666666667,6.65,5.875,5.583333333333333,6.025,6.285714285714286,6.066666666666666,5.45,5.7,5.95,5.371428571428572,5.7125,5.15,4.75,4.9399999999999995,4.833333333333333,4.933333333333334,4.9,4.675000000000001,4.76,5.1,5.45,4.9125,5.271428571428571,4.8999999999999995,5.29,5.133333333333334,5.175,5.663636363636363,4.3625,5.228571428571429,5.933333333333334,4.13,5.025,7.6],\"yaxis\":\"y\",\"type\":\"scattergl\"},{\"hovertemplate\":\"Genre= Music\\u003cbr\\u003eYear=%{x}\\u003cbr\\u003eRating=%{y}\\u003cextra\\u003e\\u003c\\u002fextra\\u003e\",\"legendgroup\":\" Music\",\"line\":{\"color\":\"#19d3f3\",\"dash\":\"solid\"},\"marker\":{\"symbol\":\"circle\"},\"mode\":\"lines\",\"name\":\" Music\",\"showlegend\":true,\"x\":[1956,1962,1967,1973,1975,1980,1983,1984,1986,1987,1989,1994,1995,1996,1997,1998,2003,2004,2006,2007,2008,2009,2010,2011,2012,2013,2015,2016,2017,2018,2019,2020],\"xaxis\":\"x\",\"y\":[6.6,6.7,6.7,7.0,4.4,7.9,5.8,6.9,4.1,4.6,6.6,7.8,2.6,7.2,6.6,5.1,7.2,6.7,4.966666666666667,5.4,7.933333333333334,6.166666666666667,5.0,7.7,5.3,6.65,6.066666666666667,5.233333333333333,5.55,5.6,8.0,4.8],\"yaxis\":\"y\",\"type\":\"scattergl\"},{\"hovertemplate\":\"Genre= Biography\\u003cbr\\u003eYear=%{x}\\u003cbr\\u003eRating=%{y}\\u003cextra\\u003e\\u003c\\u002fextra\\u003e\",\"legendgroup\":\" Biography\",\"line\":{\"color\":\"#FF6692\",\"dash\":\"solid\"},\"marker\":{\"symbol\":\"circle\"},\"mode\":\"lines\",\"name\":\" Biography\",\"showlegend\":true,\"x\":[1957,1970,1982,1988,2001,2002,2005,2010,2012,2013,2014,2015,2016,2017,2018,2019,2020,2021],\"xaxis\":\"x\",\"y\":[7.0,7.0,7.2,8.2,6.5,8.1,6.2,7.05,8.2,6.433333333333334,6.8,7.5,6.85,7.133333333333333,5.7,6.625,6.449999999999999,4.1],\"yaxis\":\"y\",\"type\":\"scattergl\"},{\"hovertemplate\":\"Genre=Thriller\\u003cbr\\u003eYear=%{x}\\u003cbr\\u003eRating=%{y}\\u003cextra\\u003e\\u003c\\u002fextra\\u003e\",\"legendgroup\":\"Thriller\",\"line\":{\"color\":\"#B6E880\",\"dash\":\"solid\"},\"marker\":{\"symbol\":\"circle\"},\"mode\":\"lines\",\"name\":\"Thriller\",\"showlegend\":true,\"x\":[1960,1962,1967,1969,1971,1974,1975,1978,1980,1985,1987,1991,1997,2000,2001,2002,2003,2004,2005,2006,2009,2012,2013,2014,2015,2016,2017,2018,2019,2020,2021],\"xaxis\":\"x\",\"y\":[6.3,7.1,6.2,6.1,6.1,6.466666666666666,6.4,6.2,5.8,6.3,4.8,2.8,6.1,5.4,5.15,5.6,3.5999999999999996,2.9,3.65,4.5,6.8,4.4,4.225,5.7,5.42,5.26,5.9,6.111111111111111,5.233333333333333,5.2375,6.1],\"yaxis\":\"y\",\"type\":\"scattergl\"},{\"hovertemplate\":\"Genre= Action\\u003cbr\\u003eYear=%{x}\\u003cbr\\u003eRating=%{y}\\u003cextra\\u003e\\u003c\\u002fextra\\u003e\",\"legendgroup\":\" Action\",\"line\":{\"color\":\"#FF97FF\",\"dash\":\"solid\"},\"marker\":{\"symbol\":\"circle\"},\"mode\":\"lines\",\"name\":\" Action\",\"showlegend\":true,\"x\":[1961,1966,1969,1972,1976,1980,1981,1983,1984,1987,1988,1991,1997,1999,2002,2003,2004,2008,2010,2012,2013,2019,2020],\"xaxis\":\"x\",\"y\":[7.4,6.7,7.3,6.233333333333333,6.3,5.95,7.1,5.949999999999999,5.6,4.3,5.65,8.0,4.6,4.466666666666667,6.7,2.9,6.0,7.2,5.0,6.65,5.3,6.0,6.9],\"yaxis\":\"y\",\"type\":\"scattergl\"},{\"hovertemplate\":\"Genre= Sci-Fi\\u003cbr\\u003eYear=%{x}\\u003cbr\\u003eRating=%{y}\\u003cextra\\u003e\\u003c\\u002fextra\\u003e\",\"legendgroup\":\" Sci-Fi\",\"line\":{\"color\":\"#FECB52\",\"dash\":\"solid\"},\"marker\":{\"symbol\":\"circle\"},\"mode\":\"lines\",\"name\":\" Sci-Fi\",\"showlegend\":true,\"x\":[1964,1968,1985,1986,1987,2003,2004,2006,2007,2009,2010,2011,2012,2013,2014,2016,2018,2019],\"xaxis\":\"x\",\"y\":[6.3,6.8,5.9,7.3,4.5,7.0,2.7,4.550000000000001,6.2,5.0,4.7,4.0,2.8499999999999996,4.4,4.866666666666666,7.3,5.65,6.1],\"yaxis\":\"y\",\"type\":\"scattergl\"},{\"hovertemplate\":\"Genre= Sport\\u003cbr\\u003eYear=%{x}\\u003cbr\\u003eRating=%{y}\\u003cextra\\u003e\\u003c\\u002fextra\\u003e\",\"legendgroup\":\" Sport\",\"line\":{\"color\":\"#636efa\",\"dash\":\"solid\"},\"marker\":{\"symbol\":\"circle\"},\"mode\":\"lines\",\"name\":\" Sport\",\"showlegend\":true,\"x\":[1966,1990,2001,2003,2005,2006,2007,2009,2010,2011,2013,2014,2015,2016,2017,2018,2019,2020,2021],\"xaxis\":\"x\",\"y\":[5.6,5.3,8.1,2.6,7.65,4.4,6.375,3.8,6.3,5.8,8.0,6.45,6.5,6.783333333333334,8.3,7.8999999999999995,6.95,6.8,5.4],\"yaxis\":\"y\",\"type\":\"scattergl\"},{\"hovertemplate\":\"Genre=Horror\\u003cbr\\u003eYear=%{x}\\u003cbr\\u003eRating=%{y}\\u003cextra\\u003e\\u003c\\u002fextra\\u003e\",\"legendgroup\":\"Horror\",\"line\":{\"color\":\"#EF553B\",\"dash\":\"solid\"},\"marker\":{\"symbol\":\"circle\"},\"mode\":\"lines\",\"name\":\"Horror\",\"showlegend\":true,\"x\":[1972,1977,1978,1979,1981,1984,1985,1987,1988,1989,1990,1991,1992,1993,1996,1997,1998,1999,2000,2001,2002,2003,2004,2005,2006,2007,2008,2009,2010,2011,2012,2013,2014,2015,2016,2017,2018,2019,2020,2021],\"xaxis\":\"x\",\"y\":[6.1,6.1,6.0,6.0,6.433333333333334,5.0,5.6,4.3,3.55,4.6,5.3,5.16,5.25,5.0,2.45,4.2,4.3,4.159999999999999,3.1,4.15,4.3,5.114285714285714,4.2,5.3,4.85,4.75,6.4,5.6,4.35,3.9,3.8333333333333335,4.216666666666667,4.0,3.2,4.2,5.322222222222222,5.54,4.988888888888889,4.8875,4.4],\"yaxis\":\"y\",\"type\":\"scattergl\"},{\"hovertemplate\":\"Genre=Documentary\\u003cbr\\u003eYear=%{x}\\u003cbr\\u003eRating=%{y}\\u003cextra\\u003e\\u003c\\u002fextra\\u003e\",\"legendgroup\":\"Documentary\",\"line\":{\"color\":\"#00cc96\",\"dash\":\"solid\"},\"marker\":{\"symbol\":\"circle\"},\"mode\":\"lines\",\"name\":\"Documentary\",\"showlegend\":true,\"x\":[1982,1985,1988,1990,2001,2003,2005,2006,2008,2009,2011,2012,2013,2014,2015,2016,2017,2018,2019,2021],\"xaxis\":\"x\",\"y\":[7.2,7.75,8.2,7.5,7.6,8.6,8.6,6.2,8.5,6.5,7.05,7.2,7.225,7.449999999999999,7.8,6.449999999999999,8.1,6.550000000000001,9.3,7.166666666666667],\"yaxis\":\"y\",\"type\":\"scattergl\"},{\"hovertemplate\":\"Genre= Western\\u003cbr\\u003eYear=%{x}\\u003cbr\\u003eRating=%{y}\\u003cextra\\u003e\\u003c\\u002fextra\\u003e\",\"legendgroup\":\" Western\",\"line\":{\"color\":\"#ab63fa\",\"dash\":\"solid\"},\"marker\":{\"symbol\":\"circle\"},\"mode\":\"lines\",\"name\":\" Western\",\"showlegend\":true,\"x\":[1989],\"xaxis\":\"x\",\"y\":[5.7],\"yaxis\":\"y\",\"type\":\"scattergl\"},{\"hovertemplate\":\"Genre=War\\u003cbr\\u003eYear=%{x}\\u003cbr\\u003eRating=%{y}\\u003cextra\\u003e\\u003c\\u002fextra\\u003e\",\"legendgroup\":\"War\",\"line\":{\"color\":\"#FFA15A\",\"dash\":\"solid\"},\"marker\":{\"symbol\":\"circle\"},\"mode\":\"lines\",\"name\":\"War\",\"showlegend\":true,\"x\":[1995,2019,2020],\"xaxis\":\"x\",\"y\":[6.7,2.8,3.5],\"yaxis\":\"y\",\"type\":\"scattergl\"},{\"hovertemplate\":\"Genre=Animation\\u003cbr\\u003eYear=%{x}\\u003cbr\\u003eRating=%{y}\\u003cextra\\u003e\\u003c\\u002fextra\\u003e\",\"legendgroup\":\"Animation\",\"line\":{\"color\":\"#19d3f3\",\"dash\":\"solid\"},\"marker\":{\"symbol\":\"circle\"},\"mode\":\"lines\",\"name\":\"Animation\",\"showlegend\":true,\"x\":[2000,2005,2006,2007,2008,2009,2010,2012,2013,2014,2015,2016,2017,2019,2020],\"xaxis\":\"x\",\"y\":[6.8,6.85,5.9,4.6,6.0200000000000005,5.5,5.625,6.26,6.0600000000000005,4.1,4.2,7.266666666666667,5.166666666666667,6.0,7.15],\"yaxis\":\"y\",\"type\":\"scattergl\"},{\"hovertemplate\":\"Genre= News\\u003cbr\\u003eYear=%{x}\\u003cbr\\u003eRating=%{y}\\u003cextra\\u003e\\u003c\\u002fextra\\u003e\",\"legendgroup\":\" News\",\"line\":{\"color\":\"#FF6692\",\"dash\":\"solid\"},\"marker\":{\"symbol\":\"circle\"},\"mode\":\"lines\",\"name\":\" News\",\"showlegend\":true,\"x\":[2011],\"xaxis\":\"x\",\"y\":[8.0],\"yaxis\":\"y\",\"type\":\"scattergl\"},{\"hovertemplate\":\"Genre=Music\\u003cbr\\u003eYear=%{x}\\u003cbr\\u003eRating=%{y}\\u003cextra\\u003e\\u003c\\u002fextra\\u003e\",\"legendgroup\":\"Music\",\"line\":{\"color\":\"#B6E880\",\"dash\":\"solid\"},\"marker\":{\"symbol\":\"circle\"},\"mode\":\"lines\",\"name\":\"Music\",\"showlegend\":true,\"x\":[2012,2015,2021],\"xaxis\":\"x\",\"y\":[5.9,6.8,9.7],\"yaxis\":\"y\",\"type\":\"scattergl\"},{\"hovertemplate\":\"Genre=Sci-Fi\\u003cbr\\u003eYear=%{x}\\u003cbr\\u003eRating=%{y}\\u003cextra\\u003e\\u003c\\u002fextra\\u003e\",\"legendgroup\":\"Sci-Fi\",\"line\":{\"color\":\"#FF97FF\",\"dash\":\"solid\"},\"marker\":{\"symbol\":\"circle\"},\"mode\":\"lines\",\"name\":\"Sci-Fi\",\"showlegend\":true,\"x\":[2012,2013,2014,2021],\"xaxis\":\"x\",\"y\":[5.4,6.3,4.3,9.3],\"yaxis\":\"y\",\"type\":\"scattergl\"},{\"hovertemplate\":\"Genre=Sport\\u003cbr\\u003eYear=%{x}\\u003cbr\\u003eRating=%{y}\\u003cextra\\u003e\\u003c\\u002fextra\\u003e\",\"legendgroup\":\"Sport\",\"line\":{\"color\":\"#FECB52\",\"dash\":\"solid\"},\"marker\":{\"symbol\":\"circle\"},\"mode\":\"lines\",\"name\":\"Sport\",\"showlegend\":true,\"x\":[2019],\"xaxis\":\"x\",\"y\":[5.8],\"yaxis\":\"y\",\"type\":\"scattergl\"}],                        {\"template\":{\"data\":{\"histogram2dcontour\":[{\"type\":\"histogram2dcontour\",\"colorbar\":{\"outlinewidth\":0,\"ticks\":\"\"},\"colorscale\":[[0.0,\"#0d0887\"],[0.1111111111111111,\"#46039f\"],[0.2222222222222222,\"#7201a8\"],[0.3333333333333333,\"#9c179e\"],[0.4444444444444444,\"#bd3786\"],[0.5555555555555556,\"#d8576b\"],[0.6666666666666666,\"#ed7953\"],[0.7777777777777778,\"#fb9f3a\"],[0.8888888888888888,\"#fdca26\"],[1.0,\"#f0f921\"]]}],\"choropleth\":[{\"type\":\"choropleth\",\"colorbar\":{\"outlinewidth\":0,\"ticks\":\"\"}}],\"histogram2d\":[{\"type\":\"histogram2d\",\"colorbar\":{\"outlinewidth\":0,\"ticks\":\"\"},\"colorscale\":[[0.0,\"#0d0887\"],[0.1111111111111111,\"#46039f\"],[0.2222222222222222,\"#7201a8\"],[0.3333333333333333,\"#9c179e\"],[0.4444444444444444,\"#bd3786\"],[0.5555555555555556,\"#d8576b\"],[0.6666666666666666,\"#ed7953\"],[0.7777777777777778,\"#fb9f3a\"],[0.8888888888888888,\"#fdca26\"],[1.0,\"#f0f921\"]]}],\"heatmap\":[{\"type\":\"heatmap\",\"colorbar\":{\"outlinewidth\":0,\"ticks\":\"\"},\"colorscale\":[[0.0,\"#0d0887\"],[0.1111111111111111,\"#46039f\"],[0.2222222222222222,\"#7201a8\"],[0.3333333333333333,\"#9c179e\"],[0.4444444444444444,\"#bd3786\"],[0.5555555555555556,\"#d8576b\"],[0.6666666666666666,\"#ed7953\"],[0.7777777777777778,\"#fb9f3a\"],[0.8888888888888888,\"#fdca26\"],[1.0,\"#f0f921\"]]}],\"heatmapgl\":[{\"type\":\"heatmapgl\",\"colorbar\":{\"outlinewidth\":0,\"ticks\":\"\"},\"colorscale\":[[0.0,\"#0d0887\"],[0.1111111111111111,\"#46039f\"],[0.2222222222222222,\"#7201a8\"],[0.3333333333333333,\"#9c179e\"],[0.4444444444444444,\"#bd3786\"],[0.5555555555555556,\"#d8576b\"],[0.6666666666666666,\"#ed7953\"],[0.7777777777777778,\"#fb9f3a\"],[0.8888888888888888,\"#fdca26\"],[1.0,\"#f0f921\"]]}],\"contourcarpet\":[{\"type\":\"contourcarpet\",\"colorbar\":{\"outlinewidth\":0,\"ticks\":\"\"}}],\"contour\":[{\"type\":\"contour\",\"colorbar\":{\"outlinewidth\":0,\"ticks\":\"\"},\"colorscale\":[[0.0,\"#0d0887\"],[0.1111111111111111,\"#46039f\"],[0.2222222222222222,\"#7201a8\"],[0.3333333333333333,\"#9c179e\"],[0.4444444444444444,\"#bd3786\"],[0.5555555555555556,\"#d8576b\"],[0.6666666666666666,\"#ed7953\"],[0.7777777777777778,\"#fb9f3a\"],[0.8888888888888888,\"#fdca26\"],[1.0,\"#f0f921\"]]}],\"surface\":[{\"type\":\"surface\",\"colorbar\":{\"outlinewidth\":0,\"ticks\":\"\"},\"colorscale\":[[0.0,\"#0d0887\"],[0.1111111111111111,\"#46039f\"],[0.2222222222222222,\"#7201a8\"],[0.3333333333333333,\"#9c179e\"],[0.4444444444444444,\"#bd3786\"],[0.5555555555555556,\"#d8576b\"],[0.6666666666666666,\"#ed7953\"],[0.7777777777777778,\"#fb9f3a\"],[0.8888888888888888,\"#fdca26\"],[1.0,\"#f0f921\"]]}],\"mesh3d\":[{\"type\":\"mesh3d\",\"colorbar\":{\"outlinewidth\":0,\"ticks\":\"\"}}],\"scatter\":[{\"fillpattern\":{\"fillmode\":\"overlay\",\"size\":10,\"solidity\":0.2},\"type\":\"scatter\"}],\"parcoords\":[{\"type\":\"parcoords\",\"line\":{\"colorbar\":{\"outlinewidth\":0,\"ticks\":\"\"}}}],\"scatterpolargl\":[{\"type\":\"scatterpolargl\",\"marker\":{\"colorbar\":{\"outlinewidth\":0,\"ticks\":\"\"}}}],\"bar\":[{\"error_x\":{\"color\":\"#2a3f5f\"},\"error_y\":{\"color\":\"#2a3f5f\"},\"marker\":{\"line\":{\"color\":\"#E5ECF6\",\"width\":0.5},\"pattern\":{\"fillmode\":\"overlay\",\"size\":10,\"solidity\":0.2}},\"type\":\"bar\"}],\"scattergeo\":[{\"type\":\"scattergeo\",\"marker\":{\"colorbar\":{\"outlinewidth\":0,\"ticks\":\"\"}}}],\"scatterpolar\":[{\"type\":\"scatterpolar\",\"marker\":{\"colorbar\":{\"outlinewidth\":0,\"ticks\":\"\"}}}],\"histogram\":[{\"marker\":{\"pattern\":{\"fillmode\":\"overlay\",\"size\":10,\"solidity\":0.2}},\"type\":\"histogram\"}],\"scattergl\":[{\"type\":\"scattergl\",\"marker\":{\"colorbar\":{\"outlinewidth\":0,\"ticks\":\"\"}}}],\"scatter3d\":[{\"type\":\"scatter3d\",\"line\":{\"colorbar\":{\"outlinewidth\":0,\"ticks\":\"\"}},\"marker\":{\"colorbar\":{\"outlinewidth\":0,\"ticks\":\"\"}}}],\"scattermapbox\":[{\"type\":\"scattermapbox\",\"marker\":{\"colorbar\":{\"outlinewidth\":0,\"ticks\":\"\"}}}],\"scatterternary\":[{\"type\":\"scatterternary\",\"marker\":{\"colorbar\":{\"outlinewidth\":0,\"ticks\":\"\"}}}],\"scattercarpet\":[{\"type\":\"scattercarpet\",\"marker\":{\"colorbar\":{\"outlinewidth\":0,\"ticks\":\"\"}}}],\"carpet\":[{\"aaxis\":{\"endlinecolor\":\"#2a3f5f\",\"gridcolor\":\"white\",\"linecolor\":\"white\",\"minorgridcolor\":\"white\",\"startlinecolor\":\"#2a3f5f\"},\"baxis\":{\"endlinecolor\":\"#2a3f5f\",\"gridcolor\":\"white\",\"linecolor\":\"white\",\"minorgridcolor\":\"white\",\"startlinecolor\":\"#2a3f5f\"},\"type\":\"carpet\"}],\"table\":[{\"cells\":{\"fill\":{\"color\":\"#EBF0F8\"},\"line\":{\"color\":\"white\"}},\"header\":{\"fill\":{\"color\":\"#C8D4E3\"},\"line\":{\"color\":\"white\"}},\"type\":\"table\"}],\"barpolar\":[{\"marker\":{\"line\":{\"color\":\"#E5ECF6\",\"width\":0.5},\"pattern\":{\"fillmode\":\"overlay\",\"size\":10,\"solidity\":0.2}},\"type\":\"barpolar\"}],\"pie\":[{\"automargin\":true,\"type\":\"pie\"}]},\"layout\":{\"autotypenumbers\":\"strict\",\"colorway\":[\"#636efa\",\"#EF553B\",\"#00cc96\",\"#ab63fa\",\"#FFA15A\",\"#19d3f3\",\"#FF6692\",\"#B6E880\",\"#FF97FF\",\"#FECB52\"],\"font\":{\"color\":\"#2a3f5f\"},\"hovermode\":\"closest\",\"hoverlabel\":{\"align\":\"left\"},\"paper_bgcolor\":\"white\",\"plot_bgcolor\":\"#E5ECF6\",\"polar\":{\"bgcolor\":\"#E5ECF6\",\"angularaxis\":{\"gridcolor\":\"white\",\"linecolor\":\"white\",\"ticks\":\"\"},\"radialaxis\":{\"gridcolor\":\"white\",\"linecolor\":\"white\",\"ticks\":\"\"}},\"ternary\":{\"bgcolor\":\"#E5ECF6\",\"aaxis\":{\"gridcolor\":\"white\",\"linecolor\":\"white\",\"ticks\":\"\"},\"baxis\":{\"gridcolor\":\"white\",\"linecolor\":\"white\",\"ticks\":\"\"},\"caxis\":{\"gridcolor\":\"white\",\"linecolor\":\"white\",\"ticks\":\"\"}},\"coloraxis\":{\"colorbar\":{\"outlinewidth\":0,\"ticks\":\"\"}},\"colorscale\":{\"sequential\":[[0.0,\"#0d0887\"],[0.1111111111111111,\"#46039f\"],[0.2222222222222222,\"#7201a8\"],[0.3333333333333333,\"#9c179e\"],[0.4444444444444444,\"#bd3786\"],[0.5555555555555556,\"#d8576b\"],[0.6666666666666666,\"#ed7953\"],[0.7777777777777778,\"#fb9f3a\"],[0.8888888888888888,\"#fdca26\"],[1.0,\"#f0f921\"]],\"sequentialminus\":[[0.0,\"#0d0887\"],[0.1111111111111111,\"#46039f\"],[0.2222222222222222,\"#7201a8\"],[0.3333333333333333,\"#9c179e\"],[0.4444444444444444,\"#bd3786\"],[0.5555555555555556,\"#d8576b\"],[0.6666666666666666,\"#ed7953\"],[0.7777777777777778,\"#fb9f3a\"],[0.8888888888888888,\"#fdca26\"],[1.0,\"#f0f921\"]],\"diverging\":[[0,\"#8e0152\"],[0.1,\"#c51b7d\"],[0.2,\"#de77ae\"],[0.3,\"#f1b6da\"],[0.4,\"#fde0ef\"],[0.5,\"#f7f7f7\"],[0.6,\"#e6f5d0\"],[0.7,\"#b8e186\"],[0.8,\"#7fbc41\"],[0.9,\"#4d9221\"],[1,\"#276419\"]]},\"xaxis\":{\"gridcolor\":\"white\",\"linecolor\":\"white\",\"ticks\":\"\",\"title\":{\"standoff\":15},\"zerolinecolor\":\"white\",\"automargin\":true,\"zerolinewidth\":2},\"yaxis\":{\"gridcolor\":\"white\",\"linecolor\":\"white\",\"ticks\":\"\",\"title\":{\"standoff\":15},\"zerolinecolor\":\"white\",\"automargin\":true,\"zerolinewidth\":2},\"scene\":{\"xaxis\":{\"backgroundcolor\":\"#E5ECF6\",\"gridcolor\":\"white\",\"linecolor\":\"white\",\"showbackground\":true,\"ticks\":\"\",\"zerolinecolor\":\"white\",\"gridwidth\":2},\"yaxis\":{\"backgroundcolor\":\"#E5ECF6\",\"gridcolor\":\"white\",\"linecolor\":\"white\",\"showbackground\":true,\"ticks\":\"\",\"zerolinecolor\":\"white\",\"gridwidth\":2},\"zaxis\":{\"backgroundcolor\":\"#E5ECF6\",\"gridcolor\":\"white\",\"linecolor\":\"white\",\"showbackground\":true,\"ticks\":\"\",\"zerolinecolor\":\"white\",\"gridwidth\":2}},\"shapedefaults\":{\"line\":{\"color\":\"#2a3f5f\"}},\"annotationdefaults\":{\"arrowcolor\":\"#2a3f5f\",\"arrowhead\":0,\"arrowwidth\":1},\"geo\":{\"bgcolor\":\"white\",\"landcolor\":\"#E5ECF6\",\"subunitcolor\":\"white\",\"showland\":true,\"showlakes\":true,\"lakecolor\":\"white\"},\"title\":{\"x\":0.05},\"mapbox\":{\"style\":\"light\"}}},\"xaxis\":{\"anchor\":\"y\",\"domain\":[0.0,1.0],\"title\":{\"text\":\"Year\"}},\"yaxis\":{\"anchor\":\"x\",\"domain\":[0.0,1.0],\"title\":{\"text\":\"Average Rating\"}},\"legend\":{\"title\":{\"text\":\"Genre\"},\"tracegroupgap\":0},\"margin\":{\"t\":60},\"title\":{\"text\":\"Average Rating by Year and Genre\"}},                        {\"responsive\": true}                    ).then(function(){\n",
              "                            \n",
              "var gd = document.getElementById('1554e2e4-e991-4751-8baf-db0b4598107f');\n",
              "var x = new MutationObserver(function (mutations, observer) {{\n",
              "        var display = window.getComputedStyle(gd).display;\n",
              "        if (!display || display === 'none') {{\n",
              "            console.log([gd, 'removed!']);\n",
              "            Plotly.purge(gd);\n",
              "            observer.disconnect();\n",
              "        }}\n",
              "}});\n",
              "\n",
              "// Listen for the removal of the full notebook cells\n",
              "var notebookContainer = gd.closest('#notebook-container');\n",
              "if (notebookContainer) {{\n",
              "    x.observe(notebookContainer, {childList: true});\n",
              "}}\n",
              "\n",
              "// Listen for the clearing of the current output cell\n",
              "var outputEl = gd.closest('.output');\n",
              "if (outputEl) {{\n",
              "    x.observe(outputEl, {childList: true});\n",
              "}}\n",
              "\n",
              "                        })                };                            </script>        </div>\n",
              "</body>\n",
              "</html>"
            ]
          },
          "metadata": {},
          "output_type": "display_data"
        }
      ],
      "source": [
        "avg_rating_by_year = df.groupby(['Year','Genre'])['Rating'].mean().reset_index()\n",
        "\n",
        "top_genres = df['Genre'].value_counts().head(10).index\n",
        "\n",
        "average_rating_by_year = avg_rating_by_year[avg_rating_by_year['Genre'].isin(top_genres)]\n",
        "\n",
        "fig = px.line(avg_rating_by_year, x='Year', y='Rating', color='Genre')\n",
        "\n",
        "fig.update_layout(title='Average Rating by Year and Genre',xaxis_title ='Year',yaxis_title = 'Average Rating')\n",
        "\n",
        "fig.show()"
      ]
    },
    {
      "cell_type": "code",
      "execution_count": 26,
      "metadata": {
        "colab": {
          "base_uri": "https://localhost:8080/",
          "height": 542
        },
        "id": "n4P9XqydRzio",
        "outputId": "de86acfd-d6e7-47e5-b254-553349041fdc"
      },
      "outputs": [
        {
          "data": {
            "text/html": [
              "<html>\n",
              "<head><meta charset=\"utf-8\" /></head>\n",
              "<body>\n",
              "    <div>            <script src=\"https://cdnjs.cloudflare.com/ajax/libs/mathjax/2.7.5/MathJax.js?config=TeX-AMS-MML_SVG\"></script><script type=\"text/javascript\">if (window.MathJax && window.MathJax.Hub && window.MathJax.Hub.Config) {window.MathJax.Hub.Config({SVG: {font: \"STIX-Web\"}});}</script>                <script type=\"text/javascript\">window.PlotlyConfig = {MathJaxConfig: 'local'};</script>\n",
              "        <script charset=\"utf-8\" src=\"https://cdn.plot.ly/plotly-2.24.1.min.js\"></script>                <div id=\"52a7acd4-51d6-45fe-9305-170b1a04e20c\" class=\"plotly-graph-div\" style=\"height:525px; width:100%;\"></div>            <script type=\"text/javascript\">                                    window.PLOTLYENV=window.PLOTLYENV || {};                                    if (document.getElementById(\"52a7acd4-51d6-45fe-9305-170b1a04e20c\")) {                    Plotly.newPlot(                        \"52a7acd4-51d6-45fe-9305-170b1a04e20c\",                        [{\"alignmentgroup\":\"True\",\"bingroup\":\"x\",\"histnorm\":\"probability density\",\"hovertemplate\":\"Rating=%{x}\\u003cbr\\u003eprobability density=%{y}\\u003cextra\\u003e\\u003c\\u002fextra\\u003e\",\"legendgroup\":\"\",\"marker\":{\"color\":\"#636efa\",\"pattern\":{\"shape\":\"\"}},\"name\":\"\",\"nbinsx\":40,\"offsetgroup\":\"\",\"orientation\":\"v\",\"showlegend\":false,\"x\":[7.0,4.4,4.4,4.7,4.7,4.7,7.4,7.4,7.4,5.6,5.6,5.6,4.0,4.0,4.0,6.2,5.9,6.5,6.5,6.5,5.7,5.7,5.7,7.4,7.4,6.3,6.3,6.3,7.2,7.2,7.2,4.4,4.4,6.6,6.6,7.3,7.3,7.3,7.1,5.6,6.9,6.9,3.5,4.5,6.4,6.4,6.4,4.1,4.1,4.8,4.8,4.8,4.5,4.5,4.5,7.2,7.2,7.2,8.1,8.1,8.1,4.0,5.5,6.8,6.8,6.8,5.0,5.0,5.0,6.9,6.9,6.9,6.2,6.2,3.5,3.5,3.5,6.1,6.1,7.7,7.7,6.1,5.1,5.1,5.1,6.9,5.0,5.0,3.3,3.3,7.8,7.8,6.9,8.4,8.4,6.9,4.3,4.3,5.8,5.8,5.8,5.7,5.7,5.7,7.5,7.5,5.7,5.7,5.6,5.6,3.6,3.6,3.6,6.3,7.3,7.3,7.3,4.8,7.8,7.8,7.8,5.7,6.5,6.5,4.6,4.6,4.6,4.2,6.2,5.3,5.3,5.0,5.7,5.7,6.2,6.1,6.1,6.1,4.1,4.1,4.1,5.3,5.3,5.3,5.3,5.4,5.4,5.4,6.6,6.6,6.6,4.7,4.7,5.3,7.3,7.3,7.3,7.4,7.4,4.8,4.8,8.1,6.3,7.5,7.5,6.8,6.8,4.5,4.5,4.5,3.0,3.0,3.0,6.3,6.3,6.2,6.2,8.0,8.0,7.3,6.0,3.1,3.8,3.8,7.9,8.1,8.1,8.1,5.5,5.5,5.5,8.0,5.0,5.0,5.0,7.2,7.2,7.2,4.4,4.4,2.7,6.8,2.4,5.5,5.5,5.5,7.4,5.5,5.5,5.5,5.1,7.6,6.4,5.4,5.4,5.4,6.7,6.7,6.8,6.8,6.5,6.5,6.5,6.7,6.2,6.2,6.2,5.0,5.0,7.6,5.4,5.4,4.2,5.3,5.3,7.4,7.4,4.6,4.6,4.6,4.1,5.3,4.8,4.8,4.8,3.4,3.4,5.0,3.1,5.0,5.0,5.0,4.2,4.2,4.2,7.2,7.2,7.2,6.0,6.0,6.0,6.0,6.8,5.5,5.6,5.6,3.1,4.7,4.7,4.7,5.1,5.1,5.3,5.3,3.5,3.5,4.3,4.3,3.1,3.1,5.8,5.8,5.0,5.0,3.3,5.6,5.6,5.6,4.4,6.2,6.2,6.2,6.7,6.7,7.1,7.1,7.1,5.2,5.2,4.1,4.1,4.1,5.0,5.0,5.0,4.9,4.9,4.9,6.3,6.3,6.9,7.3,7.3,2.8,6.3,6.3,6.3,7.9,7.9,7.9,7.0,7.0,7.0,5.4,7.2,7.2,3.0,7.7,7.7,4.8,4.8,4.8,7.7,7.7,7.7,6.5,6.5,6.5,6.4,6.4,6.4,6.4,6.4,6.4,6.4,5.7,5.7,5.7,5.6,6.4,6.4,6.4,8.1,8.1,6.1,7.4,4.8,6.6,6.7,6.7,6.7,7.4,7.4,7.4,6.4,6.4,6.5,6.5,6.5,4.2,5.1,5.1,5.1,6.6,6.6,6.6,5.7,5.7,7.0,7.0,6.3,6.3,6.3,3.6,3.6,6.3,6.3,6.3,3.1,3.1,3.1,5.6,5.6,5.6,5.2,5.2,4.5,4.5,4.5,6.1,6.1,6.2,6.2,6.7,6.6,6.6,6.6,6.6,6.6,6.6,4.6,4.6,4.6,5.4,5.4,6.5,6.5,5.3,5.3,5.3,7.1,6.7,3.8,3.8,3.8,4.3,4.3,4.3,5.5,6.3,6.3,6.3,7.0,7.0,7.0,3.7,3.7,7.3,6.1,5.2,5.2,5.2,3.8,4.8,4.8,5.5,6.8,6.8,6.8,4.5,7.2,7.2,6.4,3.9,3.9,5.2,5.2,5.2,4.4,4.4,4.4,4.5,5.8,5.8,5.8,4.2,4.2,4.2,3.8,3.8,3.8,6.4,6.4,7.0,7.0,5.1,6.1,6.1,6.1,5.4,6.6,6.6,4.4,4.4,4.4,5.0,5.0,5.0,6.6,7.6,4.0,4.8,4.8,7.8,7.8,7.8,5.8,5.8,5.8,4.0,4.0,4.6,4.6,4.6,3.2,3.2,6.3,6.3,6.4,6.4,6.4,4.8,4.8,4.8,7.0,5.4,5.4,5.4,6.8,6.8,7.9,7.9,7.0,7.0,7.0,4.6,4.6,4.6,6.7,6.7,5.8,4.0,4.0,4.0,6.8,6.8,4.0,4.0,4.0,6.5,6.5,6.5,5.0,5.0,5.0,4.5,4.5,4.5,3.3,3.3,3.3,4.2,4.2,4.2,3.6,3.6,3.6,6.9,6.9,6.9,6.4,6.4,6.4,6.6,6.6,6.6,6.7,6.7,6.7,5.4,5.4,4.7,6.8,6.8,6.8,7.3,7.3,5.0,6.9,6.9,6.9,3.3,3.3,3.3,5.5,6.6,4.7,6.2,6.2,6.2,4.6,4.6,4.6,5.8,5.8,5.8,4.6,4.6,4.6,4.5,4.5,4.5,6.6,6.6,6.5,6.5,7.8,7.8,3.6,3.6,5.9,5.9,7.1,7.1,6.3,6.3,6.4,6.4,6.6,6.6,6.6,5.7,5.7,5.7,5.2,5.2,5.2,7.1,7.1,5.1,5.1,5.1,3.1,5.6,5.6,5.6,7.7,7.7,7.7,6.9,6.9,6.9,7.8,6.0,6.0,6.1,6.1,6.1,3.6,4.6,4.6,4.6,4.6,6.2,6.2,6.2,2.9,2.9,2.9,7.2,7.2,5.9,4.1,4.1,7.0,7.0,7.0,7.0,5.7,5.7,8.0,8.0,6.6,5.0,5.0,5.0,6.6,6.6,4.1,4.1,4.1,6.9,6.9,6.6,6.6,6.6,5.3,5.3,5.3,4.4,4.4,4.2,4.2,6.4,6.4,6.4,5.8,6.5,6.5,3.7,3.7,3.7,6.7,6.7,6.9,6.4,6.4,6.4,5.3,5.3,5.3,5.0,5.0,6.9,6.9,6.9,6.3,6.3,6.6,5.0,5.0,5.0,7.7,7.7,7.7,5.5,7.0,5.6,5.1,5.1,5.3,5.3,5.8,5.8,5.8,4.8,4.8,4.8,3.6,3.6,3.6,6.7,6.7,5.9,5.9,4.6,4.6,4.6,6.4,6.4,6.4,3.8,3.8,3.8,6.9,6.8,6.6,6.6,6.6,3.7,3.7,3.7,7.0,7.0,7.0,7.5,7.5,7.5,5.5,5.9,6.4,6.4,6.4,6.2,6.2,6.2,6.7,6.7,6.5,6.3,7.8,7.8,3.8,3.8,3.8,7.9,4.8,4.8,6.2,6.2,6.2,6.1,6.1,6.1,4.3,5.4,5.4,3.7,4.0,4.0,4.0,4.7,4.7,6.5,6.5,6.5,6.6,7.0,7.0,6.8,6.8,6.8,6.6,6.6,6.1,8.2,8.2,8.2,4.4,6.5,4.9,4.9,4.9,7.5,7.5,7.5,2.8,2.8,4.2,6.9,6.9,6.9,4.4,6.6,6.6,6.6,6.6,6.6,4.9,5.4,5.4,6.2,5.6,5.6,5.6,8.1,8.1,6.6,6.6,7.0,7.0,7.3,6.9,6.9,6.9,8.7,8.7,5.9,7.1,7.1,7.1,8.3,8.3,7.6,7.6,7.6,7.1,7.1,7.9,7.9,7.9,4.8,4.8,4.8,6.2,6.2,5.0,7.2,7.2,7.2,5.4,5.4,5.3,5.3,5.3,7.2,7.2,7.2,6.7,6.7,4.4,4.4,4.4,8.1,8.1,8.1,6.8,6.8,6.8,6.8,6.8,6.1,6.1,8.2,8.2,8.2,5.1,5.1,5.1,6.8,6.8,5.5,5.5,5.0,5.0,5.0,6.4,6.4,6.4,4.3,4.3,5.3,5.3,5.3,6.3,6.3,8.3,6.1,4.4,4.4,7.3,7.3,7.0,7.0,6.1,6.1,6.1,7.2,7.2,7.2,7.1,7.1,7.1,6.4,6.4,6.4,5.3,6.9,6.9,5.6,5.8,5.8,5.8,3.9,5.8,5.8,5.8,3.4,3.4,3.4,4.8,4.8,4.8,7.1,4.1,4.1,4.1,7.2,7.2,7.2,8.0,8.0,5.5,6.5,6.5,8.0,7.5,7.5,5.6,5.6,5.6,7.3,7.3,7.3,7.0,7.9,7.9,4.9,7.1,7.7,7.7,4.9,4.9,4.9,6.3,7.4,6.3,6.9,6.9,6.6,6.4,6.4,6.4,4.5,4.5,7.3,7.3,7.3,6.6,6.6,6.6,6.3,6.3,6.3,7.2,7.2,7.3,7.3,5.5,7.1,4.4,5.2,5.2,6.7,3.4,7.4,7.4,6.6,6.6,6.6,6.7,6.7,6.8,6.8,6.6,6.6,6.6,5.4,5.4,5.4,5.7,7.4,7.4,7.4,3.5,3.5,3.5,6.2,6.2,6.8,5.3,5.3,5.3,6.5,6.5,6.0,6.0,5.6,5.6,6.2,6.2,6.2,6.8,6.8,6.8,6.1,6.1,6.8,6.8,6.8,7.3,7.5,6.1,6.1,6.1,7.6,7.6,7.6,6.5,8.2,8.2,7.2,7.2,7.2,3.6,3.6,3.6,5.2,5.2,5.2,4.3,4.3,6.8,6.8,6.8,6.8,6.8,5.2,5.2,5.2,4.3,4.3,5.3,5.3,5.3,6.3,6.3,6.2,6.2,7.9,7.9,8.2,8.2,8.2,6.9,7.0,7.0,4.4,4.4,4.4,7.0,7.0,7.1,7.1,7.1,3.4,3.4,3.4,6.7,6.7,4.9,4.9,6.3,6.3,6.3,5.2,5.2,7.6,7.6,3.7,4.8,9.3,6.5,6.5,6.5,4.3,7.5,7.5,7.5,7.3,7.3,5.4,5.4,8.8,4.3,5.4,5.4,5.4,5.6,2.9,2.9,6.0,6.0,5.9,6.4,8.2,8.2,6.9,6.9,6.9,5.3,5.3,3.8,4.3,4.3,4.3,6.0,6.0,6.0,4.2,6.5,6.5,6.5,7.2,7.4,7.4,4.2,4.8,5.9,5.9,6.4,4.5,4.5,4.5,6.5,5.7,5.7,5.7,6.0,6.0,6.0,6.0,6.0,7.2,7.9,7.9,7.9,5.9,6.2,6.2,6.2,5.1,5.1,5.1,6.2,6.2,6.2,7.3,7.3,7.3,8.7,3.6,7.0,7.0,6.2,6.2,5.1,6.4,6.4,6.2,5.5,5.5,5.5,7.6,7.2,7.2,7.2,7.2,7.2,7.2,5.0,5.0,7.1,5.7,5.7,5.7,8.8,6.4,6.4,6.4,2.1,8.3,8.3,6.4,6.4,6.4,5.1,5.1,5.1,5.4,5.4,5.4,6.9,6.9,6.9,4.9,4.9,4.9,4.2,4.2,4.2,5.2,5.2,5.2,4.8,4.8,2.1,2.1,2.1,5.7,5.7,5.7,6.1,7.3,7.0,6.2,6.0,6.0,6.0,6.4,6.4,6.4,5.3,5.3,5.3,6.2,6.2,7.2,7.2,7.2,6.1,3.2,3.2,3.2,6.4,5.1,5.1,6.8,6.8,6.8,7.3,7.3,7.3,3.2,3.2,6.6,6.6,6.6,7.3,7.3,7.3,6.4,6.4,6.4,6.3,6.5,6.5,6.5,7.7,7.7,7.7,7.5,7.5,7.5,6.7,6.7,6.7,7.1,7.1,7.3,4.8,5.9,5.9,6.9,6.9,6.9,8.0,8.0,2.7,2.7,2.7,2.7,2.7,2.7,6.1,6.1,6.1,6.3,6.3,6.3,8.2,6.2,6.2,3.3,3.5,3.5,3.5,5.0,5.0,5.0,6.7,6.7,7.0,7.0,7.0,4.9,4.9,4.9,6.7,6.7,6.3,6.3,6.3,3.6,3.6,3.6,6.0,5.8,5.8,5.8,8.0,8.0,4.5,4.5,4.5,6.9,5.4,5.4,4.4,4.4,4.4,5.4,5.4,6.7,6.2,7.8,7.8,7.8,7.6,7.6,7.4,7.4,7.4,4.7,4.8,4.8,6.0,6.0,6.0,2.5,4.3,4.3,4.6,4.6,7.1,6.6,6.1,6.1,6.1,5.9,7.7,6.4,6.4,7.2,7.4,7.4,5.5,4.7,5.7,7.1,7.1,7.6,7.6,7.1,8.8,6.0,6.5,6.5,6.5,6.5,6.5,6.3,6.8,6.7,6.7,6.7,7.3,7.3,7.3,7.4,7.4,7.4,9.3,5.3,5.3,5.3,7.2,7.2,7.2,7.7,8.0,8.0,8.0,2.7,2.7,4.2,2.3,7.3,5.6,5.6,6.8,6.9,6.9,6.9,8.1,7.5,5.6,4.3,4.3,3.6,6.0,6.0,6.0,7.2,6.1,6.1,3.2,4.2,6.7,6.7,6.1,7.2,7.2,7.2,5.1,5.1,5.1,4.8,4.8,4.8,7.2,7.2,7.2,7.1,7.1,5.8,5.8,7.9,6.2,6.2,7.7,7.7,7.7,7.1,7.1,7.1,6.1,6.1,6.1,7.6,7.6,7.6,5.9,5.9,5.6,5.6,5.6,4.5,4.5,5.1,5.1,4.9,4.9,4.9,5.9,5.9,5.9,3.7,6.0,6.2,6.2,6.8,6.8,6.8,5.6,5.6,5.9,5.9,5.9,5.6,5.6,5.6,8.1,8.1,8.1,4.9,5.1,5.1,6.0,6.0,6.0,4.7,4.7,4.7,7.3,7.3,7.7,7.7,7.7,5.4,5.4,6.3,6.3,6.9,6.9,6.9,3.7,5.9,5.9,5.9,3.7,3.7,3.7,6.8,6.8,6.5,6.5,6.5,7.1,7.1,7.1,6.8,6.8,7.2,7.2,7.2,7.5,7.5,2.8,6.0,6.3,6.3,7.0,8.0,8.0,8.0,6.9,6.9,6.8,6.8,7.3,7.3,4.8,3.1,3.1,3.1,4.8,4.8,4.8,3.9,3.9,5.6,7.1,7.1,7.1,5.1,5.1,3.9,3.9,3.9,5.6,5.6,5.6,5.6,5.9,2.8,2.8,2.8,6.9,6.9,3.7,3.7,4.6,4.6,4.6,7.0,7.0,6.8,6.8,6.8,4.4,4.4,4.4,7.3,7.3,5.3,5.3,6.1,6.1,6.2,6.2,6.8,6.8,6.8,6.3,6.3,6.3,5.4,5.4,3.6,3.6,3.6,6.3,6.3,6.6,6.6,4.4,4.4,4.8,4.8,5.8,6.8,6.8,6.8,7.6,7.6,5.1,5.1,4.4,4.4,5.6,5.6,4.9,6.3,5.5,5.5,5.5,5.2,6.7,6.7,6.7,6.1,6.1,6.1,7.0,7.0,7.3,7.3,4.0,4.0,5.2,5.2,5.2,8.2,8.2,8.2,3.6,4.1,4.1,4.1,6.7,5.4,5.4,8.3,8.3,2.5,6.0,6.0,6.0,6.5,6.5,6.5,4.6,5.6,5.6,6.1,6.1,6.1,4.3,4.3,8.7,6.0,6.0,6.0,4.4,5.1,5.1,4.9,4.9,3.8,5.7,5.7,5.7,3.2,3.2,6.0,6.0,5.8,4.6,7.8,7.8,7.8,5.3,5.3,5.3,7.1,7.1,7.1,7.5,7.5,7.5,4.6,4.6,4.6,4.6,6.2,5.5,5.1,6.0,6.0,6.0,6.2,6.2,6.8,4.9,4.9,4.9,5.7,5.7,5.7,6.6,6.6,6.6,6.8,5.8,5.8,5.8,7.6,7.6,7.6,4.3,4.3,4.3,6.6,6.6,4.3,3.4,4.9,6.4,6.2,6.2,6.2,7.6,7.6,4.7,4.7,6.2,6.1,6.1,6.1,5.9,4.9,4.9,4.9,7.0,4.8,5.0,7.1,7.1,7.3,7.3,7.3,5.3,5.3,5.3,6.5,6.5,6.5,5.8,5.8,5.8,6.5,6.5,6.5,4.0,2.5,2.5,2.5,5.4,5.4,5.4,6.6,6.6,6.6,6.3,6.3,6.3,6.5,7.1,7.2,8.0,8.0,8.0,7.8,6.7,4.6,4.6,4.6,5.6,5.6,5.6,7.4,7.5,7.5,5.0,5.0,5.0,6.5,6.5,6.5,7.0,3.8,3.8,3.8,6.4,4.4,7.5,7.5,7.5,4.5,4.5,4.5,6.2,6.2,6.9,5.7,5.7,5.7,3.8,3.8,3.8,6.0,4.5,5.1,5.1,3.9,7.6,5.9,6.2,5.5,5.5,5.5,7.1,4.1,6.9,5.8,5.8,5.7,5.7,5.7,7.0,7.0,8.2,6.2,6.2,6.2,6.7,6.7,6.7,8.5,8.5,8.5,7.4,7.4,6.6,6.6,6.6,8.6,5.4,5.4,6.7,6.7,6.7,4.1,4.1,4.1,7.1,7.1,6.2,6.2,5.0,5.0,5.0,3.7,3.7,3.7,5.7,5.7,5.7,6.5,7.7,7.7,7.7,6.5,6.6,6.6,6.6,7.1,7.1,7.1,5.5,5.5,5.5,4.8,4.7,4.7,4.7,6.3,6.3,5.5,5.5,6.1,6.1,6.1,7.9,6.0,4.8,6.1,5.2,5.2,5.2,6.4,6.4,7.0,7.0,7.0,4.5,4.5,4.5,6.9,6.9,6.5,6.5,6.5,6.0,6.0,6.0,6.7,4.6,4.6,4.6,6.8,6.8,6.8,5.6,5.6,5.6,5.1,5.1,2.3,2.3,4.2,4.2,4.2,8.0,8.0,8.0,7.9,7.9,7.9,2.9,5.1,5.1,5.1,6.4,7.5,7.6,7.6,6.9,6.9,6.9,6.9,5.2,5.2,5.2,5.7,5.7,5.7,6.3,6.3,6.3,6.2,6.2,6.2,3.9,3.9,3.9,6.5,6.5,6.5,7.6,7.3,7.2,7.2,7.2,6.7,6.7,2.6,7.0,7.0,7.0,7.6,7.6,7.6,7.4,7.4,7.4,5.4,5.4,6.6,6.6,6.6,6.8,7.8,6.9,6.9,6.9,3.6,3.6,5.0,5.0,5.0,6.0,6.1,6.1,6.1,4.8,6.8,6.8,6.2,6.2,6.2,6.1,6.1,5.4,5.4,5.4,5.4,5.4,5.4,4.1,4.1,4.1,7.3,7.3,7.3,5.8,5.8,5.8,3.4,3.4,3.4,4.5,5.7,5.7,5.7,4.2,6.8,6.8,6.8,5.6,4.2,4.2,4.2,6.5,6.5,7.0,7.0,7.7,7.7,7.7,7.0,6.8,6.8,6.8,7.2,7.2,5.7,5.7,5.7,3.4,3.4,3.4,4.1,4.1,4.1,7.9,7.8,3.5,5.5,5.5,3.9,3.9,3.9,6.8,6.8,6.8,5.8,6.1,6.1,4.0,4.0,4.0,7.7,4.1,4.1,4.5,8.6,5.9,5.9,5.8,5.8,5.8,7.4,7.4,7.4,7.9,7.9,4.7,5.6,5.6,5.6,8.2,8.2,8.2,5.6,5.6,5.6,6.8,4.2,6.8,6.8,6.8,6.4,6.4,6.4,3.8,4.6,4.6,4.6,4.9,4.7,4.7,6.1,6.1,7.0,7.0,7.0,6.1,6.1,8.6,6.5,5.9,6.8,6.8,4.4,4.4,4.4,6.0,6.0,6.6,6.6,5.7,5.7,8.0,8.0,8.0,7.0,7.0,6.6,6.6,6.6,7.0,7.5,7.5,7.5,4.0,4.0,4.0,4.3,4.3,4.3,5.5,5.5,5.5,4.7,4.7,4.7,6.8,6.4,6.4,6.4,6.8,6.8,6.7,5.0,5.0,5.0,4.7,4.8,4.6,6.7,6.8,6.8,6.8,7.6,7.6,6.9,4.0,4.0,4.0,4.3,4.3,4.3,4.1,8.3,6.9,7.1,7.1,7.1,8.1,6.7,6.7,5.6,5.6,5.6,8.0,6.5,6.5,6.5,5.3,5.3,5.3,7.1,7.1,4.5,4.9,4.9,4.9,5.4,5.4,8.0,8.0,8.0,5.9,1.7,1.7,1.7,6.8,3.9,3.9,3.9,6.5,6.4,6.8,6.8,6.8,5.7,5.7,5.7,5.8,3.8,6.1,6.1,6.1,7.5,7.7,7.7,6.0,6.0,6.0,6.2,3.1,7.6,7.6,7.6,6.8,6.8,6.8,6.8,6.8,7.4,7.4,5.1,5.1,6.3,8.3,8.3,7.1,7.1,8.3,8.3,4.6,4.6,5.7,5.7,5.7,6.2,5.5,6.5,6.5,6.5,5.2,5.2,5.2,5.7,5.7,5.7,3.7,5.5,5.5,5.5,4.7,4.7,4.7,6.6,6.1,6.1,8.3,8.3,6.7,6.7,4.6,4.6,4.6,8.4,8.4,8.4,5.3,5.6,5.6,5.6,6.4,6.4,6.4,7.2,6.7,6.7,6.7,7.5,7.5,7.5,6.6,6.6,6.6,7.1,7.1,7.1,6.8,4.6,4.0,4.0,4.0,6.0,6.0,7.8,7.8,6.8,6.5,7.5,7.5,3.9,3.9,3.9,7.3,7.3,7.3,4.8,4.8,4.8,5.8,7.4,6.5,6.5,6.9,6.9,6.9,4.7,6.1,6.1,6.5,6.5,6.5,4.2,4.2,4.2,6.5,6.5,6.5,4.5,4.5,5.8,5.8,5.8,7.7,7.7,7.7,4.8,4.8,4.8,5.0,5.0,5.4,5.4,5.4,7.0,7.0,7.0,5.3,5.3,7.1,7.4,7.4,3.1,6.1,6.8,6.8,5.3,4.9,2.4,2.4,6.8,6.8,6.8,8.3,8.3,8.3,5.4,5.4,5.4,3.7,3.7,3.7,6.7,7.4,7.4,6.8,6.8,5.8,5.8,5.8,2.3,2.3,2.3,3.5,3.5,3.5,7.3,6.9,6.9,6.9,6.3,6.3,6.3,5.9,7.0,7.0,7.0,5.6,7.7,7.7,4.2,4.2,4.2,6.2,6.2,6.2,5.3,5.3,5.3,5.7,5.7,5.7,7.9,7.9,7.9,7.1,7.1,7.1,6.5,9.0,9.0,4.0,4.0,4.0,6.2,5.4,5.4,6.6,6.6,6.6,6.6,6.6,6.6,6.7,6.7,6.7,2.9,2.9,2.9,6.5,4.8,4.8,4.8,7.7,6.8,5.3,5.6,5.6,5.6,6.2,6.2,3.1,3.1,3.1,5.7,5.7,5.7,5.1,5.1,5.1,7.3,7.3,7.3,6.9,6.1,6.1,8.3,8.3,6.8,6.8,6.8,4.4,4.4,4.4,4.6,4.6,4.6,6.2,6.2,6.2,6.5,7.0,7.0,7.0,7.0,7.0,4.8,4.8,4.8,6.0,6.0,3.9,3.1,3.1,5.1,5.1,4.5,4.5,4.5,7.1,6.1,6.1,6.1,6.3,6.3,6.3,6.2,6.2,6.2,4.8,4.8,4.8,3.0,3.0,3.0,6.5,6.5,5.0,5.0,5.0,4.8,7.2,7.2,6.4,6.4,6.4,3.8,3.8,7.7,4.9,4.9,6.2,6.2,6.2,7.4,6.3,5.5,5.5,5.5,5.3,5.3,4.7,4.7,3.9,3.9,3.9,3.8,5.0,5.0,5.0,4.9,4.9,3.3,3.3,3.3,7.0,4.0,4.0,4.0,7.8,7.8,6.7,6.1,6.1,6.1,6.6,6.6,2.6,2.6,2.6,3.9,3.9,3.9,3.7,8.4,8.4,8.4,3.9,3.9,3.9,5.7,5.7,7.0,8.3,5.4,5.4,5.4,7.5,6.1,6.1,7.0,5.2,5.1,6.5,5.6,3.8,3.8,3.8,7.2,6.3,5.4,7.7,7.7,7.7,7.1,7.1,7.8,7.8,7.8,4.9,4.9,6.0,4.3,5.3,5.3,5.3,6.4,6.4,3.8,3.8,6.9,6.9,6.9,4.7,4.7,7.1,6.8,6.8,6.8,7.8,7.8,7.4,5.9,5.9,5.9,6.1,6.1,6.1,5.7,5.7,5.7,6.2,6.2,6.2,7.2,6.5,6.5,6.5,8.1,7.3,7.2,7.2,5.5,5.5,5.5,6.6,6.6,6.6,4.1,4.1,4.1,6.4,6.4,6.3,6.3,6.3,6.3,5.8,5.8,7.8,6.6,6.6,7.5,7.5,7.5,7.1,7.1,7.1,4.3,4.3,7.6,7.6,4.6,4.6,6.5,6.5,6.5,8.1,8.1,8.1,6.9,6.9,6.9,2.4,2.4,2.4,6.7,6.7,5.7,5.7,5.7,5.0,5.0,4.7,4.7,5.3,5.3,5.3,6.6,6.6,6.6,6.4,4.5,4.5,4.5,7.4,7.4,6.1,5.6,5.6,5.9,7.6,7.6,7.6,6.2,6.2,5.6,5.6,5.6,6.1,5.9,3.1,3.1,3.1,6.2,6.2,6.2,4.9,5.5,1.4,1.4,6.0,6.0,6.0,3.6,3.6,3.6,5.7,5.7,4.0,6.4,7.7,7.7,7.7,6.2,6.2,6.2,6.9,8.0,8.0,4.2,7.2,7.2,7.2,7.1,7.1,7.6,7.6,7.6,6.2,6.2,7.9,7.9,7.9,6.6,6.6,6.6,7.8,5.8,5.8,5.8,5.2,2.6,2.6,2.6,5.7,5.7,3.5,5.5,3.7,3.7,5.1,5.1,4.5,4.5,6.5,6.5,4.4,4.4,4.4,7.3,7.3,7.3,5.4,5.4,5.4,6.5,5.0,5.0,3.4,3.4,3.4,7.3,7.3,7.3,4.3,4.3,4.4,6.0,6.0,3.5,3.5,6.3,6.7,6.7,6.7,7.0,7.0,5.8,5.8,5.8,5.8,5.8,6.7,6.7,6.7,7.3,7.0,7.0,7.0,6.4,6.4,7.8,7.8,7.0,7.0,6.5,7.0,6.2,6.2,6.2,6.3,6.3,6.3,6.3,6.3,4.5,4.5,4.5,6.7,6.7,6.7,6.7,6.5,6.5,6.5,5.4,5.4,5.4,3.4,3.4,3.4,5.6,5.6,7.2,4.5,8.1,8.1,7.2,6.9,6.9,6.9,7.2,7.2,7.2,2.4,2.4,2.4,8.9,8.9,8.9,6.1,6.1,6.1,6.1,6.1,3.6,7.6,7.6,7.0,6.7,6.7,6.7,5.0,5.0,5.5,5.5,5.5,6.1,6.6,6.6,6.6,4.6,4.6,4.6,8.1,8.1,8.1,7.0,7.0,6.9,6.9,6.9,6.2,6.2,6.4,6.4,6.4,3.5,3.5,3.5,7.0,7.0,7.0,6.7,6.7,6.7,3.1,3.1,3.1,7.3,7.3,7.3,5.3,5.3,7.1,7.1,7.1,5.1,5.1,4.6,4.6,5.3,3.7,3.7,5.7,5.7,4.8,4.8,4.8,5.3,5.3,5.3,5.7,5.7,4.9,4.9,5.3,5.3,5.1,5.1,5.1,5.2,5.2,4.4,4.4,7.0,7.0,4.8,4.8,5.0,5.0,7.6,7.6,5.1,5.1,5.1,7.0,7.0,5.0,5.0,7.0,7.0,7.0,5.8,5.8,5.8,6.5,6.5,5.0,5.3,5.3,5.3,5.5,3.8,3.8,4.5,4.5,4.5,6.7,5.1,5.1,5.8,5.8,5.8,7.4,7.4,5.3,5.3,5.3,6.3,6.3,6.3,3.7,3.7,7.1,7.1,7.1,3.7,3.7,3.7,5.7,5.7,5.7,5.1,5.1,5.1,8.1,8.1,7.2,4.0,4.0,4.0,2.5,6.4,6.4,6.4,7.0,7.0,7.0,5.2,5.2,5.1,5.1,5.1,5.7,5.7,3.8,3.8,6.9,6.9,6.9,8.4,8.4,8.4,7.0,7.0,7.0,6.2,6.2,6.2,8.4,6.3,6.3,5.3,6.0,6.0,7.5,7.5,7.2,7.2,6.1,6.1,6.1,6.5,6.5,6.5,3.6,3.6,6.5,6.5,6.5,7.1,7.1,7.1,7.2,7.2,3.8,6.0,6.0,6.7,6.7,6.7,5.7,5.7,4.4,4.4,7.0,7.0,6.3,3.3,7.1,7.1,7.1,6.4,7.1,3.7,3.7,3.2,3.2,6.5,7.2,7.2,6.4,6.4,4.5,4.5,5.4,5.4,4.9,4.9,7.2,7.2,7.2,7.8,7.8,7.8,7.1,7.1,7.1,4.7,4.7,3.9,3.9,3.9,6.7,6.7,6.7,4.6,4.6,4.6,4.0,8.2,8.2,7.7,6.0,6.2,6.2,7.0,7.0,7.0,6.9,6.9,7.9,5.3,5.3,5.3,7.0,5.2,8.4,8.4,8.4,5.7,5.7,3.3,5.5,5.5,4.2,3.8,3.8,3.8,8.2,7.0,6.0,6.8,6.8,6.8,3.8,1.9,5.3,8.1,8.1,7.0,7.0,6.2,6.2,6.2,5.2,7.1,8.2,8.2,8.2,3.5,3.5,3.5,7.6,7.6,5.9,5.9,5.9,4.6,6.5,6.5,5.2,6.5,6.5,7.1,7.1,7.1,4.2,4.2,4.2,5.1,5.1,5.1,6.7,6.7,6.7,5.1,5.1,5.1,7.9,7.9,7.9,6.6,5.6,5.6,5.6,7.5,7.5,7.5,6.2,6.2,6.2,7.0,7.0,7.0,7.0,6.9,6.3,6.3,3.7,3.7,5.6,5.6,5.6,6.5,6.2,6.2,6.2,4.6,3.8,3.8,5.7,6.6,6.6,6.6,5.6,5.6,5.6,6.9,6.9,6.9,6.9,6.9,5.4,5.4,7.1,4.0,5.0,5.0,4.9,4.9,4.9,7.1,7.0,7.0,7.0,6.1,6.1,6.1,7.7,7.7,7.7,4.3,7.4,7.4,4.5,4.5,7.4,7.4,4.7,4.7,4.7,7.2,7.2,7.2,5.6,5.6,6.8,6.8,6.8,6.5,6.5,7.8,7.7,5.2,5.2,5.2,5.7,6.7,6.3,6.3,6.6,6.6,5.5,5.5,6.7,7.0,7.0,7.0,6.3,8.5,4.7,4.7,7.1,7.3,7.3,7.3,2.9,6.6,3.8,6.4,6.4,6.4,3.9,7.1,8.3,8.3,7.5,7.5,7.5,6.4,7.2,2.5,5.4,5.4,5.4,7.5,7.5,7.5,5.8,5.8,5.8,3.4,7.0,7.0,6.5,6.5,6.3,6.3,6.3,5.7,5.7,5.7,6.5,6.5,5.7,5.7,5.5,5.5,5.5,6.9,5.7,5.7,5.7,6.1,4.0,4.0,4.0,6.8,6.8,6.8,3.7,3.7,3.7,6.9,6.8,6.8,6.8,6.6,6.6,6.6,5.8,5.8,5.8,6.8,7.3,7.3,7.3,8.2,8.2,4.9,4.9,4.9,7.0,7.0,7.0,4.4,4.4,4.3,4.3,4.3,6.6,6.6,5.7,6.9,4.0,4.0,3.9,3.9,5.5,5.5,5.5,5.7,5.7,5.7,6.9,4.4,5.2,5.2,4.7,4.7,4.7,6.9,5.9,5.9,5.7,6.0,6.1,6.1,6.1,5.8,8.0,8.0,8.0,5.3,5.3,5.3,6.0,6.0,6.0,4.4,4.4,6.2,4.2,4.2,4.2,6.5,6.5,5.7,5.7,5.7,6.1,6.1,6.1,6.1,7.8,7.8,7.8,4.3,4.3,4.3,6.2,6.2,6.2,7.1,5.9,5.9,5.9,4.7,4.7,4.7,3.4,3.4,3.4,4.6,4.6,4.5,4.5,5.3,5.3,7.3,7.3,7.3,6.5,6.5,6.5,6.0,6.0,6.0,7.1,7.1,7.1,8.4,8.4,5.6,5.6,5.6,4.9,7.0,7.0,7.0,7.2,7.2,7.2,6.9,6.9,6.9,6.1,6.1,4.5,4.5,4.7,4.7,4.7,4.1,4.1,5.1,5.1,6.2,6.2,6.2,4.3,8.0,8.0,6.9,6.9,5.6,5.6,5.6,4.6,4.6,6.2,6.2,6.6,5.7,5.7,5.7,5.4,6.2,6.2,6.2,5.5,5.5,5.5,6.4,6.4,6.4,5.8,5.8,4.7,4.7,5.5,5.5,5.5,6.1,6.1,6.1,3.3,3.3,5.5,5.5,5.8,5.8,5.8,5.1,7.3,6.9,5.7,5.7,5.7,7.4,7.4,7.4,4.4,4.4,7.2,7.2,7.7,7.7,6.8,4.4,6.2,6.2,7.0,7.0,4.8,5.3,5.3,5.3,5.4,5.4,6.1,6.1,6.1,6.0,5.1,5.1,5.1,8.3,8.3,6.0,6.3,3.4,3.4,3.4,7.5,7.5,7.5,5.0,5.0,5.3,5.3,5.3,6.5,6.5,6.5,6.2,6.2,6.2,6.4,7.5,4.6,4.6,4.6,4.7,5.2,5.2,5.2,4.3,4.3,4.9,4.9,4.9,4.9,6.8,6.6,6.6,6.6,6.5,6.5,6.5,7.1,2.8,2.8,2.8,5.2,5.2,5.4,5.4,4.7,4.7,6.9,6.9,6.9,8.3,8.3,8.3,6.5,7.2,7.2,7.2,3.1,6.2,8.3,6.0,6.0,5.8,5.8,5.8,7.1,7.1,7.1,4.8,7.2,7.2,7.2,4.6,4.6,4.6,7.2,3.7,3.7,5.3,5.3,5.3,5.0,5.0,3.5,5.1,5.1,5.1,7.3,7.1,4.5,4.5,4.5,6.5,6.5,6.5,5.0,5.0,5.0,5.1,5.1,5.1,5.2,5.2,5.2,5.3,5.3,5.3,6.5,6.5,7.1,5.8,8.0,8.0,8.0,2.5,2.5,2.5,7.3,7.3,7.3,4.6,7.6,7.6,7.6,7.6,7.6,6.1,6.1,6.1,3.6,3.6,5.2,4.7,4.7,4.7,6.4,5.4,5.4,5.7,4.6,4.6,4.6,7.8,7.8,7.8,7.3,7.3,8.2,8.2,8.2,7.1,7.1,7.1,5.3,5.3,5.3,6.8,6.8,6.8,4.5,7.3,5.8,5.8,5.8,6.7,3.4,3.4,7.4,7.4,7.4,8.1,7.3,7.0,6.5,6.5,3.5,3.5,3.5,8.8,6.0,6.0,6.0,2.7,5.6,4.2,4.2,4.2,5.9,6.9,6.9,6.9,6.0,6.8,6.8,5.4,5.4,5.4,6.1,6.1,6.1,6.7,5.3,5.3,4.9,4.9,4.9,6.1,6.1,7.3,7.3,7.3,5.8,5.8,5.8,7.0,7.0,5.8,5.8,4.4,4.4,4.4,7.1,5.5,4.9,4.9,7.6,7.6,4.0,4.0,6.0,5.8,5.8,5.9,6.6,6.6,6.6,5.7,5.7,4.7,4.7,4.7,7.1,7.1,7.1,6.9,6.9,4.6,6.7,6.7,7.4,7.4,6.9,6.9,7.6,7.6,7.6,6.3,6.3,6.3,6.8,6.8,6.8,5.4,5.4,9.4,9.4,5.5,5.4,5.4,5.4,2.3,5.0,5.0,4.3,4.3,7.3,7.3,7.3,6.2,6.2,6.6,6.6,6.6,6.6,6.6,7.2,7.2,6.3,6.3,4.9,6.8,5.7,5.7,5.7,5.6,5.6,3.2,2.1,5.6,2.7,2.7,2.7,6.7,6.7,6.7,8.1,8.1,9.3,3.6,3.6,3.6,7.0,7.1,6.7,6.7,6.7,7.3,7.3,7.3,6.3,6.3,6.3,5.9,5.9,5.9,5.5,5.5,5.0,5.0,5.0,5.1,5.1,5.1,7.4,7.4,7.4,7.0,7.0,3.8,3.8,6.9,6.4,6.4,6.4,5.8,5.8,5.8,7.6,7.6,7.0,7.0,7.0,6.9,7.0,7.0,7.0,5.5,5.5,5.5,5.9,5.9,7.4,5.0,5.0,5.0,4.9,4.9,4.9,7.4,7.4,6.7,6.7,6.7,6.1,5.1,5.1,6.8,6.8,4.4,4.4,4.4,3.6,3.6,3.6,5.7,6.9,6.9,7.2,7.2,7.2,4.2,4.2,4.7,5.3,5.3,4.2,4.2,6.7,5.4,8.4,8.4,8.4,5.4,5.4,2.4,2.4,2.4,6.1,6.1,8.1,8.1,8.1,7.5,6.3,6.3,8.0,8.0,8.0,7.0,7.0,7.0,3.7,3.7,7.8,7.8,7.8,6.9,6.9,6.2,6.2,6.2,4.7,4.7,3.3,3.3,3.3,5.6,5.8,5.1,4.9,6.7,6.7,6.7,7.3,7.3,7.3,4.2,2.4,2.4,2.4,4.1,7.6,7.6,7.6,5.3,5.3,5.3,6.8,3.5,3.5,7.3,7.3,7.3,6.5,6.5,5.5,6.7,6.7,6.7,5.6,7.7,7.1,7.1,2.7,6.0,6.0,4.9,4.9,4.9,6.6,6.7,6.7,6.7,7.5,7.5,5.8,3.4,3.4,3.7,3.7,3.7,7.6,7.6,7.6,5.7,6.3,6.3,6.2,6.9,6.9,6.9,5.4,5.4,5.4,4.2,4.2,4.2,7.3,7.3,7.3,5.8,5.8,5.8,4.3,5.3,5.3,4.9,8.4,6.1,2.5,8.1,8.1,8.1,5.3,5.3,4.9,4.9,4.9,6.1,6.1,6.1,7.1,7.1,7.1,6.8,6.8,6.8,4.4,4.4,9.7,9.7,7.4,7.4,7.4,7.2,7.2,6.1,6.1,7.9,7.9,6.4,6.7,5.6,5.6,5.6,7.8,7.5,7.5,7.5,6.7,6.7,5.3,5.3,5.3,7.8,7.1,7.1,7.1,6.4,6.4,6.7,6.7,6.0,6.0,6.0,8.5,8.5,7.7,7.6,5.7,7.6,5.4,5.4,7.4,7.4,7.4,6.5,6.5,5.4,5.4,5.9,5.9,3.2,3.2,5.0,5.0,5.0,4.5,7.8,7.8,7.8,4.6,4.6,4.6,4.6,4.6,4.4,5.2,5.2,5.2,6.6,6.6,6.6,6.4,7.9,6.4,6.4,7.7,7.7,7.7,6.5,6.5,6.5,7.2,7.2,5.5,5.5,5.5,7.5,6.2,6.2,1.9,1.9,1.9,5.7,5.7,6.9,6.9,6.9,6.8,6.8,4.4,6.2,6.2,6.2,6.7,6.7,6.7,5.4,5.4,5.4,4.7,5.3,5.3,4.4,4.4,4.5,4.5,3.3,3.3,3.3,7.9,6.0,6.0,5.6,5.6,5.6,4.2,4.2,4.2,6.9,6.9,6.9,4.1,4.1,4.1,5.6,4.1,6.3,6.3,6.3,6.7,6.2,3.3,3.3,3.3,7.4,7.4,7.4,5.5,5.5,2.7,2.7,2.7,6.2,6.2,6.5,7.1,7.9,5.1,5.1,5.1,7.0,7.0,7.0,5.1,5.1,4.0,4.0,4.0,3.4,5.6,3.3,3.3,4.7,4.7,4.7,5.6,2.7,2.7,6.3,6.3,3.8,3.8,3.8,6.0,6.0,4.3,4.3,6.4,6.4,6.4,6.8,6.8,6.8,8.2,8.2,8.2,5.3,6.7,6.7,6.7,3.5,3.5,3.5,4.8,4.8,4.8,6.2,6.2,6.2,6.2,6.2,6.2,5.5,5.5,5.5,5.1,5.3,5.3,2.9,2.9,2.9,7.9,7.9,7.9,6.3,6.0,6.0,7.5,7.5,4.2,4.2,4.2,5.4,5.4,5.4,7.6,7.6,7.6,3.7,3.7,6.8,6.8,6.8,6.4,6.4,6.4,4.5,4.5,4.5,5.0,5.0,5.0,5.1,5.1,4.5,4.5,4.5,4.3,1.7,1.7,1.7,6.6,6.6,7.9,7.9,6.2,6.2,6.2,5.3,5.9,5.4,5.4,5.4,2.9,2.9,2.9,5.4,5.4,5.4,6.1,6.1,6.1,3.8,3.8,4.3,4.3,4.3,7.4,7.4,5.9,5.9,7.2,7.2,7.0,7.0,3.1,3.1,6.6,6.5,6.5,6.5,5.6,5.6,6.1,6.1,6.1,6.3,6.3,6.3,3.5,4.2,4.7,4.7,4.7,5.2,5.2,5.2,5.1,5.0,5.0,5.0,6.2,6.2,5.8,3.8,3.8,7.6,7.6,7.6,7.1,7.1,5.5,5.8,7.3,7.3,6.4,5.5,5.5,5.3,5.3,5.3,5.0,5.0,5.0,3.5,3.5,3.5,6.9,6.9,6.4,6.1,6.1,4.6,4.6,4.6,7.1,7.1,7.1,7.0,7.0,7.0,6.4,6.4,6.8,6.8,6.8,5.7,5.7,7.5,7.5,7.5,5.8,5.8,5.8,5.7,7.5,7.5,7.5,6.6,6.6,6.6,7.5,7.5,7.5,6.3,6.3,6.3,7.1,6.2,4.8,4.8,4.8,5.5,5.5,5.5,7.4,7.4,7.4,4.2,4.2,4.2,3.6,3.6,3.6,4.4,4.4,4.4,7.2,7.2,7.2,6.5,5.6,5.6,5.6,5.3,5.3,6.5,6.5,5.7,5.7,6.3,6.3,3.5,3.5,3.5,6.0,4.5,4.5,4.5,5.8,2.7,2.7,2.7,7.0,7.0,7.0,4.7,4.7,4.7,4.6,5.9,6.4,6.4,5.3,5.3,5.3,3.6,3.6,3.6,5.4,5.4,7.5,7.5,4.9,4.9,4.9,1.7,6.7,6.7,6.7,5.2,5.2,4.8,4.8,6.9,6.0,6.0,6.0,6.4,6.4,6.4,5.3,6.1,6.1,6.1,1.8,1.8,1.8,7.5,7.5,7.5,7.0,7.0,6.9,6.9,6.9,7.2,7.2,7.2,6.8,5.2,6.1,6.1,6.1,6.8,6.0,6.0,6.5,8.0,8.0,8.0,5.7,5.7,7.2,7.2,8.6,5.4,5.4,5.4,7.3,6.0,5.6,5.6,5.6,3.5,3.4,3.4,4.1,4.1,4.1,4.6,4.6,4.6,6.9,5.4,5.4,5.9,5.9,5.9,4.5,4.5,6.5,3.6,3.6,4.7,4.7,6.0,6.0,6.1,6.1,6.1,9.2,7.4,5.4,5.4,5.4,5.7,5.7,5.3,5.3,5.3,7.4,7.4,7.1,7.1,5.9,7.1,7.1,7.1,7.1,7.1,5.4,5.4,5.4,8.2,8.2,8.2,6.9,6.9,6.9,4.5,4.5,4.5,7.0,3.0,3.0,7.3,6.0,6.0,7.2,7.2,6.0,6.0,6.9,6.9,6.0,6.0,6.0,5.8,5.8,5.8,7.4,5.7,5.7,5.7,4.7,4.7,4.8,4.8,4.2,4.2,4.2,3.9,3.9,5.4,5.4,5.4,6.8,6.8,6.8,6.5,6.5,6.4,6.4,4.6,4.6,4.6,3.0,3.0,3.0,7.4,7.4,7.4,4.6,6.8,6.9,6.9,6.9,6.2,6.2,6.8,6.8,6.8,5.1,5.1,5.1,3.8,3.8,3.8,2.6,2.6,5.0,5.0,6.5,6.5,4.8,4.8,4.8,5.8,8.1,8.1,4.7,4.7,6.3,6.3,6.3,6.7,6.7,5.0,5.4,4.7,6.5,6.5,6.5,2.6,7.3,7.3,3.8,3.8,6.9,6.9,6.9,4.0,3.1,5.8,5.8,6.8,6.8,5.7,5.5,5.5,5.5,6.0,6.0,4.8,4.1,4.1,7.3,7.3,7.3,5.7,5.7,5.7,5.4,5.4,5.4,6.4,7.5,4.4,4.4,4.4,6.7,4.5,4.5,6.7,6.7,7.3,7.3,7.3,6.8,5.0,5.0,3.5,3.5,3.5,6.9,6.9,4.5,4.5,4.5,4.3,7.4,7.4,7.4,4.5,4.5,4.5,7.2,7.2,7.2,7.0,7.0,5.8,5.8,5.0,5.0,5.0,5.3,4.1,4.1,6.5,6.5,6.5,4.2,4.2,7.2,7.2,5.8,5.8,5.8,6.9,4.1,4.1,4.1,7.3,7.3,7.3,4.1,4.1,4.1,5.6,5.9,4.7,6.6,5.3,5.3,5.3,5.9,5.9,4.6,4.8,4.8,8.4,8.4,8.4,2.7,2.7,2.7,3.3,3.3,3.3,3.8,3.8,3.8,4.8,7.5,7.5,7.5,6.5,6.8,6.8,6.8,6.1,6.1,6.1,5.8,5.8,5.8,6.1,6.1,6.1,2.8,2.8,2.8,5.0,5.0,6.0,6.0,6.0,6.3,6.3,6.3,4.2,4.2,5.3,5.3,5.3,6.9,6.9,6.8,6.8,6.8,6.2,6.2,6.7,6.7,5.6,7.9,7.9,7.9,6.5,6.5,4.4,4.4,4.4,7.5,7.5,2.0,2.0,8.1,6.1,6.1,6.6,6.5,6.5,6.5,6.4,6.4,6.4,5.1,5.1,5.1,6.8,6.8,6.8,3.9,3.9,3.9,6.4,6.4,6.1,7.8,5.6,5.6,5.1,5.1,5.2,5.2,7.9,7.9,7.9,5.2,5.2,5.2,5.1,5.1,7.2,3.6,3.6,3.6,6.2,6.2,5.3,3.6,3.6,3.6,5.0,6.2,5.3,5.3,5.6,5.6,5.2,5.2,5.2,5.8,5.8,5.8,6.7,5.7,6.0,6.0,5.7,5.7,7.0,7.1,7.1,7.1,6.6,6.6,7.5,7.5,7.1,7.1,4.0,4.0,4.0,4.0,4.4,4.4,2.9,2.9,2.9,6.2,6.2,6.7,6.7,2.7,4.2,4.2,4.2,5.9,6.2,6.2,6.2,2.8,6.9,6.9,6.9,6.5,6.5,6.5,7.0,7.0,6.0,6.0,6.0,3.9,3.9,3.9,5.8,5.6,5.6,5.6,6.6,6.6,5.2,5.2,5.2,7.6,6.0,5.6,2.9,2.9,2.9,4.6,5.0,5.6,5.6,5.3,5.3,5.3,5.8,5.8,5.8,4.2,5.5,5.5,5.5,5.4,4.8,4.8,4.4,4.4,4.8,6.7,4.6,4.6,5.9,6.9,6.9,5.9,5.7,5.7,4.8,4.1,4.1,4.1,3.8,6.6,6.6,4.9,4.9,6.3,6.3,7.1,7.1,7.1,7.3,5.1,5.1,5.1,8.0,8.0,8.0,6.1,6.1,7.2,6.5,6.5,6.5,7.2,7.2,7.2,6.9,6.9,6.9,7.1,7.2,7.2,8.2,8.2,6.3,5.9,5.9,3.7,3.7,3.7,5.7,5.7,6.1,6.1,6.1,4.7,6.6,4.6,4.6,7.0,7.0,7.0,5.9,5.9,4.4,5.2,5.2,4.9,2.5,2.5,6.4,3.4,8.6,4.9,4.9,4.9,7.4,7.4,7.4,5.2,5.2,5.2,3.0,3.0,3.0,3.6,3.6,3.6,5.7,5.7,5.7,8.2,8.2,8.2,7.6,7.6,7.6,6.1,3.5,3.5,3.5,5.8,5.8,7.4,7.4,7.4,6.2,6.2,7.3,7.3,6.4,6.4,6.4,6.8,6.8,6.8,6.8,6.8,6.8,6.8,5.6,5.6,5.6,7.5,7.5,7.5,7.8,7.8,7.8,6.0,6.0,4.9,4.9,7.3,7.3,7.3,2.4,2.4,2.4,7.5,7.5,7.2,7.2,5.1,5.1,5.1,9.0,6.2,6.2,6.2,6.2,6.2,5.7,5.7,5.7,4.6,4.6,4.6,2.1,2.1,2.1,3.1,3.1,6.6,6.1,6.1,6.1,5.9,5.9,3.9,3.9,5.9,5.9,5.9,6.1,6.1,6.1,3.6,3.6,6.2,6.5,6.5,6.5,6.1,6.1,6.1,4.0,4.0,2.3,2.3,2.3,3.7,9.4,4.0,4.0,4.0,4.2,4.2,4.2,5.6,5.6,6.1,6.1,6.1,6.2,7.3,7.3,7.3,5.6,5.6,5.6,3.1,7.6,5.6,5.6,5.6,4.2,4.2,5.6,5.6,5.6,5.4,5.4,5.4,6.8,6.8,5.4,4.6,4.6,7.9,5.3,5.3,5.3,5.6,5.6,5.6,5.8,5.8,5.8,4.2,4.2,7.6,7.6,8.0,5.9,5.0,5.0,5.0,7.1,7.1,7.1,6.5,9.1,9.1,9.1,6.1,6.1,7.1,7.1,7.6,7.6,7.6,3.9,8.0,8.9,6.2,6.2,6.2,4.6,4.6,4.6,6.7,6.7,7.7,7.7,7.7,4.2,4.2,4.2,6.4,6.4,6.3,6.3,3.4,3.4,3.4,5.0,6.8,6.8,3.3,3.3,3.3,2.7,6.4,4.6,4.6,6.6,6.6,4.2,4.2,4.2,7.3,3.8,3.8,6.5,6.5,6.5,4.8,6.3,5.0,3.6,5.4,6.8,6.8,6.8,6.6,6.2,6.2,6.2,6.1,6.1,7.8,7.8,7.8,7.4,7.4,7.4,4.3,4.3,4.3,6.2,6.2,7.4,7.4,7.1,7.1,7.1,4.8,4.8,3.7,3.1,6.8,6.8,6.8,7.8,5.9,5.9,5.9,6.4,6.4,6.0,6.0,6.0,6.1,6.1,7.0,7.0,7.0,6.6,5.3,5.3,5.3,6.8,6.8,6.8,7.1,7.1,6.8,8.1,5.8,5.7,5.7,8.1,8.1,6.6,6.6,5.8,5.8,6.9,5.2,5.2,6.0,6.0,5.6,5.6,5.6,5.7,5.7,5.7,7.5,6.9,6.9,6.9,6.3,6.3,7.8,7.8,5.4,6.2,6.2,6.6,2.8,2.8,2.8,7.9,7.9,7.9,6.9,6.9,6.9,6.7,7.9,7.9,7.9,6.2,3.6,3.6,3.6,6.3,6.3,6.3,6.0,6.0,6.0,5.5,5.5,7.4,7.4,7.4,5.7,5.7,7.1,7.1,7.1,5.6,6.4,6.4,6.4,6.3,6.3,6.3,3.6,3.6,6.3,6.3,5.8,5.8,5.8,6.2,5.7,5.7,8.0,6.7,6.7,6.7,5.1,5.1,6.7,7.2,7.8,6.5,6.5,6.5,5.2,4.1,4.1,6.5,6.5,3.9,3.9,3.9,7.4,7.4,7.4,7.1,7.2,5.1,5.8,5.8,5.8,6.0,6.0,8.2,6.2,6.2,6.8,6.6,6.7,6.7,6.7,3.7,3.7,5.8,7.9,7.9,7.9,3.1,3.1,5.6,5.6,5.6,6.3,4.6,4.6,7.3,7.3,6.9,8.2,8.2,8.2,7.7,7.7,7.7,5.5,5.5,5.5,7.1,7.1,7.1,4.0,6.8,6.8,6.8,4.2,6.2,6.2,6.2,6.5,6.5,4.8,6.1,6.1,6.5,6.5,2.7,2.7,6.7,6.7,7.4,7.4,7.4,2.9,5.0,5.0,5.0,4.4,4.4,4.4,7.0,7.0,7.1,7.1,7.1,5.1,5.1,3.0,3.0,7.7,7.7,7.7,7.6,7.6,7.6,7.5,7.5,7.5,3.9,3.9,3.9,2.1,2.1,2.1,6.6,5.1,5.1,4.5,5.1,5.1,5.1,5.7,5.7,4.3,4.3,5.9,5.9,7.0,5.4,5.4,5.4,6.7,6.7,7.1,7.1,7.1,6.0,6.0,6.0,6.9,6.9,7.8,7.8,5.6,6.9,6.9,7.2,7.2,7.2,6.4,6.4,6.4,7.8,7.8,5.6,4.9,4.9,4.9,5.1,5.9,5.9,3.2,3.2,3.2,6.1,6.1,6.1,3.8,3.8,5.5,5.5,5.5,7.8,7.8,6.4,7.1,7.1,6.7,6.7,5.0,5.0,5.0,6.9,6.9,6.8,5.7,5.7,5.7,3.3,3.3,4.7,4.7,4.7,5.7,7.4,7.4,7.4,8.1,8.1,2.3,2.3,2.3,5.6,5.6,5.6,5.9,5.6,7.4,7.4,7.4,7.2,7.2,7.2,5.7,5.7,5.7,4.0,4.0,4.0,3.7,3.7,3.7,6.3,4.6,4.6,7.5,7.5,7.7,3.3,3.3,7.7,7.7,3.5,3.5,7.5,7.5,7.5,4.0,4.0,4.0,5.9,5.9,5.9,6.2,6.2,6.5,6.5,4.0,4.0,6.9,6.9,7.2,5.8,5.1,5.0,5.0,5.2,5.2,5.2,4.8,4.8,7.5,7.5,5.7,5.7,5.7,4.4,4.4,4.4,6.6,6.6,5.8,7.0,8.1,6.4,6.4,6.4,4.0,4.0,4.0,7.5,7.5,7.5,6.2,6.2,5.2,5.2,7.2,7.2,5.8,5.8,5.8,7.2,7.2,7.2,7.2,7.2,5.2,5.2,5.2,4.3,4.3,6.0,6.0,6.0,6.8,6.8,7.2,7.2,7.2,7.1,7.1,6.8,6.8,6.8,5.1,5.1,5.3,5.3,5.3,6.4,6.4,5.7,5.7,6.6,6.6,6.6,4.8,4.8,4.8,4.1,6.1,6.1,2.7,6.2,6.2,5.6,4.1,5.5,2.8,8.3,8.3,8.3,4.7,6.2,6.2,6.2,7.5,6.3,6.3,7.6,7.6,7.6,6.5,6.5,6.5,7.4,7.4,7.4,8.1,3.2,3.2,3.2,6.9,6.9,5.1,5.1,5.1,5.8,5.8,5.8,5.8,5.8,4.1,7.1,7.1,4.4,4.4,4.4,4.6,5.5,5.5,5.5,5.9,5.9,5.9,7.8,4.1,4.1,4.1,5.8,5.8,5.3,5.3,5.3,4.6,4.6,4.6,4.3,4.3,4.3,6.3,6.3,6.3,6.7,6.7,7.1,7.1,6.3,6.3,6.3,5.1,5.1,5.1,6.3,6.3,7.5,7.5,2.5,2.5,2.5,5.7,5.7,5.6,5.3,5.3,5.3,6.1,6.1,6.1,6.3,5.9,5.9,5.9,5.1,5.1,5.1,3.7,3.7,5.2,5.2,5.2,7.4,6.1,6.1,6.1,4.2,4.2,4.2,4.2,4.2,4.5,4.5,4.5,4.6,7.1,3.3,3.3,3.3,4.6,4.6,4.6,7.4,7.4,7.4,6.1,6.1,6.1,4.5,4.5,6.0,6.0,6.0,6.8,6.8,6.8,4.5,4.5,6.7,6.7,6.7,5.5,5.4,5.4,5.4,5.2,5.2,5.2,2.4,2.4,3.5,7.9,7.9,4.7,4.7,3.5,3.5,3.5,7.1,7.1,7.1,6.3,6.3,7.4,7.4,7.4,7.4,7.3,8.6,3.8,6.9,6.9,6.9,5.4,5.4,6.2,6.2,6.2,7.2,7.2,7.2,3.8,3.8,6.3,6.3,6.3,7.4,7.4,7.4,4.6,4.6,4.6,4.2,4.2,4.2,5.8,7.8,5.7,4.7,4.7,4.7,6.6,6.5,6.5,6.5,5.2,5.2,6.5,6.5,6.5,5.1,5.1,5.1,4.4,4.4,4.4,6.5,6.5,6.5,6.4,6.4,6.4,5.2,5.2,5.2,5.9,5.9,5.9,6.7,4.3,4.2,4.2,8.5,3.8,4.6,4.6,4.6,7.6,7.6,7.6,2.5,2.5,5.4,5.4,5.4,4.3,5.6,5.6,5.6,7.5,3.4,3.4,3.7,6.9,6.9,6.9,4.5,4.5,4.5,5.1,8.5,5.3,5.3,6.6,6.6,6.6,6.5,6.5,5.8,5.8,5.1,5.1,5.1,7.2,7.2,5.7,4.2,4.2,4.2,5.7,5.7,5.7,6.0,6.0,6.0,4.7,4.7,4.7,4.3,8.9,7.4,7.4,7.4,5.9,5.9,3.6,3.6,3.6,6.1,6.1,6.1,3.9,3.9,6.1,6.1,1.9,4.9,5.4,5.4,5.4,5.6,5.6,4.2,4.2,4.2,5.8,5.8,5.8,5.4,5.4,5.4,7.3,7.3,7.3,8.0,8.0,8.0,3.4,3.4,3.4,3.2,3.2,3.2,7.1,7.1,7.1,4.4,4.4,4.4,6.4,3.6,5.8,3.6,6.0,6.0,6.0,5.9,6.2,6.2,5.2,5.2,5.2,8.1,8.1,8.1,8.0,8.0,8.0,6.5,7.2,7.2,7.2,4.5,4.5,6.3,6.3,6.3,2.8,2.8,2.8,6.1,6.1,3.4,3.4,8.0,7.8,7.8,6.7,6.7,6.7,7.3,7.3,6.9,6.9,4.4,4.4,5.4,6.8,6.8,6.8,7.0,7.0,4.7,5.0,7.9,7.9,7.9,7.9,3.2,3.2,5.7,6.2,6.5,6.3,6.7,6.7,6.7,7.4,4.6,4.6,4.6,5.0,5.0,5.0,7.4,7.4,7.4,7.3,5.8,5.8,5.8,5.8,5.8,5.8,6.0,8.8,8.8,3.4,3.4,3.4,6.6,6.5,6.5,6.5,6.0,6.0,6.0,6.6,5.2,2.4,2.4,2.4,6.2,5.3,5.3,5.3,7.3,7.3,7.3,6.6,6.6,8.9,8.9,4.9,4.9,7.5,7.5,7.5,6.7,6.7,6.7,5.1,5.1,5.1,6.1,6.1,6.1,5.7,5.7,5.7,6.3,5.7,5.7,6.8,6.8,6.8,8.2,5.9,5.9,5.9,4.4,7.4,7.4,7.4,5.4,5.4,5.5,5.3,5.3,5.8,5.8,7.1,7.1,6.6,7.9,7.9,7.9,6.4,6.4,5.9,5.9,7.1,8.4,8.4,5.6,5.6,5.6,8.0,8.0,6.8,6.8,6.6,8.6,5.1,5.1,5.1,6.1,6.1,5.8,5.1,5.1,5.1,6.5,6.5,5.2,5.2,5.2,5.8,5.8,6.1,6.1,6.0,6.0,6.0,5.5,7.8,7.0,7.0,4.4,4.4,4.4,3.8,3.8,3.8,6.4,6.4,6.4,5.3,5.3,5.7,7.7,7.7,7.7,6.8,6.8,6.8,3.3,3.3,3.3,7.6,7.6,7.3,7.3,5.1,5.1,5.1,7.0,7.0,5.9,5.9,5.9,5.7,5.7,4.7,4.7,6.8,6.8,6.8,7.4,7.4,7.4,7.4,3.8,3.8,5.1,5.8,5.8,5.8,5.2,5.3,5.3,6.0,4.3,4.3,6.5,6.5,3.1,3.1,3.1,3.6,3.6,3.6,6.8,6.8,6.8,4.2,6.6,6.0,6.0,6.0,5.7,5.7,5.7,5.5,5.5,7.6,7.2,7.2,10.0,10.0,4.4,4.4,7.4,9.3,9.3,9.3,6.5,6.5,6.5,2.6,2.6,2.6,5.8,5.3,5.3,3.0,3.0,3.0,5.3,5.3,6.0,6.0,4.5,4.5,5.1,7.1,7.1,7.1,7.5,7.5,7.5,4.8,4.8,4.8,7.1,7.1,6.2,6.2,6.2,5.1,4.7,4.7,4.7,7.6,7.6,7.6,6.3,6.3,5.6,5.6,6.4,6.4,4.8,4.8,4.7,6.6,5.3,5.3,5.5,5.5,6.2,5.6,5.6,5.6,3.9,3.9,5.1,5.1,7.9,7.9,7.9,5.0,5.0,5.0,5.9,5.9,7.2,7.2,6.5,6.5,7.5,6.6,6.6,5.1,4.4,4.6,3.5,3.5,7.8,7.8,7.8,7.0,5.7,5.4,5.4,3.1,3.1,3.1,3.7,6.3,6.3,6.3,8.6,5.4,5.4,4.5,5.8,5.8,5.8,8.6,8.6,2.3,2.7,2.7,2.7,7.6,7.6,7.6,4.6,3.7,3.7,3.7,5.3,5.3,6.2,6.2,6.2,6.2,6.3,6.3,6.3,4.6,4.6,4.6,3.2,8.0,8.0,8.0,5.4,5.4,7.0,7.0,7.0,3.6,3.6,7.7,7.7,7.7,5.1,5.0,6.5,6.4,6.4,6.4,5.7,5.7,6.1,6.1,6.1,6.9,6.9,6.9,7.3,7.3,7.3,5.3,5.3,5.3,6.8,6.8,6.8,4.9,4.9,4.9,7.1,7.1,7.1,6.6,6.6,6.6,7.6,4.1,4.1,4.1,5.0,5.0,7.1,7.1,7.1,5.6,5.6,5.6,7.7,8.0,6.3,6.2,6.2,6.7,6.7,6.8,6.8,4.3,4.3,4.8,4.8,4.8,6.3,6.3,6.3,6.6,6.6,5.2,5.2,5.2,5.2,7.2,5.8,7.4,7.4,7.0,7.0,7.0,7.3,6.5,6.5,5.3,5.3,5.3,4.2,4.0,4.0,4.0,4.5,4.5,6.5,6.5,6.5,5.1,5.1,5.1,4.7,6.7,6.7,6.8,4.1,4.1,7.8,7.2,7.2,7.2,3.7,3.7,5.5,5.5,5.5,5.1,5.4,2.8,7.7,8.1,5.3,5.3,5.3,5.2,5.2,5.2,6.0,6.0,6.0,7.0,6.5,6.5,6.5,6.6,6.6,6.6,7.7,6.8,6.8,5.7,5.7,5.2,5.2,6.9,7.3,7.3,5.2,6.5,6.5,6.5,7.5,7.5,5.9,5.9,5.9,6.6,6.6,6.6,6.2,6.2,6.5,6.5,3.6,3.6,3.6,6.4,6.4,6.4,8.0,8.0,8.0,7.2,7.2,6.7,6.7,6.7,7.1,7.1,7.1,7.1,7.6,7.6,7.6,6.8,6.8,6.8,7.4,7.4,6.0,6.0,6.0,6.0,6.9,6.9,6.9,4.2,8.1,8.1,8.1,5.9,5.9,6.2,6.2,6.2,4.2,7.4,7.4,7.3,7.3,7.3,7.4,7.4,7.4,7.2,4.8,4.8,4.8,6.4,6.4,6.4,3.6,3.6,3.6,3.5,3.5,4.9,5.1,5.4,4.9,4.9,6.1,6.1,6.8,6.8,6.8,7.1,7.1,8.2,8.2,5.2,5.2,4.1,4.1,4.1,6.2,7.3,7.3,7.3,5.3,5.3,5.3,5.8,5.8,5.8,5.2,5.2,5.2,8.4,5.8,5.8,5.8,7.2,5.4,5.4,5.4,5.2,5.2,5.2,6.8,6.8,6.8,4.8,6.5,6.5,6.5,6.2,6.2,6.2,5.1,5.1,5.1,3.3,2.4,4.8,4.8,7.7,7.7,5.6,5.6,7.7,8.1,8.1,4.7,4.7,4.7,2.8,4.3,4.2,5.4,5.4,3.5,4.7,4.7,4.7,7.0,5.4,5.4,5.4,6.5,6.5,6.9,5.9,5.9,5.9,2.7,6.7,8.5,6.5,6.5,5.7,3.6,3.6,3.6,7.9,6.7,6.9,6.9,7.2,6.2,6.2,6.2,6.6,6.6,5.5,7.2,7.2,5.3,5.3,6.6,6.1,6.7,6.7,6.7,6.5,6.5,3.5,3.5,3.4,5.9,5.9,5.9,7.2,6.6,7.5,7.5,7.5,6.8,6.8,3.8,3.8,3.8,6.4,6.4,7.2,7.2,7.2,7.4,7.4,7.6,7.6,7.2,6.1,3.6,3.6,4.4,4.4,5.6,4.8,7.0,7.0,4.7,5.8,5.8,8.0,8.0,4.1,3.8,3.8,4.6,4.6,4.6,8.8,4.9,7.6,7.6,7.6,3.9,5.2,4.7,4.7,5.5,7.4,6.6,5.4,5.4,5.4,5.6,5.6,5.8,5.8,5.8,6.4,6.4,6.4,5.0,3.5,6.7,6.7,7.0,7.0,6.4,6.4,6.9,6.9,6.9,3.5,3.5,3.5,5.6,5.6,5.6,6.9,6.9,6.9,6.1,6.3,6.3,7.3,7.3,5.3,5.3,5.3,6.6,6.6,6.6,5.1,5.1,5.1,5.1,3.9,3.9,3.9,6.5,6.5,5.6,7.3,7.3,3.2,3.2,3.2,7.1,5.0,6.0,6.0,6.0,5.7,5.7,5.7,5.3,5.3,6.0,6.0,6.2,6.8,6.8,6.8,5.0,5.0,6.0,6.0,6.0,4.1,4.1,6.6,2.5,2.5,2.5,7.5,7.5,7.5,6.2,6.2,6.2,6.5,6.5,6.5,7.7,7.7,3.9,6.1,6.1,6.1,7.0,7.0,7.0,4.1,7.3,4.6,4.6,4.6,7.1,7.1,4.3,4.3,4.3,6.1,7.5,6.4,6.4,6.4,6.3,4.5,5.4,5.4,5.4,3.2,7.6,7.6,5.8,5.8,5.8,4.3,3.4,3.4,3.4,6.7,6.7,6.7,6.5,6.5,3.8,7.1,7.1,7.1,6.8,6.9,5.3,5.3,4.7,4.7,6.4,6.4,8.0,6.5,6.5,6.5,5.6,5.6,5.6,5.5,5.3,5.3,4.5,6.7,6.7,3.5,3.5,5.3,5.3,5.3,7.1,7.1,7.1,6.8,6.8,7.1,7.1,6.8,5.7,5.7,5.7,7.0,7.0,7.0,5.3,5.3,4.2,6.2,6.2,6.2,4.8,4.8,7.3,7.3,7.3,5.9,5.9,5.9,2.7,2.7,5.5,5.5,5.5,3.3,3.3,3.3,6.6,6.6,6.6,7.4,7.4,7.4,5.8,4.4,4.4,4.4,9.0,6.7,6.7,4.7,7.9,4.3,4.3,8.0,8.0,8.0,4.8,4.8,7.0,7.0,7.0,3.6,3.6,3.6,5.3,3.6,3.6,7.2,7.2,7.2,6.4,6.4,6.4,4.2,4.2,4.2,5.4,4.3,4.3,4.3,4.0,4.0,4.0,7.8,7.8,7.8,6.8,6.8,6.8,4.8,6.6,6.6,6.6,5.5,5.5,5.5,6.7,6.7,7.4,4.2,3.3,3.3,3.3,5.5,5.5,5.5,7.0,3.8,3.8,3.8,6.3,6.3,6.3,5.8,6.6,2.5,2.5,2.5,7.3,7.3,6.5,6.5,4.8,4.8,4.8,6.6,6.6,6.6,6.7,6.7,6.7,5.8,5.8,5.8,2.5,2.5,5.5,5.5,8.6,8.6,7.2,3.9,6.0,6.0,6.0,6.5,6.5,6.6,6.6,6.6,5.0,5.0,6.1,6.9,6.9,6.9,6.7,6.7,6.9,6.9,6.9,7.0,7.2,7.2,7.2,6.9,4.8,6.8,6.8,6.8,2.7,2.7,2.7,1.6,4.8,5.9,5.7,5.7,5.2,5.2,7.7,4.9,4.9,4.9,6.1,6.1,3.3,3.3,3.3,6.6,6.4,5.2,5.2,5.2,4.9,4.9,7.4,7.4,7.4,5.3,8.1,8.1,3.2,3.3,3.3,3.3,4.0,4.0,4.0,6.5,6.5,6.5,4.2,4.2,4.2,5.5,5.5,4.8,4.8,4.8,7.5,7.5,5.4,5.4,5.4,6.2,6.2,6.2,4.9,4.9,4.9,7.4,5.5,5.5,5.5,4.8,6.3,6.3,4.4,4.4,7.0,7.0,5.7,7.1,7.1,7.6,7.6,7.6,5.5,6.7,5.5,7.2,7.2,6.2,6.2,7.4,7.4,7.4,7.5,7.5,7.5,4.7,4.7,4.7,6.2,4.6,4.4,4.4,5.3,5.3,5.3,6.4,3.1,6.9,8.0,6.1,6.1,6.1,6.5,5.7,5.7,7.2,7.2,7.2,5.4,5.0,5.0,5.0,4.2,4.2,4.2,4.1,5.8,5.6,5.6,5.6,4.4,5.5,5.5,6.0,6.0,7.5,7.5,7.5,5.9,5.9,5.9,5.9,4.3,4.3,6.3,6.3,4.5,4.5,5.8,4.5,4.5,4.5,6.7,6.7,4.8,6.7,7.1,7.9,7.9,6.8,5.6,5.6,6.7,6.7,6.7,6.3,6.3,6.3,6.5,6.5,6.3,6.3,7.4,6.3,6.3,4.3,4.3,4.3,6.8,6.8,7.5,6.4,6.4,6.4,5.9,5.9,3.3,3.3,3.3,5.0,5.0,5.0,6.1,6.1,6.1,4.1,4.1,4.1,7.3,7.3,7.3,7.3,2.2,2.2,2.2,7.1,7.1,7.1,7.4,7.6,7.6,5.4,5.4,5.4,8.2,6.0,6.0,6.0,6.2,6.2,6.2,5.9,5.9,5.9,5.4,5.4,5.4,8.6,7.4,7.4,5.5,5.5,6.8,7.0,6.5,6.5,6.5,7.1,7.1,7.1,5.3,5.3,5.3,5.6,5.6,3.8,3.2,3.2,5.1,5.1,6.2,6.2,6.2,4.9,4.9,6.2,6.8,6.8,6.8,2.5,2.5,5.4,5.6,6.6,7.4,7.4,6.4,6.4,6.2,6.2,6.5,6.5,6.5,5.8,5.8,5.8,7.1,6.5,6.5,6.5,4.4,4.4,5.8,8.0,8.0,8.0,5.5,5.5,5.5,7.0,7.0,4.4,6.9,6.9,7.8,7.8,7.8,5.4,6.3,3.9,4.7,4.7,4.7,6.9,6.9,6.9,7.8,3.2,3.2,3.2,6.8,7.7,7.7,7.7,6.8,6.8,6.8,6.1,7.4,6.5,6.5,7.6,7.6,7.6,5.5,5.5,3.8,3.8,3.8,5.4,3.2,7.6,7.6,7.6,7.7,7.7,7.4,7.4,7.4,7.7,7.7,6.8,6.8,6.8,7.7,7.7,2.7,6.1,6.1,5.2,5.2,5.2,4.3,4.3,6.2,6.2,8.3,8.3,7.5,7.5,7.5,4.9,4.9,4.0,4.0,3.9,3.9,3.9,7.7,9.1,5.5,5.9,9.1,6.3,6.3,6.3,5.4,4.9,5.9,5.9,2.9,2.9,2.9,7.6,7.6,4.2,4.2,4.2,6.6,6.6,6.6,6.3,6.3,6.3,7.2,7.2,7.2,4.3,4.3,4.3,7.3,7.3,7.3,5.8,7.2,7.2,3.9,3.9,3.9,6.0,6.0,6.0,6.0,6.0,6.0,5.0,5.0,5.0,6.9,6.9,7.6,7.6,5.6,5.6,6.3,6.3,6.3,4.3,4.3,4.3,5.7,5.1,5.3,5.3,5.3,3.3,3.3,6.2,6.6,5.1,7.5,7.5,8.2,5.4,8.0,8.0,6.3,4.2,5.4,5.4,5.2,5.2,7.1,5.5,5.5,6.7,6.7,6.7,7.2,7.2,7.2,8.1,8.1,8.1,8.1,8.1,8.1,4.9,4.9,7.0,7.0,6.7,7.4,7.4,7.4,4.6,4.6,4.6,5.4,5.4,5.4,4.2,4.2,4.2,7.5,7.5,5.0,5.0,5.0,5.6,7.0,3.1,3.1,5.3,5.3,6.1,6.1,6.4,6.4,7.4,7.4,7.4,6.9,6.9,6.2,3.5,3.5,5.5,5.5,5.5,8.0,8.0,4.7,4.7,4.7,7.0,7.0,7.0,6.6,7.0,7.0,7.0,8.5,3.3,3.3,3.3,4.8,7.7,7.7,7.7,3.9,3.9,6.8,6.8,6.8,7.2,7.2,6.5,8.2,8.2,8.2,7.7,7.7,6.2,6.2,4.1,4.1,5.1,5.1,5.1,5.0,5.0,5.0,5.2,5.4,3.8,7.6,4.9,4.9,3.3,3.3,3.3,6.7,7.9,7.9,7.1,7.1,7.0,7.0,7.0,2.4,8.1,8.1,8.1,7.2,3.2,3.2,5.8,5.8,3.9,3.9,7.3,6.9,6.9,6.7,4.5,4.5,4.5,7.6,7.6,6.5,6.5,6.5,7.0,7.0,6.4,6.4,6.4,6.3,6.5,4.1,4.1,4.1,4.9,4.9,4.9,6.5,6.5,4.6,4.6,4.6,6.5,6.5,5.5,5.5,5.5,7.6,7.6,5.3,5.3,5.3,6.5,6.5,6.4,6.4,6.4,5.9,3.9,3.9,3.9,8.6,7.3,6.8,6.8,5.2,5.2,6.8,6.8,5.3,5.3,5.3,3.7,4.6,5.5,7.6,7.6,2.2,2.2,6.5,6.5,6.5,6.0,5.9,5.9,5.9,6.7,6.5,6.5,6.5,5.7,5.7,5.7,5.0,5.0,6.2,6.2,6.4,6.4,6.4,4.3,4.3,6.2,6.2,7.6,6.4,7.1,7.1,7.1,7.0,7.0,7.0,7.0,7.0,7.0,6.2,8.1,4.8,4.8,6.6,6.6,6.6,7.5,7.5,7.5,7.2,7.8,7.8,7.8,7.2,7.2,7.2,6.3,6.3,7.6,7.6,7.6,6.6,5.8,5.8,5.8,7.2,6.8,6.8,6.9,6.9,6.9,6.8,6.8,2.2,2.2,2.2,7.6,7.6,6.9,6.9,7.2,7.2,7.2,5.7,5.7,7.1,6.2,5.5,5.5,5.5,6.4,6.4,4.1,4.6,6.2,6.2,6.2,7.1,7.1,5.7,5.7,4.0,5.6,5.6,7.8,5.8,4.3,3.8,4.6,6.6,6.6,5.6,5.6,5.6,6.6,6.6,6.6,8.0,7.0,5.6,4.4,4.4,4.4,5.5,5.5,5.5,7.1,7.1,7.1,4.2,4.2,2.8,2.8,7.2,7.2,7.0,7.0,6.4,6.4,7.4,7.4,4.4,4.4,4.4,5.7,4.9,4.9,4.9,6.4,6.4,6.4,4.4,5.5,6.2,6.2,6.2,4.8,4.8,4.8,8.3,8.3,8.3,7.1,7.1,6.3,6.3,6.6,6.6,6.0,7.3,7.3,7.3,3.8,3.8,3.8,6.7,6.7,5.9,5.9,5.9,7.5,7.5,7.5,4.8,4.8,5.0,5.0,5.0,6.1,6.1,6.1,7.2,6.2,6.2,6.2,7.0,7.0,6.2,6.1,5.4,7.5,7.5,2.7,5.8,5.8,6.6,6.6,6.6,6.9,6.9,6.9,6.5,5.4,5.4,5.8,5.8,5.8,6.3,6.3,6.3,6.2,6.2,4.4,5.7,5.7,3.9,3.9,3.9,3.2,3.2,3.2,7.6,6.9,6.9,6.0,6.0,5.4,5.8,5.8,6.2,6.3,6.3,6.1,6.1,6.1,6.7,6.7,7.6,7.6,8.0,7.9,8.1,8.1,8.1,8.4,8.7,5.9,6.3,6.3,5.0,5.0,6.7,6.7,6.7,4.5,4.5,4.5,8.3,2.7,2.7,6.2,8.1,8.1,8.1,5.5,5.5,4.1,4.1,4.1,3.7,3.7,3.7,5.4,4.1,4.1,4.1,3.1,3.1,6.5,6.5,5.2,5.2,5.2,4.5,4.5,4.5,3.4,6.6,6.6,4.1,4.1,4.1,4.1,5.0,5.0,4.6,4.6,7.0,7.0,7.0,5.2,6.8,6.8,6.8,7.8,7.8,7.8,4.0,4.0,4.0,6.4,6.4,5.4,6.9,5.6,5.6,5.6,8.0,8.0,8.0,4.9,6.2,6.2,4.3,4.3,4.3,6.8,5.9,5.9,5.5,6.0,6.0,7.8,7.8,7.8,7.0,7.0,7.0,5.5,4.9,4.9,4.9,7.4,7.4,6.5,6.7,6.2,6.2,4.1,4.1,4.1,1.7,1.7,5.2,5.2,5.2,7.7,5.9,5.9,5.9,6.6,6.6,6.6,6.3,6.3,6.3,7.6,7.6,5.9,5.9,6.9,6.9,6.9,2.1,2.1,4.4,4.4,4.4,7.2,7.2,7.2,6.5,6.5,6.1,6.1,6.1,6.1,5.7,5.7,5.7,3.5,5.5,5.5,5.5,4.2,4.2,4.2,4.4,4.4,4.4,7.7,5.8,4.6,4.6,4.6,6.7,6.7,6.7,7.4,7.4,7.4,7.0,7.0,7.0,6.2,6.6,6.6,6.6,6.4,6.6,7.4,7.4,7.4,4.7,4.7,4.7,6.0,6.0,6.0,6.3,6.3,6.3,7.8,7.8,7.8,7.4,7.4,6.4,6.4,6.4,8.4,8.4,8.4,5.2,6.3,6.3,6.5,6.5,5.9,3.9,3.9,3.9,4.6,4.6,7.6,7.6,7.6,7.2,7.2,7.2,6.1,4.3,4.3,6.4,6.4,3.6,6.7,6.7,6.7,6.1,6.1,6.7,6.7,6.7,3.3,3.3,3.3,6.1,6.1,6.1,6.7,6.7,6.7,5.7,5.7,5.7,5.9,6.5,6.5,6.5,8.4,8.4,8.4,3.3,3.3,5.3,7.4,7.4,6.3,6.3,6.9,6.3,6.3,6.3,3.8,3.8,3.8,6.1,6.5,6.5,6.8,6.8,6.8,6.2,6.2,6.2,4.4,6.2,6.2,5.6,5.6,5.6,5.6,5.6,5.6,7.4,7.4,7.4,6.1,6.1,3.6,3.6,7.1,7.1,3.3,3.3,3.3,6.8,6.8,6.8,5.0,5.7,5.7,5.7,6.1,6.1,7.1,7.1,4.0,6.0,6.0,6.0,5.2,3.1,7.0,7.0,6.0,6.0,6.0,7.5,7.5,7.5,4.7,4.7,4.7,5.1,5.1,5.1,8.2,8.2,8.2,5.8,5.8,5.8,7.0,7.0,7.0,5.2,5.2,5.2,4.7,4.7,4.7,5.1,5.1,5.1,5.4,5.4,8.1,8.1,8.1,6.5,6.5,7.4,6.2,6.2,7.5,7.5,7.5,3.6,3.6,3.6,6.3,6.3,6.3,7.6,7.6,4.9,4.9,5.7,5.7,7.1,7.3,7.3,7.3,7.6,7.6,5.2,5.2,6.3,6.3,4.3,4.3,5.4,5.4,5.4,6.2,6.2,5.2,5.2,5.2,6.5,6.5,6.5,4.0,4.0,4.0,4.4,4.4,4.4,5.6,5.6,5.6,7.8,7.8,7.8,7.2,7.2,7.2,4.3,4.3,6.7,6.7,6.7,5.4,5.4,5.4,1.9,1.9,1.9,4.8,7.3,7.9,1.8,1.8,1.8,2.9,2.9,2.9,6.8,6.8,6.8,3.6,3.4,3.4,3.4,6.9,6.9,4.3,4.3,4.9,4.9,4.9,3.8,7.6,7.6,5.6,6.8,7.0,5.8,5.4,7.4,7.4,7.4,8.0,8.0,7.2,7.2,7.2,7.5,7.5,7.9,7.9,7.6,7.6,6.2,6.2,6.2,6.1,6.1,6.1,5.3,5.3,5.3,4.3,6.9,6.9,6.9,6.3,6.3,6.3,3.7,3.7,6.0,6.2,6.2,6.2,3.7,3.7,3.4,3.4,3.4,6.1,6.1,6.3,4.6,4.6,2.9,2.9,2.9,2.3,2.3,4.5,4.5,4.5,7.0,7.0,7.0,5.8,5.8,5.8,7.1,7.1,7.1,7.3,7.3,3.3,6.4,6.4,3.1,6.8,6.8,6.8,5.1,5.1,5.1,6.5,6.5,6.6,6.6,6.6,3.7,3.7,7.6,7.6,7.6,6.5,6.5,6.5,3.1,2.9,4.7,5.8,5.8,7.6,4.7,4.7,5.3,5.3,5.3,6.5,7.4,7.4,7.4,6.3,6.3,6.3,6.7,1.7,1.7,1.7,5.4,5.4,5.4,6.6,6.8,6.8,6.8,7.2,7.2,7.2,3.7,8.0,5.8,6.0,6.7,6.7,6.7,3.9,3.9,3.9,3.4,3.4,3.4,7.5,7.5,5.7,5.7,5.7,4.5,4.5,4.5,5.9,5.9,5.9,4.7,4.7,4.7,6.7,6.7,6.7,5.4,6.4,6.4,6.4,7.6,7.6,6.8,6.9,6.1,6.1,6.1,3.6,7.3,4.8,4.8,7.1,8.1,8.1,8.1,6.2,6.2,7.5,7.5,7.5,2.3,5.0,5.0,5.0,5.6,5.6,5.6,5.1,5.1,6.7,6.7,6.7,5.8,5.8,7.2,6.9,6.9,6.9,6.2,6.2,6.2,7.7,7.7,7.7,5.7,5.7,4.2,4.2,4.2,4.3,4.3,4.3,2.9,2.9,2.9,5.7,5.7,5.7,7.2,7.2,3.5,5.9,5.9,5.9,4.8,4.8,4.8,6.8,6.8,6.4,6.4,6.4,6.3,6.3,6.3,2.8,2.8,2.8,3.3,3.3,3.3,9.0,3.9,9.3,5.4,5.4,5.4,5.5,5.9,7.6,7.6,3.2,8.0,8.0,7.7,5.2,5.2,5.2,4.5,7.0,7.0,6.8,6.8,6.8,4.9,4.6,4.6,7.0,8.4,5.1,8.5,4.5,4.5,4.5,6.9,6.9,6.4,6.4,6.4,6.7,7.6,3.5,3.5,3.5,6.5,6.5,4.6,4.6,6.6,6.6,6.6,7.0,6.8,6.8,6.7,4.6,4.6,4.6,6.4,8.7,5.6,6.1,7.4,7.4,6.8,6.8,6.8,5.2,5.2,5.2,7.8,5.6,5.6,5.6,4.2,4.2,4.2,5.0,5.0,7.7,7.7,7.5,7.5,7.4,7.4,7.7,7.7,7.7,6.9,6.9,3.9,3.9,3.9,6.8,6.8,6.8,5.2,5.2,5.2,4.2,4.2,4.2,6.9,6.6,6.6,6.6,3.9,4.3,4.3,2.6,2.6,2.6,3.5,4.9,4.9,4.9,6.1,6.1,6.1,6.2,6.2,6.8,6.8,6.8,6.3,6.9,6.9,6.9,5.8,5.8,5.8,6.8,6.0,6.0,5.7,5.7,5.7,3.3,3.3,3.3,5.5,5.5,5.5,7.2,2.7,2.7,2.7,6.5,6.5,6.5,7.7,6.4,6.4,4.8,4.8,4.8,5.7,7.5,7.5,7.5,6.5,6.5,6.5,6.6,6.6,4.0,4.0,4.0,5.4,5.4,5.4,3.7,3.7,6.3,7.1,7.1,7.1,6.2,6.2,6.2,6.2,6.2,6.4,6.4,6.4,5.7,5.7,5.4,7.1,7.1,7.2,7.2,7.2,7.2,6.4,6.4,6.4,6.0,6.0,4.9,7.6,7.6,7.6,6.3,6.3,7.7,7.7,8.2,8.2,5.8,3.1,3.1,8.2,7.1,7.1,5.6,6.5,6.5,6.5,5.9,5.9,5.7,7.1,7.2,7.2,6.2,6.2,6.2,6.8,6.8,6.8,5.1,6.7,2.8,2.8,2.8,5.2,5.2,5.2,5.1,5.8,5.8,5.8,5.1,5.1,5.1,5.7,5.7,5.7,4.8,4.4,3.5,3.5,6.5,6.5,3.4,3.4,6.9,6.0,6.0,6.0,6.8,2.9,7.5,7.5,7.5,6.7,6.7,6.7,7.3,7.3,7.3,4.5,4.5,8.6,8.6,5.8,6.5,6.5,6.5,1.1,1.1,7.1,7.1,7.1,7.2,6.6,6.6,4.5,4.5,8.4,8.4,7.2,7.2,6.1,6.4,5.6,5.6,6.0,6.0,6.0,6.6,6.6,7.2,7.2,7.2,4.4,4.4,4.4,6.8,6.8,6.8,4.7,4.8,4.8,4.8,8.3,8.3,5.7,5.7,4.2,4.2,4.2,6.1,6.1,6.1,6.7,6.7,7.1,7.1,7.1,4.1,6.6,6.6,6.6,5.4,5.4,5.8,5.8,5.8,5.8,8.0,8.0,6.2,6.2,6.2,6.4,5.1,5.1,5.1,7.6,7.6,3.6,5.6,7.3,6.9,6.6,6.6,6.6,6.2,7.5,7.1,7.1,6.7,6.7,6.7,6.9,6.9,6.9,5.4,6.7,7.8,7.8,7.8,7.4,7.4,7.4,5.8,5.8,5.8,6.2,6.2,6.1,6.1,6.1,6.0,6.0,5.5,5.5,5.5,4.8,4.8,4.8,5.4,5.4,3.2,3.2,4.8,4.8,4.8,7.4,7.4,7.4,6.9,6.3,6.3,6.3,5.4,5.4,7.5,7.5,7.5,7.3,7.3,7.3,4.2,4.2,5.6,5.6,6.8,6.8,6.8,6.7,3.2,3.2,7.0,7.0,6.9,6.9,6.2,6.2,6.2,7.0,7.7,7.7,7.7,6.2,6.2,6.2,5.0,5.0,6.4,6.4,6.6,6.6,7.3,7.9,8.1,6.5,6.5,6.7,2.8,2.8,2.8,5.8,5.8,6.7,6.7,7.1,7.1,6.8,3.3,3.3,7.2,5.2,5.2,5.2,7.2,6.8,4.5,4.5,4.5,7.3,7.3,7.3,6.4,6.4,7.3,7.3,4.7,4.7,4.7,7.9,7.9,7.9,4.1,4.1,4.1,6.6,5.2,8.1,8.1,6.8,6.8,6.9,6.9,6.2,7.5,3.9,3.9,7.0,7.6,7.6,7.6,4.9,4.9,4.9,6.7,6.7,6.7,4.8,4.8,5.3,5.4,5.4,6.7,6.3,6.3,5.0,5.0,5.3,5.3,5.3,6.8,6.8,7.2,7.2,7.2,8.2,8.2,8.2,5.9,5.9,5.9,5.9,7.2,7.2,8.2,7.1,7.1,5.2,5.2,5.7,5.7,5.7,4.0,4.0,7.2,7.2,3.8,7.2,7.2,6.8,6.8,6.8,5.8,5.8,5.8,3.8,4.7,6.0,6.2,6.1,6.1,6.1,6.5,6.5,6.5,6.3,6.3,7.6,7.6,7.6,6.3,6.3,5.5,7.6,7.6,7.6,6.2,6.2,2.5,5.3,6.0,6.0,4.1,4.1,4.1,6.5,3.8,3.8,7.5,7.8,7.8,9.3,9.3,8.1,8.1,8.1,6.8,6.8,7.5,7.5,6.8,6.8,6.8,6.8,4.4,4.4,4.4,6.8,6.8,7.7,7.7,7.7,6.9,6.8,6.8,5.3,5.2,4.1,4.1,4.1,5.1,6.9,5.6,5.6,7.6,7.6,3.5,4.1,4.1,4.1,4.9,6.0,6.0,7.1,7.1,7.1,3.5,3.5,3.5,5.4,5.4,5.4,5.1,5.1,6.6,6.6,6.6,6.2,6.2,6.2,5.6,5.6,5.6,7.4,7.1,7.1,7.1,7.2,7.2,7.9,7.9,7.9,6.8,6.8,6.8,6.3,6.3,4.6,8.2,8.2,6.9,6.9,6.9,7.4,5.0,5.0,7.1,5.4,5.4,5.4,7.2,7.2,7.2,4.3,4.8,4.9,4.9,4.9,2.3,2.3,2.3,3.2,3.2,6.8,6.8,6.0,6.0,7.7,7.7,7.7,2.6,2.6,2.6,6.7,6.1,6.1,6.3,6.3,6.3,3.5,3.5,6.5,6.5,6.5,6.6,6.6,6.8,6.8,6.8,5.2,5.2,5.2,7.2,7.2,7.2,6.5,5.6,5.6,5.6,5.5,5.5,5.5,6.0,6.0,6.0,4.3,5.5,7.4,7.4,7.4,6.6,6.6,6.6,7.1,7.1,5.8,4.9,4.9,4.9,6.8,4.6,4.6,4.6,5.5,5.5,4.9,7.0,7.0,7.0,6.7,6.7,6.4,6.4,6.4,3.5,3.5,4.6,4.6,6.1,6.1,6.9,6.9,6.9,7.2,6.1,6.1,7.3,7.3,7.3,7.4,7.2,3.9,6.5,4.2,8.5,8.5,5.4,5.4,5.4,4.0,5.1,4.5,4.5,4.5,3.6,3.6,6.6,6.6,3.8,3.8,3.8,4.6,4.6,4.6,5.7,5.7,5.7,5.6,5.6,7.0,4.9,5.6,5.6,4.6,4.6,8.1,7.0,7.0,4.8,4.8,4.2,8.1,8.1,8.1,3.9,3.9,3.9,4.6,4.6,4.6,4.7,4.7,4.7,6.2,6.2,6.2,4.2,4.2,6.2,6.2,5.2,7.3,7.3,6.5,6.5,6.5,8.2,8.2,8.2,7.7,7.7,7.7,6.8,5.0,7.1,7.1,7.1,5.9,5.9,5.9,7.2,7.2,7.2,6.6,5.7,2.3,2.3,2.3,6.4,6.4,6.4,3.4,3.4,6.5,3.6,3.6,3.6,7.3,7.3,6.3,6.3,8.0,8.0,8.0,7.5,7.5,7.5,7.0,7.0,7.0,7.2,4.8,4.8,8.2,8.2,7.0,7.0,7.0,6.4,6.4,6.4,6.6,6.6,5.0,5.0,6.3,6.3,6.9,6.9,5.8,5.8,4.5,6.0,6.0,6.0,7.9,7.9,7.9,6.4,5.1,5.1,5.1,7.2,6.6,6.2,6.2,7.5,7.3,6.4,6.4,6.4,3.9,3.9,4.5,4.5,2.9,6.2,6.6,6.6,4.0,7.3,7.3,7.3,2.5,2.5,2.5,7.1,7.1,8.5,8.5,5.6,5.6,5.6,5.1,5.1,5.1,9.3,9.3,9.3,5.1,5.1,6.5,6.5,5.0,5.0,5.7,5.7,5.7,5.6,5.6,6.8,6.8,6.8,5.5,5.5,5.7,5.7,5.7,5.1,5.1,5.1,4.2,4.2,4.2,7.7,7.7,6.2,6.2,6.2,3.4,5.8,5.1,5.1,6.5,6.5,7.5,7.5,7.5,5.5,6.9,6.3,6.3,6.3,5.3,6.6,6.6,6.6,7.1,7.1,6.5,6.5,6.5,6.5,6.5,5.9,5.9,5.9,4.3,4.3,4.3,7.4,7.4,7.4,7.2,7.2,6.1,6.1,6.1,5.9,5.9,6.9,6.2,6.2,6.2,7.0,7.0,7.0,6.0,5.1,5.1,5.1,5.5,5.5,2.8,4.0,4.0,3.5,3.5,3.5,5.3,5.3,8.1,8.1,8.1,6.0,6.0,4.8,4.8,7.2,7.2,6.7,6.7,6.7,7.1,7.1,9.1,7.4,7.4,7.4,5.6,6.3,6.3,6.1,6.1,6.1,5.8,5.6,5.6,5.6,7.1,7.1,5.8,5.8,5.7,5.7,5.7,5.3,5.3,4.7,6.1,5.9,8.0,8.0,8.0,2.9,2.9,2.9,6.5,6.5,4.9,4.9,4.9,7.8,7.8,4.6,4.6,8.5,8.5,4.4,4.4,7.8,7.8,7.8,6.3,6.3,6.3,7.5,7.5,7.5,8.2,8.2,6.2,6.2,5.6,6.2,6.2,5.8,5.8,4.9,4.9,4.9,7.5,7.6,7.6,3.6,3.6,5.2,3.7,3.7,3.7,6.3,6.9,6.9,6.9,6.5,5.3,5.3,5.3,2.2,2.2,2.2,2.6,2.6,2.6,6.7,6.7,6.7,5.4,6.5,6.5,6.5,8.2,8.2,8.2,7.2,3.7,3.7,3.7,4.0,4.0,4.0,6.7,6.7,6.7,5.7,5.7,5.7,4.8,4.8,6.1,6.4,6.4,6.8,6.8,7.3,7.3,7.1,7.1,3.2,3.2,3.2,5.6,5.6,7.0,7.0,7.0,6.2,6.2,6.2,7.1,7.1,6.9,6.3,6.3,6.3,5.4,5.4,5.9,5.9,5.9,5.3,5.3,5.3,6.6,6.8,6.8,6.8,5.4,5.4,5.4,6.1,6.1,5.6,5.6,4.5,2.5,2.5,2.5,8.6,6.5,6.8,4.3,4.3,4.3,5.9,8.0,8.0,1.9,1.9,1.9,4.6,4.6,4.6,5.5,5.5,4.5,4.5,4.5,8.0,6.0,6.0,6.4,6.4,6.4,6.8,6.8,6.8,6.7,6.7,6.7,5.7,5.7,5.9,7.3,7.3,7.3,4.1,4.1,4.1,6.3,6.3,6.3,5.4,5.4,5.4,4.5,4.5,7.3,8.2,6.5,6.8,6.3,6.3,6.7,5.5,5.5,5.5,6.7,7.4,7.4,7.4,6.1,6.1,3.4,3.4,3.4,4.2,4.2,8.7,5.6,5.6,5.6,6.7,6.7,6.7,7.3,7.3,4.8,4.8,4.5,4.5,4.5,4.4,7.2,7.2,7.2,4.7,5.6,4.7,4.7,5.7,5.7,5.7,5.4,5.4,5.4,5.3,5.3,7.5,7.5,6.6,6.6,6.7,6.7,6.7,5.0,5.0,5.0,5.7,5.7,6.1,4.6,4.6,4.6,5.4,6.7,7.2,7.2,7.2,4.7,4.7,4.7,4.3,4.3,6.6,6.6,5.5,5.5,5.5,5.4,5.4,5.4,8.2,8.2,8.2,4.0,4.0,4.4,4.4,6.8,7.6,7.3,7.3,7.3,5.1,5.6,5.6,5.6,8.4,8.4,6.0,6.0,6.0,7.6,7.6,7.6,8.7,7.5,7.5,7.5,6.8,6.8,6.8,7.6,7.6,7.6,7.2,7.2,6.0,6.3,6.3,4.2,4.2,4.2,6.5,6.5,6.5,7.3,5.5,6.9,6.9,6.9,4.5,4.5,4.5,7.6,4.6,4.6,4.6,5.0,5.0,7.2,7.2,8.1,3.8,5.6,5.6,5.6,3.8,4.5,4.5,4.5,3.9,3.9,3.9,6.9,6.9,4.4,4.4,4.4,2.6,2.6,7.4,7.1,7.1,7.1,5.2,5.2,6.9,6.9,6.3,7.3,7.3,7.3,6.4,6.4,6.4,7.3,7.3,7.3,4.0,4.0,6.8,5.8,5.8,5.8,6.9,6.9,4.1,4.1,4.1,6.3,6.3,6.3,6.4,7.5,2.6,2.6,6.3,6.3,6.3,5.2,5.2,6.4,6.4,2.6,2.6,2.6,7.9,7.9,7.9,7.7,7.7,7.7,5.9,6.3,6.3,6.3,2.5,2.5,2.5,5.5,5.5,5.5,5.4,1.8,1.8,3.0,3.0,6.0,6.0,6.0,4.9,4.0,2.6,2.6,2.6,7.2,7.2,4.3,5.1,7.4,7.4,7.4,2.4,5.3,5.3,5.3,5.3,5.3,5.3,7.2,7.2,6.2,6.2,6.2,5.8,5.8,5.8,5.9,6.2,6.2,6.1,3.1,3.1,7.0,5.7,5.7,5.7,6.7,5.0,5.4,5.4,5.4,4.7,4.7,4.7,5.3,5.3,6.8,6.8,6.8,6.2,4.0,4.0,4.0,7.0,7.0,7.0,3.9,3.9,3.9,5.2,5.2,5.9,5.9,5.9,5.7,5.7,5.6,5.6,5.6,6.1,6.1,4.7,7.9,7.9,6.8,6.7,6.7,6.7,4.2,4.8,4.8,4.8,6.3,6.3,6.0,6.0,7.3,7.1,7.1,5.7,6.8,6.8,6.8,6.9,6.9,6.9,6.4,6.4,6.4,6.1,6.1,6.1,7.4,7.4,7.4,5.6,5.6,5.4,5.4,8.0,8.0,8.0,5.9,6.8,6.8,7.6,7.6,7.6,7.7,6.4,7.2,7.2,7.2,5.9,6.1,6.1,6.1,2.4,6.6,6.6,6.6,3.6,6.0,6.0,6.0,7.5,7.5,7.5,5.1,6.9,6.9,6.4,6.4,6.4,6.0,6.0,6.0,3.4,3.4,3.4,6.2,5.4,9.2,5.0,5.0,5.0,5.2,5.2,7.6,7.6,7.6,4.4,4.4,4.4,7.1,7.1,7.1,6.1,6.5,6.5,6.5,6.2,7.1,7.1,7.1,6.5,6.5,4.1,4.1,4.1,5.3,5.3,5.3,3.5,8.0,8.0,7.2,6.8,6.8,7.3,7.3,7.2,6.4,6.4,6.4,6.0,6.6,6.1,4.7,4.7,4.7,7.9,5.9,7.3,7.3,7.3,8.1,8.1,8.1,2.0,2.0,2.0,7.2,7.2,6.2,6.2,7.8,7.8,7.9,7.9,7.9,4.6,4.6,4.6,7.8,7.8,4.4,4.4,7.0,4.0,4.0,5.8,5.8,6.4,6.2,6.2,6.2,5.3,3.5,3.5,5.7,8.7,8.7,8.7,5.7,5.7,5.7,6.8,6.8,6.8,6.8,4.5,4.5,8.6,7.3,7.3,7.3,9.4,2.9,6.9,7.0,7.0,7.0,6.6,6.6,6.6,8.0,8.0,4.9,6.7,7.7,7.7,7.7,7.3,6.4,6.4,6.4,6.8,6.8,7.6,7.6,5.9,5.7,5.7,5.7,7.2,7.2,7.2,7.4,7.4,7.4,7.1,7.8,7.8,7.8,7.3,8.1,8.1,6.4,6.4,6.4,4.4,4.3,4.3,4.3,5.7,5.7,4.6,5.7,5.7,5.7,6.5,6.5,6.5,6.9,6.9,6.0,6.0,6.0,6.7,6.7,7.4,7.4,7.4,5.2,7.1,7.1,4.5,4.5,4.5,7.0,7.0,6.8,6.8,5.9,5.9,3.3,3.3,7.3,7.3,7.3,4.2,4.2,4.2,6.6,6.6,6.6,5.5,5.5,4.4,4.4,4.4,4.9,4.9,4.9,7.0,7.0,7.0,5.9,5.9,5.9,7.3,7.3,6.4,6.6,5.9,5.8,5.8,5.8,7.1,7.1,7.1,4.1,4.1,6.4,5.9,5.9,5.9,7.3,7.9,5.9,5.9,5.9,4.1,1.8,1.8,5.4,6.3,6.9,6.9,6.9,5.0,5.0,5.0,4.1,4.1,7.6,7.6,7.6,4.3,4.3,6.7,6.7,6.7,4.4,4.4,4.4,6.9,6.9,5.1,5.1,5.2,5.2,5.5,5.5,7.2,7.2,3.2,3.2,3.2,7.9,4.9,4.9,5.7,5.7,3.4,4.2,4.2,4.2,5.7,5.4,2.6,2.6,6.8,6.8,6.8,4.2,4.2,4.2,5.0,5.0,5.0,7.6,6.3,6.3,6.7,6.7,6.7,6.5,5.6,5.6,5.6,6.7,6.7,7.6,7.6,5.3,5.3,5.3,6.1,6.1,6.3,6.3,6.3,7.0,4.8,4.8,5.1,2.4,2.4,7.3,7.2,6.0,7.7,7.7,7.7,5.2,5.2,5.2,7.3,8.0,5.2,5.2,5.2,3.8,3.8,4.5,4.5,4.5,6.4,6.2,6.2,6.6,6.6,6.0,4.8,4.8,7.5,7.5,7.0,7.0,3.9,4.7,4.7,4.7,5.0,5.0,5.6,5.6,4.6,4.6,4.6,2.4,2.4,2.4,8.3,8.3,8.3,5.6,5.6,6.1,7.0,7.0,5.6,5.6,5.6,7.0,7.0,4.5,4.5,6.5,6.5,6.5,5.9,5.9,5.1,5.1,5.1,8.1,5.5,5.5,5.0,6.9,4.8,6.8,5.9,5.9,5.8,6.6,4.5,4.5,4.5,8.1,3.5,5.0,5.0,7.8,7.8,7.8,8.0,8.0,8.0,3.7,3.7,6.8,6.8,6.8,6.2,6.2,6.9,6.5,7.0,7.0,7.0,4.4,4.4,5.5,5.5,5.5,4.2,4.2,4.2,6.6,5.5,5.5,5.5,5.5,6.6,6.6,8.2,6.6,6.6,5.8,5.1,5.1,5.1,5.7,5.7,5.7,4.2,4.2,7.3,6.5,6.5,6.5,3.3,3.3,3.3,7.0,7.0,7.8,7.2,7.5,7.5,7.5,6.7,7.4,7.4,7.4,8.2,8.2,8.2,7.1,7.1,6.9,6.8,6.8,6.8,5.2,3.8,3.8,3.8,7.4,7.4,7.4,4.4,4.4,5.6,6.9,6.9,6.9,6.0,6.0,4.2,4.2,4.1,4.1,4.1,4.8,4.8,4.9,4.9,6.9,6.9,6.9,5.6,5.6,5.6,4.8,4.5,4.5,4.5,5.8,5.8,5.8,8.0,8.0,8.0,5.0,5.0,5.3,6.8,6.8,8.5,8.5,8.5,7.7,7.7,7.7,7.3,7.3,5.5,5.5,5.5,7.0,7.0,7.0,7.0,4.7,8.2,6.0,6.0,6.0,7.4,4.5,4.5,4.5,5.1,3.7,3.7,4.5,4.5,4.5,7.0,7.0,7.0,6.8,6.8,7.2,7.2,7.2,6.6,6.6,6.5,6.4,6.4,6.4,6.6,6.6,6.6,5.3,5.3,5.3,3.2,2.8,2.8,5.7,5.7,6.0,5.8,5.0,7.8,7.8,7.8,6.7,6.7,6.0,6.7,6.7,6.7,5.4,5.4,5.4,6.7,6.7,6.7,6.9,6.9,7.8,7.8,7.1,7.1,7.1,5.3,5.3,5.3,3.8,3.8,7.2,7.2,5.2,5.2,6.5,7.1,7.2,5.6,5.6,5.6,5.0,5.0,5.0,7.3,6.1,6.1,6.1,7.3,7.3,7.3,3.7,3.7,6.2,5.3,5.3,5.3,5.6,8.9,7.5,7.5,7.5,2.9,2.9,4.3,7.1,7.1,4.9,4.9,4.9,5.1,5.1,5.1,7.2,7.2,7.2,8.1,8.1,5.9,5.9,5.3,6.5,6.5,6.5,6.6,6.6,6.6,6.6,6.6,5.6,5.6,5.4,5.4,5.4,6.6,6.6,6.6,3.7,3.7,3.7,6.7,3.8,3.8,3.8,3.7,3.7,3.7,4.5,4.5,5.4,5.5,5.5,5.5,7.2,7.2,4.4,4.4,4.4,6.9,6.9,6.9,6.7,7.6,7.6,7.6,6.6,6.6,6.6,6.6,6.5,6.5,6.5,4.5,4.5,7.8,7.8,6.0,6.0,6.0,6.3,6.3,6.3,5.9,5.9,5.9,6.8,6.8,6.8,6.5,6.5,6.5,5.4,5.4,6.8,6.8,6.4,6.4,4.6,4.6,7.1,7.1,4.1,4.1,5.7,5.7,5.7,7.7,7.1,7.1,7.1,5.6,5.6,5.6,4.8,4.9,3.8,3.8,6.9,6.9,4.3,4.3,4.3,4.2,4.2,4.2,7.5,7.5,7.5,6.0,6.0,6.0,7.9,5.2,5.2,5.2,1.6,1.6,6.9,6.9,7.3,5.4,6.5,5.0,5.0,5.0,4.6,4.6,4.6,4.9,4.9,7.3,7.3,7.3,4.9,5.8,5.8,5.8,5.5,6.8,5.1,5.1,3.9,3.9,6.0,6.0,4.5,9.0,9.0,6.4,6.4,6.4,4.8,6.2,6.2,7.6,7.6,4.6,7.6,7.6,7.6,6.4,6.4,6.4,7.1,6.4,3.3,7.6,7.6,8.1,3.9,3.9,2.7,5.2,5.2,5.2,5.7,7.7,7.7,7.7,5.9,5.9,5.9,6.5,6.5,4.4,4.4,4.4,5.4,3.5,3.5,3.7,3.7,4.2,4.2,4.2,6.3,6.3,6.3,5.6,7.1,7.1,7.1,2.7,2.7,7.0,6.0,6.6,5.1,7.2,7.2,7.2,7.0,7.0,7.0,5.1,5.1,3.3,3.3,3.3,5.4,5.4,5.4,6.7,3.2,3.2,3.4,3.4,4.5,4.5,4.5,4.7,4.7,4.7,5.4,6.1,4.4,4.4,4.4,6.3,6.3,6.4,4.6,3.4,3.4,3.4,7.6,5.8,5.8,3.9,3.9,4.3,4.3,5.4,5.4,6.4,6.4,6.4,6.0,6.0,6.0,4.7,4.7,6.8,6.8,3.6,3.6,6.6,5.2,5.2,5.2,4.7,4.7,4.7,4.4,4.4,4.4,3.3,7.1,7.1,7.1,5.2,4.4,6.1,3.8,3.8,3.8,3.7,3.7,3.7,4.9,4.9,4.1,4.1,4.1,3.4,6.0,6.0,6.0,8.0,8.0,8.0,7.5,7.5,7.5,8.6,6.5,6.5,6.5,7.2,7.2,7.2,3.0,3.0,5.2,5.2,5.2,4.8,6.4,6.4,6.8,6.8,6.8,7.2,7.2,7.2,4.6,4.6,7.8,7.8,5.1,5.1,5.7,5.7,5.9,7.0,6.2,6.2,6.2,7.7,7.7,7.7,7.4,7.4,7.4,4.8,4.8,4.8,4.1,4.1,4.1,4.9,4.9,5.3,5.3,4.6,4.6,7.9,6.2,6.2,4.0,4.0,4.0,5.0,4.7,4.7,4.7,5.6,5.6,6.0,6.0,4.9,4.9,4.9,3.8,3.8,3.8,6.8,6.8,6.3,6.3,6.3,5.5,5.5,5.5,5.3,5.3,5.3,6.0,6.0,6.0,5.5,5.5,6.2,6.2,3.0,3.0,3.3,7.6,7.6,7.6,3.2,3.2,3.2,7.6,7.6,7.6,6.3,7.7,7.7,7.7,6.4,6.4,5.4,5.4,5.4,7.1,7.1,5.4,5.4,5.4,4.7,4.7,4.4,4.4,4.4,6.9,6.9,5.8,5.8,3.6,3.6,3.6,4.8,4.8,4.8,5.3,4.9,4.9,4.9,7.1,7.1,3.9,7.1,6.5,6.5,6.5,7.0,6.8,6.8,2.8,2.7,2.7,6.0,8.2,8.2,8.2,3.7,5.5,5.5,8.2,8.2,4.4,6.0,5.7,4.0,4.0,4.0,5.7,4.3,4.3,4.3,5.6,5.6,5.6,6.1,6.2,6.2,6.2,5.8,5.8,5.8,4.5,4.5,6.2,6.2],\"xaxis\":\"x\",\"yaxis\":\"y\",\"type\":\"histogram\"}],                        {\"template\":{\"data\":{\"histogram2dcontour\":[{\"type\":\"histogram2dcontour\",\"colorbar\":{\"outlinewidth\":0,\"ticks\":\"\"},\"colorscale\":[[0.0,\"#0d0887\"],[0.1111111111111111,\"#46039f\"],[0.2222222222222222,\"#7201a8\"],[0.3333333333333333,\"#9c179e\"],[0.4444444444444444,\"#bd3786\"],[0.5555555555555556,\"#d8576b\"],[0.6666666666666666,\"#ed7953\"],[0.7777777777777778,\"#fb9f3a\"],[0.8888888888888888,\"#fdca26\"],[1.0,\"#f0f921\"]]}],\"choropleth\":[{\"type\":\"choropleth\",\"colorbar\":{\"outlinewidth\":0,\"ticks\":\"\"}}],\"histogram2d\":[{\"type\":\"histogram2d\",\"colorbar\":{\"outlinewidth\":0,\"ticks\":\"\"},\"colorscale\":[[0.0,\"#0d0887\"],[0.1111111111111111,\"#46039f\"],[0.2222222222222222,\"#7201a8\"],[0.3333333333333333,\"#9c179e\"],[0.4444444444444444,\"#bd3786\"],[0.5555555555555556,\"#d8576b\"],[0.6666666666666666,\"#ed7953\"],[0.7777777777777778,\"#fb9f3a\"],[0.8888888888888888,\"#fdca26\"],[1.0,\"#f0f921\"]]}],\"heatmap\":[{\"type\":\"heatmap\",\"colorbar\":{\"outlinewidth\":0,\"ticks\":\"\"},\"colorscale\":[[0.0,\"#0d0887\"],[0.1111111111111111,\"#46039f\"],[0.2222222222222222,\"#7201a8\"],[0.3333333333333333,\"#9c179e\"],[0.4444444444444444,\"#bd3786\"],[0.5555555555555556,\"#d8576b\"],[0.6666666666666666,\"#ed7953\"],[0.7777777777777778,\"#fb9f3a\"],[0.8888888888888888,\"#fdca26\"],[1.0,\"#f0f921\"]]}],\"heatmapgl\":[{\"type\":\"heatmapgl\",\"colorbar\":{\"outlinewidth\":0,\"ticks\":\"\"},\"colorscale\":[[0.0,\"#0d0887\"],[0.1111111111111111,\"#46039f\"],[0.2222222222222222,\"#7201a8\"],[0.3333333333333333,\"#9c179e\"],[0.4444444444444444,\"#bd3786\"],[0.5555555555555556,\"#d8576b\"],[0.6666666666666666,\"#ed7953\"],[0.7777777777777778,\"#fb9f3a\"],[0.8888888888888888,\"#fdca26\"],[1.0,\"#f0f921\"]]}],\"contourcarpet\":[{\"type\":\"contourcarpet\",\"colorbar\":{\"outlinewidth\":0,\"ticks\":\"\"}}],\"contour\":[{\"type\":\"contour\",\"colorbar\":{\"outlinewidth\":0,\"ticks\":\"\"},\"colorscale\":[[0.0,\"#0d0887\"],[0.1111111111111111,\"#46039f\"],[0.2222222222222222,\"#7201a8\"],[0.3333333333333333,\"#9c179e\"],[0.4444444444444444,\"#bd3786\"],[0.5555555555555556,\"#d8576b\"],[0.6666666666666666,\"#ed7953\"],[0.7777777777777778,\"#fb9f3a\"],[0.8888888888888888,\"#fdca26\"],[1.0,\"#f0f921\"]]}],\"surface\":[{\"type\":\"surface\",\"colorbar\":{\"outlinewidth\":0,\"ticks\":\"\"},\"colorscale\":[[0.0,\"#0d0887\"],[0.1111111111111111,\"#46039f\"],[0.2222222222222222,\"#7201a8\"],[0.3333333333333333,\"#9c179e\"],[0.4444444444444444,\"#bd3786\"],[0.5555555555555556,\"#d8576b\"],[0.6666666666666666,\"#ed7953\"],[0.7777777777777778,\"#fb9f3a\"],[0.8888888888888888,\"#fdca26\"],[1.0,\"#f0f921\"]]}],\"mesh3d\":[{\"type\":\"mesh3d\",\"colorbar\":{\"outlinewidth\":0,\"ticks\":\"\"}}],\"scatter\":[{\"fillpattern\":{\"fillmode\":\"overlay\",\"size\":10,\"solidity\":0.2},\"type\":\"scatter\"}],\"parcoords\":[{\"type\":\"parcoords\",\"line\":{\"colorbar\":{\"outlinewidth\":0,\"ticks\":\"\"}}}],\"scatterpolargl\":[{\"type\":\"scatterpolargl\",\"marker\":{\"colorbar\":{\"outlinewidth\":0,\"ticks\":\"\"}}}],\"bar\":[{\"error_x\":{\"color\":\"#2a3f5f\"},\"error_y\":{\"color\":\"#2a3f5f\"},\"marker\":{\"line\":{\"color\":\"#E5ECF6\",\"width\":0.5},\"pattern\":{\"fillmode\":\"overlay\",\"size\":10,\"solidity\":0.2}},\"type\":\"bar\"}],\"scattergeo\":[{\"type\":\"scattergeo\",\"marker\":{\"colorbar\":{\"outlinewidth\":0,\"ticks\":\"\"}}}],\"scatterpolar\":[{\"type\":\"scatterpolar\",\"marker\":{\"colorbar\":{\"outlinewidth\":0,\"ticks\":\"\"}}}],\"histogram\":[{\"marker\":{\"pattern\":{\"fillmode\":\"overlay\",\"size\":10,\"solidity\":0.2}},\"type\":\"histogram\"}],\"scattergl\":[{\"type\":\"scattergl\",\"marker\":{\"colorbar\":{\"outlinewidth\":0,\"ticks\":\"\"}}}],\"scatter3d\":[{\"type\":\"scatter3d\",\"line\":{\"colorbar\":{\"outlinewidth\":0,\"ticks\":\"\"}},\"marker\":{\"colorbar\":{\"outlinewidth\":0,\"ticks\":\"\"}}}],\"scattermapbox\":[{\"type\":\"scattermapbox\",\"marker\":{\"colorbar\":{\"outlinewidth\":0,\"ticks\":\"\"}}}],\"scatterternary\":[{\"type\":\"scatterternary\",\"marker\":{\"colorbar\":{\"outlinewidth\":0,\"ticks\":\"\"}}}],\"scattercarpet\":[{\"type\":\"scattercarpet\",\"marker\":{\"colorbar\":{\"outlinewidth\":0,\"ticks\":\"\"}}}],\"carpet\":[{\"aaxis\":{\"endlinecolor\":\"#2a3f5f\",\"gridcolor\":\"white\",\"linecolor\":\"white\",\"minorgridcolor\":\"white\",\"startlinecolor\":\"#2a3f5f\"},\"baxis\":{\"endlinecolor\":\"#2a3f5f\",\"gridcolor\":\"white\",\"linecolor\":\"white\",\"minorgridcolor\":\"white\",\"startlinecolor\":\"#2a3f5f\"},\"type\":\"carpet\"}],\"table\":[{\"cells\":{\"fill\":{\"color\":\"#EBF0F8\"},\"line\":{\"color\":\"white\"}},\"header\":{\"fill\":{\"color\":\"#C8D4E3\"},\"line\":{\"color\":\"white\"}},\"type\":\"table\"}],\"barpolar\":[{\"marker\":{\"line\":{\"color\":\"#E5ECF6\",\"width\":0.5},\"pattern\":{\"fillmode\":\"overlay\",\"size\":10,\"solidity\":0.2}},\"type\":\"barpolar\"}],\"pie\":[{\"automargin\":true,\"type\":\"pie\"}]},\"layout\":{\"autotypenumbers\":\"strict\",\"colorway\":[\"#636efa\",\"#EF553B\",\"#00cc96\",\"#ab63fa\",\"#FFA15A\",\"#19d3f3\",\"#FF6692\",\"#B6E880\",\"#FF97FF\",\"#FECB52\"],\"font\":{\"color\":\"#2a3f5f\"},\"hovermode\":\"closest\",\"hoverlabel\":{\"align\":\"left\"},\"paper_bgcolor\":\"white\",\"plot_bgcolor\":\"#E5ECF6\",\"polar\":{\"bgcolor\":\"#E5ECF6\",\"angularaxis\":{\"gridcolor\":\"white\",\"linecolor\":\"white\",\"ticks\":\"\"},\"radialaxis\":{\"gridcolor\":\"white\",\"linecolor\":\"white\",\"ticks\":\"\"}},\"ternary\":{\"bgcolor\":\"#E5ECF6\",\"aaxis\":{\"gridcolor\":\"white\",\"linecolor\":\"white\",\"ticks\":\"\"},\"baxis\":{\"gridcolor\":\"white\",\"linecolor\":\"white\",\"ticks\":\"\"},\"caxis\":{\"gridcolor\":\"white\",\"linecolor\":\"white\",\"ticks\":\"\"}},\"coloraxis\":{\"colorbar\":{\"outlinewidth\":0,\"ticks\":\"\"}},\"colorscale\":{\"sequential\":[[0.0,\"#0d0887\"],[0.1111111111111111,\"#46039f\"],[0.2222222222222222,\"#7201a8\"],[0.3333333333333333,\"#9c179e\"],[0.4444444444444444,\"#bd3786\"],[0.5555555555555556,\"#d8576b\"],[0.6666666666666666,\"#ed7953\"],[0.7777777777777778,\"#fb9f3a\"],[0.8888888888888888,\"#fdca26\"],[1.0,\"#f0f921\"]],\"sequentialminus\":[[0.0,\"#0d0887\"],[0.1111111111111111,\"#46039f\"],[0.2222222222222222,\"#7201a8\"],[0.3333333333333333,\"#9c179e\"],[0.4444444444444444,\"#bd3786\"],[0.5555555555555556,\"#d8576b\"],[0.6666666666666666,\"#ed7953\"],[0.7777777777777778,\"#fb9f3a\"],[0.8888888888888888,\"#fdca26\"],[1.0,\"#f0f921\"]],\"diverging\":[[0,\"#8e0152\"],[0.1,\"#c51b7d\"],[0.2,\"#de77ae\"],[0.3,\"#f1b6da\"],[0.4,\"#fde0ef\"],[0.5,\"#f7f7f7\"],[0.6,\"#e6f5d0\"],[0.7,\"#b8e186\"],[0.8,\"#7fbc41\"],[0.9,\"#4d9221\"],[1,\"#276419\"]]},\"xaxis\":{\"gridcolor\":\"white\",\"linecolor\":\"white\",\"ticks\":\"\",\"title\":{\"standoff\":15},\"zerolinecolor\":\"white\",\"automargin\":true,\"zerolinewidth\":2},\"yaxis\":{\"gridcolor\":\"white\",\"linecolor\":\"white\",\"ticks\":\"\",\"title\":{\"standoff\":15},\"zerolinecolor\":\"white\",\"automargin\":true,\"zerolinewidth\":2},\"scene\":{\"xaxis\":{\"backgroundcolor\":\"#E5ECF6\",\"gridcolor\":\"white\",\"linecolor\":\"white\",\"showbackground\":true,\"ticks\":\"\",\"zerolinecolor\":\"white\",\"gridwidth\":2},\"yaxis\":{\"backgroundcolor\":\"#E5ECF6\",\"gridcolor\":\"white\",\"linecolor\":\"white\",\"showbackground\":true,\"ticks\":\"\",\"zerolinecolor\":\"white\",\"gridwidth\":2},\"zaxis\":{\"backgroundcolor\":\"#E5ECF6\",\"gridcolor\":\"white\",\"linecolor\":\"white\",\"showbackground\":true,\"ticks\":\"\",\"zerolinecolor\":\"white\",\"gridwidth\":2}},\"shapedefaults\":{\"line\":{\"color\":\"#2a3f5f\"}},\"annotationdefaults\":{\"arrowcolor\":\"#2a3f5f\",\"arrowhead\":0,\"arrowwidth\":1},\"geo\":{\"bgcolor\":\"white\",\"landcolor\":\"#E5ECF6\",\"subunitcolor\":\"white\",\"showland\":true,\"showlakes\":true,\"lakecolor\":\"white\"},\"title\":{\"x\":0.05},\"mapbox\":{\"style\":\"light\"}}},\"xaxis\":{\"anchor\":\"y\",\"domain\":[0.0,1.0],\"title\":{\"text\":\"Rating\"}},\"yaxis\":{\"anchor\":\"x\",\"domain\":[0.0,1.0],\"title\":{\"text\":\"Probability density\"}},\"legend\":{\"tracegroupgap\":0},\"margin\":{\"t\":60},\"barmode\":\"relative\",\"title\":{\"text\":\"Distribution of Ratings\",\"x\":0.5,\"pad\":{\"t\":20},\"font\":{\"size\":20}}},                        {\"responsive\": true}                    ).then(function(){\n",
              "                            \n",
              "var gd = document.getElementById('52a7acd4-51d6-45fe-9305-170b1a04e20c');\n",
              "var x = new MutationObserver(function (mutations, observer) {{\n",
              "        var display = window.getComputedStyle(gd).display;\n",
              "        if (!display || display === 'none') {{\n",
              "            console.log([gd, 'removed!']);\n",
              "            Plotly.purge(gd);\n",
              "            observer.disconnect();\n",
              "        }}\n",
              "}});\n",
              "\n",
              "// Listen for the removal of the full notebook cells\n",
              "var notebookContainer = gd.closest('#notebook-container');\n",
              "if (notebookContainer) {{\n",
              "    x.observe(notebookContainer, {childList: true});\n",
              "}}\n",
              "\n",
              "// Listen for the clearing of the current output cell\n",
              "var outputEl = gd.closest('.output');\n",
              "if (outputEl) {{\n",
              "    x.observe(outputEl, {childList: true});\n",
              "}}\n",
              "\n",
              "                        })                };                            </script>        </div>\n",
              "</body>\n",
              "</html>"
            ]
          },
          "metadata": {},
          "output_type": "display_data"
        }
      ],
      "source": [
        "rating_fig = px.histogram(df, x = 'Rating',histnorm = 'probability density',nbins =40)\n",
        "rating_fig.update_layout(title = 'Distribution of Ratings',title_x = 0.5,title_pad = dict(t=20),title_font=dict(size=20),xaxis_title='Rating',yaxis_title ='Probability density')\n",
        "rating_fig.show()"
      ]
    },
    {
      "cell_type": "code",
      "execution_count": 27,
      "metadata": {
        "id": "Evw9mvlunt4K"
      },
      "outputs": [],
      "source": [
        "from sklearn.model_selection import train_test_split,cross_val_score\n",
        "from sklearn.linear_model import LinearRegression\n",
        "from sklearn.metrics import accuracy_score,mean_absolute_error,mean_squared_error,r2_score"
      ]
    },
    {
      "cell_type": "code",
      "execution_count": 28,
      "metadata": {
        "id": "jPZFFyRXoJVN"
      },
      "outputs": [],
      "source": [
        "df.drop('Name',axis=1,inplace=True)"
      ]
    },
    {
      "cell_type": "code",
      "execution_count": 30,
      "metadata": {
        "id": "kKN5xMBRoZ4b"
      },
      "outputs": [],
      "source": [
        "genre_mean_rating = df.groupby('Genre')['Rating'].transform('mean')\n",
        "df['Genre_Mean_Rating'] = genre_mean_rating\n",
        "\n",
        "director_mean_rating = df.groupby('Director')['Rating'].transform('mean')\n",
        "df['Director_encoded'] = director_mean_rating\n",
        "\n",
        "actor1_mean_rating = df.groupby('Actor 1')['Rating'].transform('mean')\n",
        "df['Actor1_encoded'] = actor1_mean_rating\n",
        "\n",
        "actor2_mean_rating = df.groupby('Actor 2')['Rating'].transform('mean')\n",
        "df['Actor2_encoded'] = actor2_mean_rating\n",
        "\n",
        "actor3_mean_rating = df.groupby('Actor 3')['Rating'].transform('mean')\n",
        "df['Actor3_encoded'] = actor3_mean_rating"
      ]
    },
    {
      "cell_type": "code",
      "execution_count": 31,
      "metadata": {
        "id": "zMrMW0z9pjgm"
      },
      "outputs": [],
      "source": [
        "x = df[['Year','Votes','Duration','Genre_Mean_Rating','Director_encoded','Actor1_encoded','Actor2_encoded','Actor3_encoded']]\n",
        "y = df['Rating']"
      ]
    },
    {
      "cell_type": "code",
      "execution_count": 32,
      "metadata": {
        "id": "JHDg-XL5qOat"
      },
      "outputs": [],
      "source": [
        "x_train,x_test,y_train,y_test = train_test_split(x,y,test_size =0.2,random_state = 42)"
      ]
    },
    {
      "cell_type": "code",
      "execution_count": 34,
      "metadata": {
        "id": "ixETEYi1qajL"
      },
      "outputs": [],
      "source": [
        "ML = LinearRegression()\n",
        "ML.fit(x_train,y_train)\n",
        "ML_predict = ML.predict(x_test)"
      ]
    },
    {
      "cell_type": "code",
      "execution_count": 38,
      "metadata": {
        "colab": {
          "base_uri": "https://localhost:8080/"
        },
        "id": "tuVenKfhqyV-",
        "outputId": "f9024569-521b-49a7-be72-7ed5cc510414"
      },
      "outputs": [
        {
          "name": "stdout",
          "output_type": "stream",
          "text": [
            "The Perfomance evaluvation of Logistic Regression is below:  \n",
            "\n",
            "Mean Squared Error: 0.4463977880886115\n",
            "Mean absolute error : 0.4921055068501125\n",
            "R2 score :  0.7641906900948995\n"
          ]
        }
      ],
      "source": [
        "print('The Perfomance evaluvation of Logistic Regression is below: ', '\\n')\n",
        "print('Mean Squared Error:',mean_squared_error(y_test,ML_predict))\n",
        "print('Mean absolute error :',mean_absolute_error(y_test,ML_predict))\n",
        "print('R2 score : ',r2_score(y_test , ML_predict))"
      ]
    },
    {
      "cell_type": "code",
      "execution_count": 39,
      "metadata": {
        "colab": {
          "base_uri": "https://localhost:8080/",
          "height": 206
        },
        "id": "B1I4fAKorqG4",
        "outputId": "c078b085-1617-43ca-8197-a413f52a9117"
      },
      "outputs": [
        {
          "data": {
            "application/vnd.google.colaboratory.intrinsic+json": {
              "summary": "{\n  \"name\": \"x\",\n  \"rows\": 11979,\n  \"fields\": [\n    {\n      \"column\": \"Year\",\n      \"properties\": {\n        \"dtype\": \"number\",\n        \"std\": 19,\n        \"min\": 1931,\n        \"max\": 2021,\n        \"num_unique_values\": 91,\n        \"samples\": [\n          1990,\n          1974,\n          1970\n        ],\n        \"semantic_type\": \"\",\n        \"description\": \"\"\n      }\n    },\n    {\n      \"column\": \"Votes\",\n      \"properties\": {\n        \"dtype\": \"number\",\n        \"std\": 15305,\n        \"min\": 5,\n        \"max\": 591417,\n        \"num_unique_values\": 2027,\n        \"samples\": [\n          2534,\n          8372,\n          21773\n        ],\n        \"semantic_type\": \"\",\n        \"description\": \"\"\n      }\n    },\n    {\n      \"column\": \"Duration\",\n      \"properties\": {\n        \"dtype\": \"number\",\n        \"std\": 25,\n        \"min\": 21,\n        \"max\": 321,\n        \"num_unique_values\": 174,\n        \"samples\": [\n          197,\n          247,\n          86\n        ],\n        \"semantic_type\": \"\",\n        \"description\": \"\"\n      }\n    },\n    {\n      \"column\": \"Genre_Mean_Rating\",\n      \"properties\": {\n        \"dtype\": \"number\",\n        \"std\": 0.34438751723805816,\n        \"min\": 4.333333333333333,\n        \"max\": 8.0,\n        \"num_unique_values\": 40,\n        \"samples\": [\n          6.327197802197802,\n          5.1000000000000005,\n          6.181904761904762\n        ],\n        \"semantic_type\": \"\",\n        \"description\": \"\"\n      }\n    },\n    {\n      \"column\": \"Director_encoded\",\n      \"properties\": {\n        \"dtype\": \"number\",\n        \"std\": 1.097723217523055,\n        \"min\": 1.6,\n        \"max\": 10.0,\n        \"num_unique_values\": 654,\n        \"samples\": [\n          6.270588235294118,\n          5.400000000000001,\n          5.455555555555556\n        ],\n        \"semantic_type\": \"\",\n        \"description\": \"\"\n      }\n    },\n    {\n      \"column\": \"Actor1_encoded\",\n      \"properties\": {\n        \"dtype\": \"number\",\n        \"std\": 1.0018932461598078,\n        \"min\": 1.4,\n        \"max\": 10.0,\n        \"num_unique_values\": 496,\n        \"samples\": [\n          5.199999999999999,\n          8.0,\n          6.400000000000001\n        ],\n        \"semantic_type\": \"\",\n        \"description\": \"\"\n      }\n    },\n    {\n      \"column\": \"Actor2_encoded\",\n      \"properties\": {\n        \"dtype\": \"number\",\n        \"std\": 1.033033590425124,\n        \"min\": 1.6,\n        \"max\": 10.0,\n        \"num_unique_values\": 593,\n        \"samples\": [\n          6.1,\n          8.0,\n          6.74\n        ],\n        \"semantic_type\": \"\",\n        \"description\": \"\"\n      }\n    },\n    {\n      \"column\": \"Actor3_encoded\",\n      \"properties\": {\n        \"dtype\": \"number\",\n        \"std\": 1.0460841819887676,\n        \"min\": 1.7,\n        \"max\": 10.0,\n        \"num_unique_values\": 624,\n        \"samples\": [\n          6.975,\n          6.9750000000000005,\n          5.136363636363637\n        ],\n        \"semantic_type\": \"\",\n        \"description\": \"\"\n      }\n    }\n  ]\n}",
              "type": "dataframe",
              "variable_name": "x"
            },
            "text/html": [
              "\n",
              "  <div id=\"df-aa4e738b-b77b-4d0d-8fec-759ac65b4521\" class=\"colab-df-container\">\n",
              "    <div>\n",
              "<style scoped>\n",
              "    .dataframe tbody tr th:only-of-type {\n",
              "        vertical-align: middle;\n",
              "    }\n",
              "\n",
              "    .dataframe tbody tr th {\n",
              "        vertical-align: top;\n",
              "    }\n",
              "\n",
              "    .dataframe thead th {\n",
              "        text-align: right;\n",
              "    }\n",
              "</style>\n",
              "<table border=\"1\" class=\"dataframe\">\n",
              "  <thead>\n",
              "    <tr style=\"text-align: right;\">\n",
              "      <th></th>\n",
              "      <th>Year</th>\n",
              "      <th>Votes</th>\n",
              "      <th>Duration</th>\n",
              "      <th>Genre_Mean_Rating</th>\n",
              "      <th>Director_encoded</th>\n",
              "      <th>Actor1_encoded</th>\n",
              "      <th>Actor2_encoded</th>\n",
              "      <th>Actor3_encoded</th>\n",
              "    </tr>\n",
              "  </thead>\n",
              "  <tbody>\n",
              "    <tr>\n",
              "      <th>1</th>\n",
              "      <td>2019</td>\n",
              "      <td>8</td>\n",
              "      <td>109</td>\n",
              "      <td>6.248697</td>\n",
              "      <td>7.000000</td>\n",
              "      <td>6.850000</td>\n",
              "      <td>7.00</td>\n",
              "      <td>7.00</td>\n",
              "    </tr>\n",
              "    <tr>\n",
              "      <th>3</th>\n",
              "      <td>2019</td>\n",
              "      <td>35</td>\n",
              "      <td>110</td>\n",
              "      <td>5.838423</td>\n",
              "      <td>4.400000</td>\n",
              "      <td>5.250000</td>\n",
              "      <td>4.40</td>\n",
              "      <td>4.46</td>\n",
              "    </tr>\n",
              "    <tr>\n",
              "      <th>3</th>\n",
              "      <td>2019</td>\n",
              "      <td>35</td>\n",
              "      <td>110</td>\n",
              "      <td>5.838739</td>\n",
              "      <td>4.400000</td>\n",
              "      <td>5.250000</td>\n",
              "      <td>4.40</td>\n",
              "      <td>4.46</td>\n",
              "    </tr>\n",
              "    <tr>\n",
              "      <th>5</th>\n",
              "      <td>1997</td>\n",
              "      <td>827</td>\n",
              "      <td>147</td>\n",
              "      <td>5.838423</td>\n",
              "      <td>5.335135</td>\n",
              "      <td>4.793617</td>\n",
              "      <td>5.73</td>\n",
              "      <td>5.93</td>\n",
              "    </tr>\n",
              "    <tr>\n",
              "      <th>5</th>\n",
              "      <td>1997</td>\n",
              "      <td>827</td>\n",
              "      <td>147</td>\n",
              "      <td>5.875793</td>\n",
              "      <td>5.335135</td>\n",
              "      <td>4.793617</td>\n",
              "      <td>5.73</td>\n",
              "      <td>5.93</td>\n",
              "    </tr>\n",
              "  </tbody>\n",
              "</table>\n",
              "</div>\n",
              "    <div class=\"colab-df-buttons\">\n",
              "\n",
              "  <div class=\"colab-df-container\">\n",
              "    <button class=\"colab-df-convert\" onclick=\"convertToInteractive('df-aa4e738b-b77b-4d0d-8fec-759ac65b4521')\"\n",
              "            title=\"Convert this dataframe to an interactive table.\"\n",
              "            style=\"display:none;\">\n",
              "\n",
              "  <svg xmlns=\"http://www.w3.org/2000/svg\" height=\"24px\" viewBox=\"0 -960 960 960\">\n",
              "    <path d=\"M120-120v-720h720v720H120Zm60-500h600v-160H180v160Zm220 220h160v-160H400v160Zm0 220h160v-160H400v160ZM180-400h160v-160H180v160Zm440 0h160v-160H620v160ZM180-180h160v-160H180v160Zm440 0h160v-160H620v160Z\"/>\n",
              "  </svg>\n",
              "    </button>\n",
              "\n",
              "  <style>\n",
              "    .colab-df-container {\n",
              "      display:flex;\n",
              "      gap: 12px;\n",
              "    }\n",
              "\n",
              "    .colab-df-convert {\n",
              "      background-color: #E8F0FE;\n",
              "      border: none;\n",
              "      border-radius: 50%;\n",
              "      cursor: pointer;\n",
              "      display: none;\n",
              "      fill: #1967D2;\n",
              "      height: 32px;\n",
              "      padding: 0 0 0 0;\n",
              "      width: 32px;\n",
              "    }\n",
              "\n",
              "    .colab-df-convert:hover {\n",
              "      background-color: #E2EBFA;\n",
              "      box-shadow: 0px 1px 2px rgba(60, 64, 67, 0.3), 0px 1px 3px 1px rgba(60, 64, 67, 0.15);\n",
              "      fill: #174EA6;\n",
              "    }\n",
              "\n",
              "    .colab-df-buttons div {\n",
              "      margin-bottom: 4px;\n",
              "    }\n",
              "\n",
              "    [theme=dark] .colab-df-convert {\n",
              "      background-color: #3B4455;\n",
              "      fill: #D2E3FC;\n",
              "    }\n",
              "\n",
              "    [theme=dark] .colab-df-convert:hover {\n",
              "      background-color: #434B5C;\n",
              "      box-shadow: 0px 1px 3px 1px rgba(0, 0, 0, 0.15);\n",
              "      filter: drop-shadow(0px 1px 2px rgba(0, 0, 0, 0.3));\n",
              "      fill: #FFFFFF;\n",
              "    }\n",
              "  </style>\n",
              "\n",
              "    <script>\n",
              "      const buttonEl =\n",
              "        document.querySelector('#df-aa4e738b-b77b-4d0d-8fec-759ac65b4521 button.colab-df-convert');\n",
              "      buttonEl.style.display =\n",
              "        google.colab.kernel.accessAllowed ? 'block' : 'none';\n",
              "\n",
              "      async function convertToInteractive(key) {\n",
              "        const element = document.querySelector('#df-aa4e738b-b77b-4d0d-8fec-759ac65b4521');\n",
              "        const dataTable =\n",
              "          await google.colab.kernel.invokeFunction('convertToInteractive',\n",
              "                                                    [key], {});\n",
              "        if (!dataTable) return;\n",
              "\n",
              "        const docLinkHtml = 'Like what you see? Visit the ' +\n",
              "          '<a target=\"_blank\" href=https://colab.research.google.com/notebooks/data_table.ipynb>data table notebook</a>'\n",
              "          + ' to learn more about interactive tables.';\n",
              "        element.innerHTML = '';\n",
              "        dataTable['output_type'] = 'display_data';\n",
              "        await google.colab.output.renderOutput(dataTable, element);\n",
              "        const docLink = document.createElement('div');\n",
              "        docLink.innerHTML = docLinkHtml;\n",
              "        element.appendChild(docLink);\n",
              "      }\n",
              "    </script>\n",
              "  </div>\n",
              "\n",
              "\n",
              "<div id=\"df-29f171e0-15aa-4d4c-a916-ac1352895989\">\n",
              "  <button class=\"colab-df-quickchart\" onclick=\"quickchart('df-29f171e0-15aa-4d4c-a916-ac1352895989')\"\n",
              "            title=\"Suggest charts\"\n",
              "            style=\"display:none;\">\n",
              "\n",
              "<svg xmlns=\"http://www.w3.org/2000/svg\" height=\"24px\"viewBox=\"0 0 24 24\"\n",
              "     width=\"24px\">\n",
              "    <g>\n",
              "        <path d=\"M19 3H5c-1.1 0-2 .9-2 2v14c0 1.1.9 2 2 2h14c1.1 0 2-.9 2-2V5c0-1.1-.9-2-2-2zM9 17H7v-7h2v7zm4 0h-2V7h2v10zm4 0h-2v-4h2v4z\"/>\n",
              "    </g>\n",
              "</svg>\n",
              "  </button>\n",
              "\n",
              "<style>\n",
              "  .colab-df-quickchart {\n",
              "      --bg-color: #E8F0FE;\n",
              "      --fill-color: #1967D2;\n",
              "      --hover-bg-color: #E2EBFA;\n",
              "      --hover-fill-color: #174EA6;\n",
              "      --disabled-fill-color: #AAA;\n",
              "      --disabled-bg-color: #DDD;\n",
              "  }\n",
              "\n",
              "  [theme=dark] .colab-df-quickchart {\n",
              "      --bg-color: #3B4455;\n",
              "      --fill-color: #D2E3FC;\n",
              "      --hover-bg-color: #434B5C;\n",
              "      --hover-fill-color: #FFFFFF;\n",
              "      --disabled-bg-color: #3B4455;\n",
              "      --disabled-fill-color: #666;\n",
              "  }\n",
              "\n",
              "  .colab-df-quickchart {\n",
              "    background-color: var(--bg-color);\n",
              "    border: none;\n",
              "    border-radius: 50%;\n",
              "    cursor: pointer;\n",
              "    display: none;\n",
              "    fill: var(--fill-color);\n",
              "    height: 32px;\n",
              "    padding: 0;\n",
              "    width: 32px;\n",
              "  }\n",
              "\n",
              "  .colab-df-quickchart:hover {\n",
              "    background-color: var(--hover-bg-color);\n",
              "    box-shadow: 0 1px 2px rgba(60, 64, 67, 0.3), 0 1px 3px 1px rgba(60, 64, 67, 0.15);\n",
              "    fill: var(--button-hover-fill-color);\n",
              "  }\n",
              "\n",
              "  .colab-df-quickchart-complete:disabled,\n",
              "  .colab-df-quickchart-complete:disabled:hover {\n",
              "    background-color: var(--disabled-bg-color);\n",
              "    fill: var(--disabled-fill-color);\n",
              "    box-shadow: none;\n",
              "  }\n",
              "\n",
              "  .colab-df-spinner {\n",
              "    border: 2px solid var(--fill-color);\n",
              "    border-color: transparent;\n",
              "    border-bottom-color: var(--fill-color);\n",
              "    animation:\n",
              "      spin 1s steps(1) infinite;\n",
              "  }\n",
              "\n",
              "  @keyframes spin {\n",
              "    0% {\n",
              "      border-color: transparent;\n",
              "      border-bottom-color: var(--fill-color);\n",
              "      border-left-color: var(--fill-color);\n",
              "    }\n",
              "    20% {\n",
              "      border-color: transparent;\n",
              "      border-left-color: var(--fill-color);\n",
              "      border-top-color: var(--fill-color);\n",
              "    }\n",
              "    30% {\n",
              "      border-color: transparent;\n",
              "      border-left-color: var(--fill-color);\n",
              "      border-top-color: var(--fill-color);\n",
              "      border-right-color: var(--fill-color);\n",
              "    }\n",
              "    40% {\n",
              "      border-color: transparent;\n",
              "      border-right-color: var(--fill-color);\n",
              "      border-top-color: var(--fill-color);\n",
              "    }\n",
              "    60% {\n",
              "      border-color: transparent;\n",
              "      border-right-color: var(--fill-color);\n",
              "    }\n",
              "    80% {\n",
              "      border-color: transparent;\n",
              "      border-right-color: var(--fill-color);\n",
              "      border-bottom-color: var(--fill-color);\n",
              "    }\n",
              "    90% {\n",
              "      border-color: transparent;\n",
              "      border-bottom-color: var(--fill-color);\n",
              "    }\n",
              "  }\n",
              "</style>\n",
              "\n",
              "  <script>\n",
              "    async function quickchart(key) {\n",
              "      const quickchartButtonEl =\n",
              "        document.querySelector('#' + key + ' button');\n",
              "      quickchartButtonEl.disabled = true;  // To prevent multiple clicks.\n",
              "      quickchartButtonEl.classList.add('colab-df-spinner');\n",
              "      try {\n",
              "        const charts = await google.colab.kernel.invokeFunction(\n",
              "            'suggestCharts', [key], {});\n",
              "      } catch (error) {\n",
              "        console.error('Error during call to suggestCharts:', error);\n",
              "      }\n",
              "      quickchartButtonEl.classList.remove('colab-df-spinner');\n",
              "      quickchartButtonEl.classList.add('colab-df-quickchart-complete');\n",
              "    }\n",
              "    (() => {\n",
              "      let quickchartButtonEl =\n",
              "        document.querySelector('#df-29f171e0-15aa-4d4c-a916-ac1352895989 button');\n",
              "      quickchartButtonEl.style.display =\n",
              "        google.colab.kernel.accessAllowed ? 'block' : 'none';\n",
              "    })();\n",
              "  </script>\n",
              "</div>\n",
              "\n",
              "    </div>\n",
              "  </div>\n"
            ],
            "text/plain": [
              "   Year  Votes  Duration  Genre_Mean_Rating  Director_encoded  Actor1_encoded  \\\n",
              "1  2019      8       109           6.248697          7.000000        6.850000   \n",
              "3  2019     35       110           5.838423          4.400000        5.250000   \n",
              "3  2019     35       110           5.838739          4.400000        5.250000   \n",
              "5  1997    827       147           5.838423          5.335135        4.793617   \n",
              "5  1997    827       147           5.875793          5.335135        4.793617   \n",
              "\n",
              "   Actor2_encoded  Actor3_encoded  \n",
              "1            7.00            7.00  \n",
              "3            4.40            4.46  \n",
              "3            4.40            4.46  \n",
              "5            5.73            5.93  \n",
              "5            5.73            5.93  "
            ]
          },
          "execution_count": 39,
          "metadata": {},
          "output_type": "execute_result"
        }
      ],
      "source": [
        "x.head()"
      ]
    },
    {
      "cell_type": "code",
      "execution_count": 40,
      "metadata": {
        "colab": {
          "base_uri": "https://localhost:8080/"
        },
        "id": "rxN7Vp3wstrY",
        "outputId": "0a12d0de-8605-49eb-b22b-d6ba5e03ef62"
      },
      "outputs": [
        {
          "data": {
            "text/plain": [
              "1    7.0\n",
              "3    4.4\n",
              "3    4.4\n",
              "5    4.7\n",
              "5    4.7\n",
              "Name: Rating, dtype: float64"
            ]
          },
          "execution_count": 40,
          "metadata": {},
          "output_type": "execute_result"
        }
      ],
      "source": [
        "y.head()"
      ]
    },
    {
      "cell_type": "code",
      "execution_count": 41,
      "metadata": {
        "id": "1pw0QFbfsxMo"
      },
      "outputs": [],
      "source": [
        "data = {'Year':[2019],'Votes':[36],'Duration':[111],'Genre_mean_rating':[5.8],'Director_encoded':[4.5],'Actor1_encoded':[5.3],'Actor2_encoded':[4.5],'Actor3_encoded':[4.5]}\n",
        "trail = pd.DataFrame(data)"
      ]
    },
    {
      "cell_type": "code",
      "execution_count": 47,
      "metadata": {
        "colab": {
          "base_uri": "https://localhost:8080/"
        },
        "id": "ulyPuaYHvLLi",
        "outputId": "5a6ec016-bc73-4808-9a47-caa08983e861"
      },
      "outputs": [
        {
          "name": "stdout",
          "output_type": "stream",
          "text": [
            "Predicted Rating : 4.207758858584072\n"
          ]
        }
      ],
      "source": [
        "trail = trail.rename(columns={'Genre_mean_rating': 'Genre_Mean_Rating'})\n",
        "\n",
        "rating_predicted = ML.predict(trail)\n",
        "print('Predicted Rating :',rating_predicted[0])"
      ]
    }
  ],
  "metadata": {
    "colab": {
      "provenance": []
    },
    "kernelspec": {
      "display_name": "Python 3",
      "name": "python3"
    },
    "language_info": {
      "name": "python"
    }
  },
  "nbformat": 4,
  "nbformat_minor": 0
}
